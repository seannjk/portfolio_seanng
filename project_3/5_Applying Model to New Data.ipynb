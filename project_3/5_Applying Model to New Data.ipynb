{
 "cells": [
  {
   "cell_type": "markdown",
   "id": "3796c59f",
   "metadata": {},
   "source": [
    "## 5.1 Creating test dataframe to test Logreg model"
   ]
  },
  {
   "cell_type": "code",
   "execution_count": 47,
   "id": "e7175420",
   "metadata": {
    "collapsed": true
   },
   "outputs": [
    {
     "name": "stdout",
     "output_type": "stream",
     "text": [
      "Requirement already satisfied: psaw in /opt/anaconda3/lib/python3.8/site-packages (0.1.0)\r\n",
      "Requirement already satisfied: Click in /opt/anaconda3/lib/python3.8/site-packages (from psaw) (7.1.2)\r\n",
      "Requirement already satisfied: requests in /opt/anaconda3/lib/python3.8/site-packages (from psaw) (2.25.1)\r\n",
      "Requirement already satisfied: certifi>=2017.4.17 in /opt/anaconda3/lib/python3.8/site-packages (from requests->psaw) (2020.6.20)\r\n",
      "Requirement already satisfied: idna<3,>=2.5 in /opt/anaconda3/lib/python3.8/site-packages (from requests->psaw) (2.10)\r\n",
      "Requirement already satisfied: urllib3<1.27,>=1.21.1 in /opt/anaconda3/lib/python3.8/site-packages (from requests->psaw) (1.26.4)\r\n",
      "Requirement already satisfied: chardet<5,>=3.0.2 in /opt/anaconda3/lib/python3.8/site-packages (from requests->psaw) (4.0.0)\r\n"
     ]
    }
   ],
   "source": [
    "# imports\n",
    "import requests\n",
    "import re\n",
    "import string\n",
    "import spacy\n",
    "import pandas as pd\n",
    "import numpy as np\n",
    "import matplotlib.pyplot as plt\n",
    "%matplotlib inline\n",
    "import seaborn as sns\n",
    "import nltk\n",
    "from nltk import pos_tag\n",
    "from nltk.stem import PorterStemmer, LancasterStemmer, WordNetLemmatizer\n",
    "from nltk.corpus import stopwords\n",
    "from nltk.tokenize import regexp_tokenize, word_tokenize, RegexpTokenizer\n",
    "import sklearn.feature_extraction.text \n",
    "from sklearn.feature_extraction.text import TfidfVectorizer, TfidfTransformer, CountVectorizer\n",
    "from sklearn.model_selection import train_test_split\n",
    "from sklearn.pipeline import Pipeline\n",
    "from sklearn.ensemble import RandomForestClassifier\n",
    "from sklearn.metrics import confusion_matrix, mean_squared_error, classification_report\n",
    "from sklearn.metrics import accuracy_score, precision_score, recall_score, f1_score, roc_auc_score\n",
    "\n",
    "\n",
    "# this setting widens how many characters pandas will display in a column:\n",
    "pd.options.display.max_colwidth = 400\n",
    "\n",
    "# Import CountVectorizer and TFIDFVectorizer from feature_extraction.text.\n",
    "import sklearn.feature_extraction.text \n",
    "from sklearn.feature_extraction.text import TfidfVectorizer, TfidfTransformer, CountVectorizer\n",
    "\n",
    "from sklearn.ensemble import RandomForestClassifier\n",
    "from sklearn.metrics import plot_confusion_matrix, confusion_matrix, mean_squared_error, classification_report\n",
    "from sklearn.metrics import accuracy_score, precision_score, recall_score, f1_score, roc_auc_score, plot_roc_curve\n",
    "!pip install psaw"
   ]
  },
  {
   "cell_type": "code",
   "execution_count": 3,
   "id": "ee89288e",
   "metadata": {},
   "outputs": [],
   "source": [
    "#Instantiating API\n",
    "from psaw import PushshiftAPI\n",
    "api = PushshiftAPI()"
   ]
  },
  {
   "cell_type": "code",
   "execution_count": 4,
   "id": "2bb160d0",
   "metadata": {},
   "outputs": [
    {
     "name": "stderr",
     "output_type": "stream",
     "text": [
      "/opt/anaconda3/lib/python3.8/site-packages/psaw/PushshiftAPI.py:252: UserWarning: Not all PushShift shards are active. Query results may be incomplete\n",
      "  warnings.warn(shards_down_message)\n"
     ]
    }
   ],
   "source": [
    "most_recent_subs = api.search_submissions(limit=50)\n",
    "results = list(most_recent_subs)"
   ]
  },
  {
   "cell_type": "code",
   "execution_count": 5,
   "id": "d65a3152",
   "metadata": {},
   "outputs": [
    {
     "data": {
      "text/plain": [
       "psaw.PushshiftAPI.submission"
      ]
     },
     "execution_count": 5,
     "metadata": {},
     "output_type": "execute_result"
    }
   ],
   "source": [
    "type(results[0])"
   ]
  },
  {
   "cell_type": "code",
   "execution_count": 6,
   "id": "466d6554",
   "metadata": {},
   "outputs": [
    {
     "data": {
      "text/plain": [
       "{'all_awardings': [],\n",
       " 'allow_live_comments': False,\n",
       " 'author': 'Ty3hirty',\n",
       " 'author_flair_css_class': None,\n",
       " 'author_flair_richtext': [],\n",
       " 'author_flair_text': None,\n",
       " 'author_flair_type': 'text',\n",
       " 'author_fullname': 't2_fp9s0jmp',\n",
       " 'author_is_blocked': False,\n",
       " 'author_patreon_flair': False,\n",
       " 'author_premium': False,\n",
       " 'awarders': [],\n",
       " 'can_mod_post': False,\n",
       " 'contest_mode': False,\n",
       " 'created_utc': 1643170690,\n",
       " 'domain': 'open.spotify.com',\n",
       " 'full_link': 'https://www.reddit.com/r/hiphopheads/comments/scx31w/otf_chicago_playlist_durk_von/',\n",
       " 'gildings': {},\n",
       " 'id': 'scx31w',\n",
       " 'is_created_from_ads_ui': False,\n",
       " 'is_crosspostable': False,\n",
       " 'is_meta': False,\n",
       " 'is_original_content': False,\n",
       " 'is_reddit_media_domain': False,\n",
       " 'is_robot_indexable': False,\n",
       " 'is_self': False,\n",
       " 'is_video': False,\n",
       " 'link_flair_background_color': '',\n",
       " 'link_flair_richtext': [],\n",
       " 'link_flair_text_color': 'dark',\n",
       " 'link_flair_type': 'text',\n",
       " 'locked': False,\n",
       " 'media': {'oembed': {'description': 'Listen on Spotify: contact on Instagram @Ty3hirty #Lil durk durkio Chicago OTF 300 600 R.I.P VON drill THE VOICE rap hip hop vibes Gucci mane Atlanta zone 6',\n",
       "   'height': 380,\n",
       "   'html': '&lt;iframe class=\"embedly-embed\" src=\"https://cdn.embedly.com/widgets/media.html?src=https%3A%2F%2Fopen.spotify.com%2Fembed%2Fplaylist%2F5e0D4VisT3ezYMxW7TCbBX%3Futm_source%3Doembed&amp;display_name=Spotify&amp;url=https%3A%2F%2Fopen.spotify.com%2Fplaylist%2F5e0D4VisT3ezYMxW7TCbBX&amp;image=https%3A%2F%2Fi.scdn.co%2Fimage%2Fab67706c0000bebb8104fdb374f25fa31ff2b5b3&amp;key=ed8fa8699ce04833838e66ce79ba05f1&amp;type=text%2Fhtml&amp;schema=spotify\" width=\"456\" height=\"380\" scrolling=\"no\" title=\"Spotify embed\" frameborder=\"0\" allow=\"autoplay; fullscreen\" allowfullscreen=\"true\"&gt;&lt;/iframe&gt;',\n",
       "   'provider_name': 'Spotify',\n",
       "   'provider_url': 'https://spotify.com',\n",
       "   'thumbnail_height': 260,\n",
       "   'thumbnail_url': 'https://i.scdn.co/image/ab67706c0000bebb8104fdb374f25fa31ff2b5b3',\n",
       "   'thumbnail_width': 260,\n",
       "   'title': 'Rumors-Gucci mane lil durk 7220',\n",
       "   'type': 'rich',\n",
       "   'version': '1.0',\n",
       "   'width': 456},\n",
       "  'type': 'open.spotify.com'},\n",
       " 'media_embed': {'content': '&lt;iframe class=\"embedly-embed\" src=\"https://cdn.embedly.com/widgets/media.html?src=https%3A%2F%2Fopen.spotify.com%2Fembed%2Fplaylist%2F5e0D4VisT3ezYMxW7TCbBX%3Futm_source%3Doembed&amp;display_name=Spotify&amp;url=https%3A%2F%2Fopen.spotify.com%2Fplaylist%2F5e0D4VisT3ezYMxW7TCbBX&amp;image=https%3A%2F%2Fi.scdn.co%2Fimage%2Fab67706c0000bebb8104fdb374f25fa31ff2b5b3&amp;key=ed8fa8699ce04833838e66ce79ba05f1&amp;type=text%2Fhtml&amp;schema=spotify\" width=\"456\" height=\"380\" scrolling=\"no\" title=\"Spotify embed\" frameborder=\"0\" allow=\"autoplay; fullscreen\" allowfullscreen=\"true\"&gt;&lt;/iframe&gt;',\n",
       "  'height': 380,\n",
       "  'scrolling': False,\n",
       "  'width': 456},\n",
       " 'media_only': False,\n",
       " 'no_follow': True,\n",
       " 'num_comments': 0,\n",
       " 'num_crossposts': 0,\n",
       " 'over_18': False,\n",
       " 'parent_whitelist_status': 'all_ads',\n",
       " 'permalink': '/r/hiphopheads/comments/scx31w/otf_chicago_playlist_durk_von/',\n",
       " 'pinned': False,\n",
       " 'post_hint': 'link',\n",
       " 'preview': {'enabled': False,\n",
       "  'images': [{'id': 'LXL3goXDnAYzBgYJgFnuGJ2OrS7QK-UeIMQH1YMA_6U',\n",
       "    'resolutions': [{'height': 108,\n",
       "      'url': 'https://external-preview.redd.it/QWLXPNcYWCN0ZcxRbDWt936Kpk-6NLHFJ70A7ktPtJw.jpg?width=108&amp;crop=smart&amp;auto=webp&amp;s=57b41f84c74e02a749994b74f656a10bf9d33ba1',\n",
       "      'width': 108},\n",
       "     {'height': 216,\n",
       "      'url': 'https://external-preview.redd.it/QWLXPNcYWCN0ZcxRbDWt936Kpk-6NLHFJ70A7ktPtJw.jpg?width=216&amp;crop=smart&amp;auto=webp&amp;s=f6cf40a10ce5c712b1b42c62186bac6d4bf84f79',\n",
       "      'width': 216}],\n",
       "    'source': {'height': 260,\n",
       "     'url': 'https://external-preview.redd.it/QWLXPNcYWCN0ZcxRbDWt936Kpk-6NLHFJ70A7ktPtJw.jpg?auto=webp&amp;s=dabf374c94531c8f7048d181c2cbdbdacbe745e1',\n",
       "     'width': 260},\n",
       "    'variants': {}}]},\n",
       " 'pwls': 6,\n",
       " 'removed_by_category': 'moderator',\n",
       " 'retrieved_on': 1643170700,\n",
       " 'score': 1,\n",
       " 'secure_media': {'oembed': {'description': 'Listen on Spotify: contact on Instagram @Ty3hirty #Lil durk durkio Chicago OTF 300 600 R.I.P VON drill THE VOICE rap hip hop vibes Gucci mane Atlanta zone 6',\n",
       "   'height': 380,\n",
       "   'html': '&lt;iframe class=\"embedly-embed\" src=\"https://cdn.embedly.com/widgets/media.html?src=https%3A%2F%2Fopen.spotify.com%2Fembed%2Fplaylist%2F5e0D4VisT3ezYMxW7TCbBX%3Futm_source%3Doembed&amp;display_name=Spotify&amp;url=https%3A%2F%2Fopen.spotify.com%2Fplaylist%2F5e0D4VisT3ezYMxW7TCbBX&amp;image=https%3A%2F%2Fi.scdn.co%2Fimage%2Fab67706c0000bebb8104fdb374f25fa31ff2b5b3&amp;key=ed8fa8699ce04833838e66ce79ba05f1&amp;type=text%2Fhtml&amp;schema=spotify\" width=\"456\" height=\"380\" scrolling=\"no\" title=\"Spotify embed\" frameborder=\"0\" allow=\"autoplay; fullscreen\" allowfullscreen=\"true\"&gt;&lt;/iframe&gt;',\n",
       "   'provider_name': 'Spotify',\n",
       "   'provider_url': 'https://spotify.com',\n",
       "   'thumbnail_height': 260,\n",
       "   'thumbnail_url': 'https://i.scdn.co/image/ab67706c0000bebb8104fdb374f25fa31ff2b5b3',\n",
       "   'thumbnail_width': 260,\n",
       "   'title': 'Rumors-Gucci mane lil durk 7220',\n",
       "   'type': 'rich',\n",
       "   'version': '1.0',\n",
       "   'width': 456},\n",
       "  'type': 'open.spotify.com'},\n",
       " 'secure_media_embed': {'content': '&lt;iframe class=\"embedly-embed\" src=\"https://cdn.embedly.com/widgets/media.html?src=https%3A%2F%2Fopen.spotify.com%2Fembed%2Fplaylist%2F5e0D4VisT3ezYMxW7TCbBX%3Futm_source%3Doembed&amp;display_name=Spotify&amp;url=https%3A%2F%2Fopen.spotify.com%2Fplaylist%2F5e0D4VisT3ezYMxW7TCbBX&amp;image=https%3A%2F%2Fi.scdn.co%2Fimage%2Fab67706c0000bebb8104fdb374f25fa31ff2b5b3&amp;key=ed8fa8699ce04833838e66ce79ba05f1&amp;type=text%2Fhtml&amp;schema=spotify\" width=\"456\" height=\"380\" scrolling=\"no\" title=\"Spotify embed\" frameborder=\"0\" allow=\"autoplay; fullscreen\" allowfullscreen=\"true\"&gt;&lt;/iframe&gt;',\n",
       "  'height': 380,\n",
       "  'media_domain_url': 'https://www.redditmedia.com/mediaembed/scx31w',\n",
       "  'scrolling': False,\n",
       "  'width': 456},\n",
       " 'selftext': '',\n",
       " 'send_replies': True,\n",
       " 'spoiler': False,\n",
       " 'stickied': False,\n",
       " 'subreddit': 'hiphopheads',\n",
       " 'subreddit_id': 't5_2rh4c',\n",
       " 'subreddit_subscribers': 2023588,\n",
       " 'subreddit_type': 'public',\n",
       " 'suggested_sort': 'confidence',\n",
       " 'thumbnail': 'default',\n",
       " 'thumbnail_height': 140,\n",
       " 'thumbnail_width': 140,\n",
       " 'title': 'OTF Chicago playlist #durk #Von',\n",
       " 'total_awards_received': 0,\n",
       " 'treatment_tags': [],\n",
       " 'upvote_ratio': 1.0,\n",
       " 'url': 'https://open.spotify.com/playlist/5e0D4VisT3ezYMxW7TCbBX?si=SwvU6hpdSZShGtqZR8oqbw',\n",
       " 'url_overridden_by_dest': 'https://open.spotify.com/playlist/5e0D4VisT3ezYMxW7TCbBX?si=SwvU6hpdSZShGtqZR8oqbw',\n",
       " 'whitelist_status': 'all_ads',\n",
       " 'wls': 6,\n",
       " 'created': 1643141890.0}"
      ]
     },
     "execution_count": 6,
     "metadata": {},
     "output_type": "execute_result"
    }
   ],
   "source": [
    "#check different attributes for this particular submission\n",
    "results[0].d_"
   ]
  },
  {
   "cell_type": "code",
   "execution_count": 7,
   "id": "84964977",
   "metadata": {},
   "outputs": [],
   "source": [
    "import datetime\n",
    "posted_after = int(datetime.datetime(2010, 1, 1).timestamp())\n",
    "posted_before = int(datetime.datetime(2010, 12, 31).timestamp()) #1 year's worth in 2010\n"
   ]
  },
  {
   "cell_type": "code",
   "execution_count": 8,
   "id": "a01045e1",
   "metadata": {},
   "outputs": [],
   "source": [
    "query = api.search_submissions(subreddit='cats', after=posted_after, before=posted_before, limit=10000)"
   ]
  },
  {
   "cell_type": "code",
   "execution_count": 9,
   "id": "727c6553",
   "metadata": {},
   "outputs": [
    {
     "name": "stdout",
     "output_type": "stream",
     "text": [
      "1589\n"
     ]
    }
   ],
   "source": [
    "submissions = list()\n",
    "for element in query:\n",
    "    submissions.append(element.d_)\n",
    "print(len(submissions))"
   ]
  },
  {
   "cell_type": "code",
   "execution_count": 10,
   "id": "34e1174b",
   "metadata": {},
   "outputs": [],
   "source": [
    "testdf_cats = pd.DataFrame(submissions)"
   ]
  },
  {
   "cell_type": "code",
   "execution_count": 11,
   "id": "81d2c18a",
   "metadata": {
    "scrolled": true
   },
   "outputs": [
    {
     "name": "stdout",
     "output_type": "stream",
     "text": [
      "<class 'pandas.core.frame.DataFrame'>\n",
      "RangeIndex: 1589 entries, 0 to 1588\n",
      "Data columns (total 58 columns):\n",
      " #   Column                         Non-Null Count  Dtype  \n",
      "---  ------                         --------------  -----  \n",
      " 0   author                         1589 non-null   object \n",
      " 1   author_flair_background_color  499 non-null    object \n",
      " 2   author_flair_css_class         33 non-null     object \n",
      " 3   author_flair_text              33 non-null     object \n",
      " 4   author_flair_text_color        499 non-null    object \n",
      " 5   brand_safe                     1589 non-null   bool   \n",
      " 6   contest_mode                   1589 non-null   bool   \n",
      " 7   created_utc                    1589 non-null   int64  \n",
      " 8   domain                         1589 non-null   object \n",
      " 9   full_link                      1589 non-null   object \n",
      " 10  gilded                         1589 non-null   int64  \n",
      " 11  id                             1589 non-null   object \n",
      " 12  is_crosspostable               1589 non-null   bool   \n",
      " 13  is_original_content            636 non-null    object \n",
      " 14  is_reddit_media_domain         1589 non-null   bool   \n",
      " 15  is_self                        1589 non-null   bool   \n",
      " 16  is_video                       1589 non-null   bool   \n",
      " 17  link_flair_richtext            1589 non-null   object \n",
      " 18  link_flair_text_color          1589 non-null   object \n",
      " 19  link_flair_type                1589 non-null   object \n",
      " 20  locked                         1589 non-null   bool   \n",
      " 21  media_embed                    1589 non-null   object \n",
      " 22  no_follow                      1589 non-null   bool   \n",
      " 23  num_comments                   1589 non-null   int64  \n",
      " 24  num_crossposts                 1589 non-null   int64  \n",
      " 25  over_18                        1589 non-null   bool   \n",
      " 26  parent_whitelist_status        1589 non-null   object \n",
      " 27  permalink                      1589 non-null   object \n",
      " 28  retrieved_on                   1589 non-null   int64  \n",
      " 29  rte_mode                       1589 non-null   object \n",
      " 30  score                          1589 non-null   int64  \n",
      " 31  secure_media_embed             1589 non-null   object \n",
      " 32  selftext                       1589 non-null   object \n",
      " 33  send_replies                   1589 non-null   bool   \n",
      " 34  spoiler                        1589 non-null   bool   \n",
      " 35  stickied                       1589 non-null   bool   \n",
      " 36  subreddit                      1589 non-null   object \n",
      " 37  subreddit_id                   1589 non-null   object \n",
      " 38  subreddit_type                 1589 non-null   object \n",
      " 39  suggested_sort                 0 non-null      object \n",
      " 40  thumbnail                      1589 non-null   object \n",
      " 41  title                          1589 non-null   object \n",
      " 42  url                            1589 non-null   object \n",
      " 43  whitelist_status               1589 non-null   object \n",
      " 44  created                        1589 non-null   float64\n",
      " 45  author_created_utc             1090 non-null   float64\n",
      " 46  author_flair_richtext          1091 non-null   object \n",
      " 47  author_flair_type              1091 non-null   object \n",
      " 48  author_fullname                1090 non-null   object \n",
      " 49  post_hint                      7 non-null      object \n",
      " 50  preview                        7 non-null      object \n",
      " 51  thumbnail_height               7 non-null      float64\n",
      " 52  thumbnail_width                7 non-null      float64\n",
      " 53  edited                         93 non-null     float64\n",
      " 54  media                          2 non-null      object \n",
      " 55  secure_media                   2 non-null      object \n",
      " 56  author_cakeday                 1 non-null      object \n",
      " 57  banned_by                      12 non-null     object \n",
      "dtypes: bool(12), float64(5), int64(6), object(35)\n",
      "memory usage: 589.8+ KB\n"
     ]
    }
   ],
   "source": [
    "testdf_cats.info()"
   ]
  },
  {
   "cell_type": "code",
   "execution_count": 13,
   "id": "f00bc808",
   "metadata": {},
   "outputs": [],
   "source": [
    "testdf_cats=testdf_cats[['subreddit', 'title']]"
   ]
  },
  {
   "cell_type": "code",
   "execution_count": 15,
   "id": "7df59422",
   "metadata": {},
   "outputs": [
    {
     "data": {
      "text/html": [
       "<div>\n",
       "<style scoped>\n",
       "    .dataframe tbody tr th:only-of-type {\n",
       "        vertical-align: middle;\n",
       "    }\n",
       "\n",
       "    .dataframe tbody tr th {\n",
       "        vertical-align: top;\n",
       "    }\n",
       "\n",
       "    .dataframe thead th {\n",
       "        text-align: right;\n",
       "    }\n",
       "</style>\n",
       "<table border=\"1\" class=\"dataframe\">\n",
       "  <thead>\n",
       "    <tr style=\"text-align: right;\">\n",
       "      <th></th>\n",
       "      <th>subreddit</th>\n",
       "      <th>title</th>\n",
       "    </tr>\n",
       "  </thead>\n",
       "  <tbody>\n",
       "    <tr>\n",
       "      <th>0</th>\n",
       "      <td>cats</td>\n",
       "      <td>Holidays Spell Potential Danger for Cats - Thi...</td>\n",
       "    </tr>\n",
       "    <tr>\n",
       "      <th>1</th>\n",
       "      <td>cats</td>\n",
       "      <td>This is Mrs Charles Bronson. She takes no shit...</td>\n",
       "    </tr>\n",
       "    <tr>\n",
       "      <th>2</th>\n",
       "      <td>cats</td>\n",
       "      <td>My Dad's cat smells like a huge butthole. I ca...</td>\n",
       "    </tr>\n",
       "    <tr>\n",
       "      <th>3</th>\n",
       "      <td>cats</td>\n",
       "      <td>My cat is sick. Going to take her to the vet t...</td>\n",
       "    </tr>\n",
       "    <tr>\n",
       "      <th>4</th>\n",
       "      <td>cats</td>\n",
       "      <td>Awww yeeah</td>\n",
       "    </tr>\n",
       "  </tbody>\n",
       "</table>\n",
       "</div>"
      ],
      "text/plain": [
       "  subreddit                                              title\n",
       "0      cats  Holidays Spell Potential Danger for Cats - Thi...\n",
       "1      cats  This is Mrs Charles Bronson. She takes no shit...\n",
       "2      cats  My Dad's cat smells like a huge butthole. I ca...\n",
       "3      cats  My cat is sick. Going to take her to the vet t...\n",
       "4      cats                                         Awww yeeah"
      ]
     },
     "execution_count": 15,
     "metadata": {},
     "output_type": "execute_result"
    }
   ],
   "source": [
    "testdf_cats.head() #double checking if df contains subreddit and title"
   ]
  },
  {
   "cell_type": "code",
   "execution_count": 25,
   "id": "4d40a38f",
   "metadata": {},
   "outputs": [],
   "source": [
    "testdf_cats.to_csv('../project_3/CSV files/testdf_cats.csv', sep=';', header=True, index=False, columns=[\n",
    "    'subreddit', 'title'])"
   ]
  },
  {
   "cell_type": "code",
   "execution_count": 17,
   "id": "8c251fb2",
   "metadata": {},
   "outputs": [],
   "source": [
    "query2 = api.search_submissions(subreddit='dogs', after=posted_after, before=posted_before, limit=10000)"
   ]
  },
  {
   "cell_type": "code",
   "execution_count": 18,
   "id": "394cbbcc",
   "metadata": {
    "scrolled": true
   },
   "outputs": [
    {
     "name": "stderr",
     "output_type": "stream",
     "text": [
      "/opt/anaconda3/lib/python3.8/site-packages/psaw/PushshiftAPI.py:252: UserWarning: Not all PushShift shards are active. Query results may be incomplete\n",
      "  warnings.warn(shards_down_message)\n"
     ]
    },
    {
     "name": "stdout",
     "output_type": "stream",
     "text": [
      "1461\n"
     ]
    }
   ],
   "source": [
    "submissions2 = list()\n",
    "for element in query2:\n",
    "    submissions2.append(element.d_)\n",
    "print(len(submissions2))"
   ]
  },
  {
   "cell_type": "code",
   "execution_count": 20,
   "id": "52be77ce",
   "metadata": {},
   "outputs": [],
   "source": [
    "testdf_dogs = pd.DataFrame(submissions2)"
   ]
  },
  {
   "cell_type": "code",
   "execution_count": 21,
   "id": "a480ac7e",
   "metadata": {},
   "outputs": [],
   "source": [
    "testdf_dogs=testdf_dogs[['subreddit', 'title']]"
   ]
  },
  {
   "cell_type": "code",
   "execution_count": 23,
   "id": "559e058c",
   "metadata": {},
   "outputs": [
    {
     "data": {
      "text/html": [
       "<div>\n",
       "<style scoped>\n",
       "    .dataframe tbody tr th:only-of-type {\n",
       "        vertical-align: middle;\n",
       "    }\n",
       "\n",
       "    .dataframe tbody tr th {\n",
       "        vertical-align: top;\n",
       "    }\n",
       "\n",
       "    .dataframe thead th {\n",
       "        text-align: right;\n",
       "    }\n",
       "</style>\n",
       "<table border=\"1\" class=\"dataframe\">\n",
       "  <thead>\n",
       "    <tr style=\"text-align: right;\">\n",
       "      <th></th>\n",
       "      <th>subreddit</th>\n",
       "      <th>title</th>\n",
       "    </tr>\n",
       "  </thead>\n",
       "  <tbody>\n",
       "    <tr>\n",
       "      <th>0</th>\n",
       "      <td>dogs</td>\n",
       "      <td>Farm dog</td>\n",
       "    </tr>\n",
       "    <tr>\n",
       "      <th>1</th>\n",
       "      <td>dogs</td>\n",
       "      <td>Mystery of why dog got stuck in wall</td>\n",
       "    </tr>\n",
       "    <tr>\n",
       "      <th>2</th>\n",
       "      <td>dogs</td>\n",
       "      <td>Aggressive AKK.  How do I fix this?</td>\n",
       "    </tr>\n",
       "    <tr>\n",
       "      <th>3</th>\n",
       "      <td>dogs</td>\n",
       "      <td>An enjoyable mystery about dogs</td>\n",
       "    </tr>\n",
       "    <tr>\n",
       "      <th>4</th>\n",
       "      <td>dogs</td>\n",
       "      <td>GSD allergic to something, need help figuring ...</td>\n",
       "    </tr>\n",
       "  </tbody>\n",
       "</table>\n",
       "</div>"
      ],
      "text/plain": [
       "  subreddit                                              title\n",
       "0      dogs                                           Farm dog\n",
       "1      dogs               Mystery of why dog got stuck in wall\n",
       "2      dogs                Aggressive AKK.  How do I fix this?\n",
       "3      dogs                    An enjoyable mystery about dogs\n",
       "4      dogs  GSD allergic to something, need help figuring ..."
      ]
     },
     "execution_count": 23,
     "metadata": {},
     "output_type": "execute_result"
    }
   ],
   "source": [
    "testdf_dogs.head()"
   ]
  },
  {
   "cell_type": "code",
   "execution_count": 26,
   "id": "60679c16",
   "metadata": {},
   "outputs": [],
   "source": [
    "testdf_dogs.to_csv('../project_3/CSV files/testdf_dogs.csv', sep=';', header=True, index=False, columns=[\n",
    "    'subreddit', 'title'])"
   ]
  },
  {
   "cell_type": "code",
   "execution_count": 29,
   "id": "42cb5393",
   "metadata": {},
   "outputs": [],
   "source": [
    "dogstest = pd.read_csv(\"../project_3/CSV files/testdf_dogs.csv\",sep=';')"
   ]
  },
  {
   "cell_type": "code",
   "execution_count": 31,
   "id": "81aba1ae",
   "metadata": {},
   "outputs": [],
   "source": [
    "catstest = pd.read_csv(\"../project_3/CSV files/testdf_cats.csv\",sep=';')"
   ]
  },
  {
   "cell_type": "code",
   "execution_count": 32,
   "id": "27a195f0",
   "metadata": {},
   "outputs": [
    {
     "data": {
      "text/html": [
       "<div>\n",
       "<style scoped>\n",
       "    .dataframe tbody tr th:only-of-type {\n",
       "        vertical-align: middle;\n",
       "    }\n",
       "\n",
       "    .dataframe tbody tr th {\n",
       "        vertical-align: top;\n",
       "    }\n",
       "\n",
       "    .dataframe thead th {\n",
       "        text-align: right;\n",
       "    }\n",
       "</style>\n",
       "<table border=\"1\" class=\"dataframe\">\n",
       "  <thead>\n",
       "    <tr style=\"text-align: right;\">\n",
       "      <th></th>\n",
       "      <th>subreddit</th>\n",
       "      <th>title</th>\n",
       "    </tr>\n",
       "  </thead>\n",
       "  <tbody>\n",
       "    <tr>\n",
       "      <th>0</th>\n",
       "      <td>cats</td>\n",
       "      <td>Holidays Spell Potential Danger for Cats - Thi...</td>\n",
       "    </tr>\n",
       "    <tr>\n",
       "      <th>1</th>\n",
       "      <td>cats</td>\n",
       "      <td>This is Mrs Charles Bronson. She takes no shit...</td>\n",
       "    </tr>\n",
       "    <tr>\n",
       "      <th>2</th>\n",
       "      <td>cats</td>\n",
       "      <td>My Dad's cat smells like a huge butthole. I ca...</td>\n",
       "    </tr>\n",
       "    <tr>\n",
       "      <th>3</th>\n",
       "      <td>cats</td>\n",
       "      <td>My cat is sick. Going to take her to the vet t...</td>\n",
       "    </tr>\n",
       "    <tr>\n",
       "      <th>4</th>\n",
       "      <td>cats</td>\n",
       "      <td>Awww yeeah</td>\n",
       "    </tr>\n",
       "    <tr>\n",
       "      <th>...</th>\n",
       "      <td>...</td>\n",
       "      <td>...</td>\n",
       "    </tr>\n",
       "    <tr>\n",
       "      <th>1584</th>\n",
       "      <td>cats</td>\n",
       "      <td>Cat vs HC Helicopter. An Exotic Short Hair Cat...</td>\n",
       "    </tr>\n",
       "    <tr>\n",
       "      <th>1585</th>\n",
       "      <td>cats</td>\n",
       "      <td>Cat From Hell. Funny, or stupid animal abuse?</td>\n",
       "    </tr>\n",
       "    <tr>\n",
       "      <th>1586</th>\n",
       "      <td>cats</td>\n",
       "      <td>Neelix loves the Hefeweizen</td>\n",
       "    </tr>\n",
       "    <tr>\n",
       "      <th>1587</th>\n",
       "      <td>cats</td>\n",
       "      <td>Neelix loves the Hefeweizen</td>\n",
       "    </tr>\n",
       "    <tr>\n",
       "      <th>1588</th>\n",
       "      <td>cats</td>\n",
       "      <td>Cats rule!</td>\n",
       "    </tr>\n",
       "  </tbody>\n",
       "</table>\n",
       "<p>1589 rows × 2 columns</p>\n",
       "</div>"
      ],
      "text/plain": [
       "     subreddit                                              title\n",
       "0         cats  Holidays Spell Potential Danger for Cats - Thi...\n",
       "1         cats  This is Mrs Charles Bronson. She takes no shit...\n",
       "2         cats  My Dad's cat smells like a huge butthole. I ca...\n",
       "3         cats  My cat is sick. Going to take her to the vet t...\n",
       "4         cats                                         Awww yeeah\n",
       "...        ...                                                ...\n",
       "1584      cats  Cat vs HC Helicopter. An Exotic Short Hair Cat...\n",
       "1585      cats      Cat From Hell. Funny, or stupid animal abuse?\n",
       "1586      cats                        Neelix loves the Hefeweizen\n",
       "1587      cats                        Neelix loves the Hefeweizen\n",
       "1588      cats                                         Cats rule!\n",
       "\n",
       "[1589 rows x 2 columns]"
      ]
     },
     "execution_count": 32,
     "metadata": {},
     "output_type": "execute_result"
    }
   ],
   "source": [
    "catstest"
   ]
  },
  {
   "cell_type": "code",
   "execution_count": 33,
   "id": "26276a5d",
   "metadata": {},
   "outputs": [],
   "source": [
    "frames = [dogstest,catstest]\n",
    "testdf = pd.concat(frames)"
   ]
  },
  {
   "cell_type": "code",
   "execution_count": 34,
   "id": "76d5274f",
   "metadata": {},
   "outputs": [
    {
     "data": {
      "text/html": [
       "<div>\n",
       "<style scoped>\n",
       "    .dataframe tbody tr th:only-of-type {\n",
       "        vertical-align: middle;\n",
       "    }\n",
       "\n",
       "    .dataframe tbody tr th {\n",
       "        vertical-align: top;\n",
       "    }\n",
       "\n",
       "    .dataframe thead th {\n",
       "        text-align: right;\n",
       "    }\n",
       "</style>\n",
       "<table border=\"1\" class=\"dataframe\">\n",
       "  <thead>\n",
       "    <tr style=\"text-align: right;\">\n",
       "      <th></th>\n",
       "      <th>subreddit</th>\n",
       "      <th>title</th>\n",
       "    </tr>\n",
       "  </thead>\n",
       "  <tbody>\n",
       "    <tr>\n",
       "      <th>0</th>\n",
       "      <td>dogs</td>\n",
       "      <td>Farm dog</td>\n",
       "    </tr>\n",
       "    <tr>\n",
       "      <th>1</th>\n",
       "      <td>dogs</td>\n",
       "      <td>Mystery of why dog got stuck in wall</td>\n",
       "    </tr>\n",
       "    <tr>\n",
       "      <th>2</th>\n",
       "      <td>dogs</td>\n",
       "      <td>Aggressive AKK.  How do I fix this?</td>\n",
       "    </tr>\n",
       "    <tr>\n",
       "      <th>3</th>\n",
       "      <td>dogs</td>\n",
       "      <td>An enjoyable mystery about dogs</td>\n",
       "    </tr>\n",
       "    <tr>\n",
       "      <th>4</th>\n",
       "      <td>dogs</td>\n",
       "      <td>GSD allergic to something, need help figuring ...</td>\n",
       "    </tr>\n",
       "    <tr>\n",
       "      <th>...</th>\n",
       "      <td>...</td>\n",
       "      <td>...</td>\n",
       "    </tr>\n",
       "    <tr>\n",
       "      <th>1584</th>\n",
       "      <td>cats</td>\n",
       "      <td>Cat vs HC Helicopter. An Exotic Short Hair Cat...</td>\n",
       "    </tr>\n",
       "    <tr>\n",
       "      <th>1585</th>\n",
       "      <td>cats</td>\n",
       "      <td>Cat From Hell. Funny, or stupid animal abuse?</td>\n",
       "    </tr>\n",
       "    <tr>\n",
       "      <th>1586</th>\n",
       "      <td>cats</td>\n",
       "      <td>Neelix loves the Hefeweizen</td>\n",
       "    </tr>\n",
       "    <tr>\n",
       "      <th>1587</th>\n",
       "      <td>cats</td>\n",
       "      <td>Neelix loves the Hefeweizen</td>\n",
       "    </tr>\n",
       "    <tr>\n",
       "      <th>1588</th>\n",
       "      <td>cats</td>\n",
       "      <td>Cats rule!</td>\n",
       "    </tr>\n",
       "  </tbody>\n",
       "</table>\n",
       "<p>3050 rows × 2 columns</p>\n",
       "</div>"
      ],
      "text/plain": [
       "     subreddit                                              title\n",
       "0         dogs                                           Farm dog\n",
       "1         dogs               Mystery of why dog got stuck in wall\n",
       "2         dogs                Aggressive AKK.  How do I fix this?\n",
       "3         dogs                    An enjoyable mystery about dogs\n",
       "4         dogs  GSD allergic to something, need help figuring ...\n",
       "...        ...                                                ...\n",
       "1584      cats  Cat vs HC Helicopter. An Exotic Short Hair Cat...\n",
       "1585      cats      Cat From Hell. Funny, or stupid animal abuse?\n",
       "1586      cats                        Neelix loves the Hefeweizen\n",
       "1587      cats                        Neelix loves the Hefeweizen\n",
       "1588      cats                                         Cats rule!\n",
       "\n",
       "[3050 rows x 2 columns]"
      ]
     },
     "execution_count": 34,
     "metadata": {},
     "output_type": "execute_result"
    }
   ],
   "source": [
    "testdf"
   ]
  },
  {
   "cell_type": "markdown",
   "id": "aa7ac894",
   "metadata": {},
   "source": [
    "## 5.2 Preprocessing/Cleaning testdf"
   ]
  },
  {
   "cell_type": "code",
   "execution_count": 38,
   "id": "95652323",
   "metadata": {},
   "outputs": [],
   "source": [
    "def remove_URL(sample):\n",
    "    \n",
    "    \"\"\"Remove URLs from a sample string\"\"\"\n",
    "    return re.sub(r\"http\\S+\", \"\", sample)\n",
    "\n",
    "testdf['clean_title'] = testdf['title'].apply(remove_URL)"
   ]
  },
  {
   "cell_type": "code",
   "execution_count": 39,
   "id": "a7971a5d",
   "metadata": {},
   "outputs": [
    {
     "data": {
      "text/html": [
       "<div>\n",
       "<style scoped>\n",
       "    .dataframe tbody tr th:only-of-type {\n",
       "        vertical-align: middle;\n",
       "    }\n",
       "\n",
       "    .dataframe tbody tr th {\n",
       "        vertical-align: top;\n",
       "    }\n",
       "\n",
       "    .dataframe thead th {\n",
       "        text-align: right;\n",
       "    }\n",
       "</style>\n",
       "<table border=\"1\" class=\"dataframe\">\n",
       "  <thead>\n",
       "    <tr style=\"text-align: right;\">\n",
       "      <th></th>\n",
       "      <th>title</th>\n",
       "      <th>clean_title</th>\n",
       "    </tr>\n",
       "  </thead>\n",
       "  <tbody>\n",
       "    <tr>\n",
       "      <th>0</th>\n",
       "      <td>Farm dog</td>\n",
       "      <td>Farm dog</td>\n",
       "    </tr>\n",
       "    <tr>\n",
       "      <th>1</th>\n",
       "      <td>Mystery of why dog got stuck in wall</td>\n",
       "      <td>Mystery of why dog got stuck in wall</td>\n",
       "    </tr>\n",
       "    <tr>\n",
       "      <th>2</th>\n",
       "      <td>Aggressive AKK.  How do I fix this?</td>\n",
       "      <td>Aggressive AKK.  How do I fix this?</td>\n",
       "    </tr>\n",
       "    <tr>\n",
       "      <th>3</th>\n",
       "      <td>An enjoyable mystery about dogs</td>\n",
       "      <td>An enjoyable mystery about dogs</td>\n",
       "    </tr>\n",
       "    <tr>\n",
       "      <th>4</th>\n",
       "      <td>GSD allergic to something, need help figuring out what it is.</td>\n",
       "      <td>GSD allergic to something, need help figuring out what it is.</td>\n",
       "    </tr>\n",
       "    <tr>\n",
       "      <th>...</th>\n",
       "      <td>...</td>\n",
       "      <td>...</td>\n",
       "    </tr>\n",
       "    <tr>\n",
       "      <th>1584</th>\n",
       "      <td>Cat vs HC Helicopter. An Exotic Short Hair Cat battles a Air Hogs Havoc Helicopter. A Classic from last year.</td>\n",
       "      <td>Cat vs HC Helicopter. An Exotic Short Hair Cat battles a Air Hogs Havoc Helicopter. A Classic from last year.</td>\n",
       "    </tr>\n",
       "    <tr>\n",
       "      <th>1585</th>\n",
       "      <td>Cat From Hell. Funny, or stupid animal abuse?</td>\n",
       "      <td>Cat From Hell. Funny, or stupid animal abuse?</td>\n",
       "    </tr>\n",
       "    <tr>\n",
       "      <th>1586</th>\n",
       "      <td>Neelix loves the Hefeweizen</td>\n",
       "      <td>Neelix loves the Hefeweizen</td>\n",
       "    </tr>\n",
       "    <tr>\n",
       "      <th>1587</th>\n",
       "      <td>Neelix loves the Hefeweizen</td>\n",
       "      <td>Neelix loves the Hefeweizen</td>\n",
       "    </tr>\n",
       "    <tr>\n",
       "      <th>1588</th>\n",
       "      <td>Cats rule!</td>\n",
       "      <td>Cats rule!</td>\n",
       "    </tr>\n",
       "  </tbody>\n",
       "</table>\n",
       "<p>3050 rows × 2 columns</p>\n",
       "</div>"
      ],
      "text/plain": [
       "                                                                                                              title  \\\n",
       "0                                                                                                          Farm dog   \n",
       "1                                                                              Mystery of why dog got stuck in wall   \n",
       "2                                                                               Aggressive AKK.  How do I fix this?   \n",
       "3                                                                                   An enjoyable mystery about dogs   \n",
       "4                                                     GSD allergic to something, need help figuring out what it is.   \n",
       "...                                                                                                             ...   \n",
       "1584  Cat vs HC Helicopter. An Exotic Short Hair Cat battles a Air Hogs Havoc Helicopter. A Classic from last year.   \n",
       "1585                                                                  Cat From Hell. Funny, or stupid animal abuse?   \n",
       "1586                                                                                    Neelix loves the Hefeweizen   \n",
       "1587                                                                                    Neelix loves the Hefeweizen   \n",
       "1588                                                                                                     Cats rule!   \n",
       "\n",
       "                                                                                                        clean_title  \n",
       "0                                                                                                          Farm dog  \n",
       "1                                                                              Mystery of why dog got stuck in wall  \n",
       "2                                                                               Aggressive AKK.  How do I fix this?  \n",
       "3                                                                                   An enjoyable mystery about dogs  \n",
       "4                                                     GSD allergic to something, need help figuring out what it is.  \n",
       "...                                                                                                             ...  \n",
       "1584  Cat vs HC Helicopter. An Exotic Short Hair Cat battles a Air Hogs Havoc Helicopter. A Classic from last year.  \n",
       "1585                                                                  Cat From Hell. Funny, or stupid animal abuse?  \n",
       "1586                                                                                    Neelix loves the Hefeweizen  \n",
       "1587                                                                                    Neelix loves the Hefeweizen  \n",
       "1588                                                                                                     Cats rule!  \n",
       "\n",
       "[3050 rows x 2 columns]"
      ]
     },
     "execution_count": 39,
     "metadata": {},
     "output_type": "execute_result"
    }
   ],
   "source": [
    "testdf[\"clean_title\"].replace('\\d', '', regex=True, inplace=True)\n",
    "testdf[[\"title\",\"clean_title\"]] # numbers are gone! "
   ]
  },
  {
   "cell_type": "code",
   "execution_count": 40,
   "id": "ee203909",
   "metadata": {},
   "outputs": [],
   "source": [
    "def deEmojify(inputString):\n",
    "    return inputString.encode('ascii', 'ignore').decode('ascii')\n",
    "testdf[\"clean_title\"] = testdf[\"clean_title\"].apply(lambda s: deEmojify(s))"
   ]
  },
  {
   "cell_type": "code",
   "execution_count": 41,
   "id": "18693a57",
   "metadata": {},
   "outputs": [],
   "source": [
    "def text_process(mess): \n",
    "    \"\"\"\n",
    "    1. remove punc\n",
    "    \"\"\"\n",
    "    nopunc=[char for char in mess if char not in string.punctuation]\n",
    "    nopunc=''.join(nopunc)\n",
    "    return nopunc"
   ]
  },
  {
   "cell_type": "code",
   "execution_count": 42,
   "id": "6f594e54",
   "metadata": {},
   "outputs": [
    {
     "data": {
      "text/html": [
       "<div>\n",
       "<style scoped>\n",
       "    .dataframe tbody tr th:only-of-type {\n",
       "        vertical-align: middle;\n",
       "    }\n",
       "\n",
       "    .dataframe tbody tr th {\n",
       "        vertical-align: top;\n",
       "    }\n",
       "\n",
       "    .dataframe thead th {\n",
       "        text-align: right;\n",
       "    }\n",
       "</style>\n",
       "<table border=\"1\" class=\"dataframe\">\n",
       "  <thead>\n",
       "    <tr style=\"text-align: right;\">\n",
       "      <th></th>\n",
       "      <th>title</th>\n",
       "      <th>clean_title</th>\n",
       "    </tr>\n",
       "  </thead>\n",
       "  <tbody>\n",
       "    <tr>\n",
       "      <th>0</th>\n",
       "      <td>Farm dog</td>\n",
       "      <td>Farm dog</td>\n",
       "    </tr>\n",
       "    <tr>\n",
       "      <th>1</th>\n",
       "      <td>Mystery of why dog got stuck in wall</td>\n",
       "      <td>Mystery of why dog got stuck in wall</td>\n",
       "    </tr>\n",
       "    <tr>\n",
       "      <th>2</th>\n",
       "      <td>Aggressive AKK.  How do I fix this?</td>\n",
       "      <td>Aggressive AKK  How do I fix this</td>\n",
       "    </tr>\n",
       "    <tr>\n",
       "      <th>3</th>\n",
       "      <td>An enjoyable mystery about dogs</td>\n",
       "      <td>An enjoyable mystery about dogs</td>\n",
       "    </tr>\n",
       "    <tr>\n",
       "      <th>4</th>\n",
       "      <td>GSD allergic to something, need help figuring out what it is.</td>\n",
       "      <td>GSD allergic to something need help figuring out what it is</td>\n",
       "    </tr>\n",
       "    <tr>\n",
       "      <th>...</th>\n",
       "      <td>...</td>\n",
       "      <td>...</td>\n",
       "    </tr>\n",
       "    <tr>\n",
       "      <th>1584</th>\n",
       "      <td>Cat vs HC Helicopter. An Exotic Short Hair Cat battles a Air Hogs Havoc Helicopter. A Classic from last year.</td>\n",
       "      <td>Cat vs HC Helicopter An Exotic Short Hair Cat battles a Air Hogs Havoc Helicopter A Classic from last year</td>\n",
       "    </tr>\n",
       "    <tr>\n",
       "      <th>1585</th>\n",
       "      <td>Cat From Hell. Funny, or stupid animal abuse?</td>\n",
       "      <td>Cat From Hell Funny or stupid animal abuse</td>\n",
       "    </tr>\n",
       "    <tr>\n",
       "      <th>1586</th>\n",
       "      <td>Neelix loves the Hefeweizen</td>\n",
       "      <td>Neelix loves the Hefeweizen</td>\n",
       "    </tr>\n",
       "    <tr>\n",
       "      <th>1587</th>\n",
       "      <td>Neelix loves the Hefeweizen</td>\n",
       "      <td>Neelix loves the Hefeweizen</td>\n",
       "    </tr>\n",
       "    <tr>\n",
       "      <th>1588</th>\n",
       "      <td>Cats rule!</td>\n",
       "      <td>Cats rule</td>\n",
       "    </tr>\n",
       "  </tbody>\n",
       "</table>\n",
       "<p>3050 rows × 2 columns</p>\n",
       "</div>"
      ],
      "text/plain": [
       "                                                                                                              title  \\\n",
       "0                                                                                                          Farm dog   \n",
       "1                                                                              Mystery of why dog got stuck in wall   \n",
       "2                                                                               Aggressive AKK.  How do I fix this?   \n",
       "3                                                                                   An enjoyable mystery about dogs   \n",
       "4                                                     GSD allergic to something, need help figuring out what it is.   \n",
       "...                                                                                                             ...   \n",
       "1584  Cat vs HC Helicopter. An Exotic Short Hair Cat battles a Air Hogs Havoc Helicopter. A Classic from last year.   \n",
       "1585                                                                  Cat From Hell. Funny, or stupid animal abuse?   \n",
       "1586                                                                                    Neelix loves the Hefeweizen   \n",
       "1587                                                                                    Neelix loves the Hefeweizen   \n",
       "1588                                                                                                     Cats rule!   \n",
       "\n",
       "                                                                                                     clean_title  \n",
       "0                                                                                                       Farm dog  \n",
       "1                                                                           Mystery of why dog got stuck in wall  \n",
       "2                                                                              Aggressive AKK  How do I fix this  \n",
       "3                                                                                An enjoyable mystery about dogs  \n",
       "4                                                    GSD allergic to something need help figuring out what it is  \n",
       "...                                                                                                          ...  \n",
       "1584  Cat vs HC Helicopter An Exotic Short Hair Cat battles a Air Hogs Havoc Helicopter A Classic from last year  \n",
       "1585                                                                  Cat From Hell Funny or stupid animal abuse  \n",
       "1586                                                                                 Neelix loves the Hefeweizen  \n",
       "1587                                                                                 Neelix loves the Hefeweizen  \n",
       "1588                                                                                                   Cats rule  \n",
       "\n",
       "[3050 rows x 2 columns]"
      ]
     },
     "execution_count": 42,
     "metadata": {},
     "output_type": "execute_result"
    }
   ],
   "source": [
    "testdf[\"clean_title\"] = testdf[\"clean_title\"].apply(text_process)\n",
    "testdf[[\"title\",\"clean_title\"]]"
   ]
  },
  {
   "cell_type": "code",
   "execution_count": 43,
   "id": "341daee6",
   "metadata": {},
   "outputs": [
    {
     "name": "stdout",
     "output_type": "stream",
     "text": [
      "{'was', 'he', \"mustn't\", 'the', \"didn't\", 'from', 'as', 'against', 'ain', 'these', 'had', 'below', 'were', 'those', 'being', 'if', 'you', 'up', 'because', 'any', 'further', 'an', 'yourself', 's', 'we', 'did', 'under', 'so', 'y', 'what', 'between', 'that', 'of', 'it', 'at', 'weren', 'm', \"hasn't\", 'do', 'after', 'doesn', 'on', 'shan', 'her', 'or', 'yourselves', 'while', \"aren't\", 'theirs', \"shan't\", \"weren't\", \"mightn't\", 'haven', 'ours', 'about', 'few', 'are', 'hadn', \"couldn't\", 'then', 'herself', 'is', \"isn't\", 've', 'they', 'does', 'isn', 'aren', 'through', 'its', 'them', \"hadn't\", \"that'll\", 'whom', \"you've\", \"you'll\", 'your', 'who', 'a', 'both', 't', 'should', \"won't\", 're', 'our', 'out', 'such', 'by', \"doesn't\", 'd', 'their', 'this', 'him', 'than', 'just', 'into', 'will', 'why', \"don't\", 'have', \"wasn't\", 'needn', 'been', 'i', 'during', 'here', \"needn't\", 'until', 'too', \"wouldn't\", 'hers', 'with', 'having', 'which', 'himself', 'how', 'ma', 'mightn', 'again', 'and', 'no', 'be', 'other', 'has', 'me', 'over', 'don', 'didn', 'there', 'not', 'wouldn', 'own', 'my', 'won', 'off', \"should've\", 'before', 'nor', \"you're\", 'very', \"it's\", 'for', 'when', 'll', 'ourselves', 'now', 'some', 'hasn', 'mustn', 'more', 'most', 'o', 'above', 'once', 'same', 'only', 'in', 'am', 'his', 'each', 'all', 'itself', 'couldn', 'can', 'themselves', 'but', 'shouldn', 'yours', \"shouldn't\", 'down', 'myself', 'wasn', \"you'd\", 'she', 'doing', 'to', 'where', \"haven't\", \"she's\"}\n"
     ]
    }
   ],
   "source": [
    "stop = set(stopwords.words('english'))\n",
    "print(stop)"
   ]
  },
  {
   "cell_type": "code",
   "execution_count": 44,
   "id": "438a43aa",
   "metadata": {},
   "outputs": [],
   "source": [
    "def rem_en(input_txt):\n",
    "    words = input_txt.lower().split()\n",
    "    noise_free_words = [word for word in words if word not in stop] \n",
    "    noise_free_text = \" \".join(noise_free_words) \n",
    "    return noise_free_text"
   ]
  },
  {
   "cell_type": "code",
   "execution_count": 45,
   "id": "ac8aec7c",
   "metadata": {},
   "outputs": [
    {
     "data": {
      "text/html": [
       "<div>\n",
       "<style scoped>\n",
       "    .dataframe tbody tr th:only-of-type {\n",
       "        vertical-align: middle;\n",
       "    }\n",
       "\n",
       "    .dataframe tbody tr th {\n",
       "        vertical-align: top;\n",
       "    }\n",
       "\n",
       "    .dataframe thead th {\n",
       "        text-align: right;\n",
       "    }\n",
       "</style>\n",
       "<table border=\"1\" class=\"dataframe\">\n",
       "  <thead>\n",
       "    <tr style=\"text-align: right;\">\n",
       "      <th></th>\n",
       "      <th>title</th>\n",
       "      <th>clean_title</th>\n",
       "    </tr>\n",
       "  </thead>\n",
       "  <tbody>\n",
       "    <tr>\n",
       "      <th>0</th>\n",
       "      <td>Farm dog</td>\n",
       "      <td>farm dog</td>\n",
       "    </tr>\n",
       "    <tr>\n",
       "      <th>1</th>\n",
       "      <td>Mystery of why dog got stuck in wall</td>\n",
       "      <td>mystery dog got stuck wall</td>\n",
       "    </tr>\n",
       "    <tr>\n",
       "      <th>2</th>\n",
       "      <td>Aggressive AKK.  How do I fix this?</td>\n",
       "      <td>aggressive akk fix</td>\n",
       "    </tr>\n",
       "    <tr>\n",
       "      <th>3</th>\n",
       "      <td>An enjoyable mystery about dogs</td>\n",
       "      <td>enjoyable mystery dogs</td>\n",
       "    </tr>\n",
       "    <tr>\n",
       "      <th>4</th>\n",
       "      <td>GSD allergic to something, need help figuring out what it is.</td>\n",
       "      <td>gsd allergic something need help figuring</td>\n",
       "    </tr>\n",
       "    <tr>\n",
       "      <th>...</th>\n",
       "      <td>...</td>\n",
       "      <td>...</td>\n",
       "    </tr>\n",
       "    <tr>\n",
       "      <th>1584</th>\n",
       "      <td>Cat vs HC Helicopter. An Exotic Short Hair Cat battles a Air Hogs Havoc Helicopter. A Classic from last year.</td>\n",
       "      <td>cat vs hc helicopter exotic short hair cat battles air hogs havoc helicopter classic last year</td>\n",
       "    </tr>\n",
       "    <tr>\n",
       "      <th>1585</th>\n",
       "      <td>Cat From Hell. Funny, or stupid animal abuse?</td>\n",
       "      <td>cat hell funny stupid animal abuse</td>\n",
       "    </tr>\n",
       "    <tr>\n",
       "      <th>1586</th>\n",
       "      <td>Neelix loves the Hefeweizen</td>\n",
       "      <td>neelix loves hefeweizen</td>\n",
       "    </tr>\n",
       "    <tr>\n",
       "      <th>1587</th>\n",
       "      <td>Neelix loves the Hefeweizen</td>\n",
       "      <td>neelix loves hefeweizen</td>\n",
       "    </tr>\n",
       "    <tr>\n",
       "      <th>1588</th>\n",
       "      <td>Cats rule!</td>\n",
       "      <td>cats rule</td>\n",
       "    </tr>\n",
       "  </tbody>\n",
       "</table>\n",
       "<p>3050 rows × 2 columns</p>\n",
       "</div>"
      ],
      "text/plain": [
       "                                                                                                              title  \\\n",
       "0                                                                                                          Farm dog   \n",
       "1                                                                              Mystery of why dog got stuck in wall   \n",
       "2                                                                               Aggressive AKK.  How do I fix this?   \n",
       "3                                                                                   An enjoyable mystery about dogs   \n",
       "4                                                     GSD allergic to something, need help figuring out what it is.   \n",
       "...                                                                                                             ...   \n",
       "1584  Cat vs HC Helicopter. An Exotic Short Hair Cat battles a Air Hogs Havoc Helicopter. A Classic from last year.   \n",
       "1585                                                                  Cat From Hell. Funny, or stupid animal abuse?   \n",
       "1586                                                                                    Neelix loves the Hefeweizen   \n",
       "1587                                                                                    Neelix loves the Hefeweizen   \n",
       "1588                                                                                                     Cats rule!   \n",
       "\n",
       "                                                                                         clean_title  \n",
       "0                                                                                           farm dog  \n",
       "1                                                                         mystery dog got stuck wall  \n",
       "2                                                                                 aggressive akk fix  \n",
       "3                                                                             enjoyable mystery dogs  \n",
       "4                                                          gsd allergic something need help figuring  \n",
       "...                                                                                              ...  \n",
       "1584  cat vs hc helicopter exotic short hair cat battles air hogs havoc helicopter classic last year  \n",
       "1585                                                              cat hell funny stupid animal abuse  \n",
       "1586                                                                         neelix loves hefeweizen  \n",
       "1587                                                                         neelix loves hefeweizen  \n",
       "1588                                                                                       cats rule  \n",
       "\n",
       "[3050 rows x 2 columns]"
      ]
     },
     "execution_count": 45,
     "metadata": {},
     "output_type": "execute_result"
    }
   ],
   "source": [
    "testdf[\"clean_title\"] = testdf[\"clean_title\"].apply(lambda s: rem_en(s))\n",
    "testdf[[\"title\",\"clean_title\"]]"
   ]
  },
  {
   "cell_type": "code",
   "execution_count": 48,
   "id": "5b547808",
   "metadata": {},
   "outputs": [],
   "source": [
    "nlp = spacy.load('en_core_web_sm', disable=['parser', 'ner'])"
   ]
  },
  {
   "cell_type": "code",
   "execution_count": 49,
   "id": "0d53d71c",
   "metadata": {},
   "outputs": [],
   "source": [
    "def lemma_words(sentence): \n",
    "    doc = nlp(sentence)\n",
    "    sentence_output = \" \".join([token.lemma_ for token in doc])\n",
    "    return sentence_output"
   ]
  },
  {
   "cell_type": "code",
   "execution_count": 50,
   "id": "392f6893",
   "metadata": {},
   "outputs": [
    {
     "data": {
      "text/html": [
       "<div>\n",
       "<style scoped>\n",
       "    .dataframe tbody tr th:only-of-type {\n",
       "        vertical-align: middle;\n",
       "    }\n",
       "\n",
       "    .dataframe tbody tr th {\n",
       "        vertical-align: top;\n",
       "    }\n",
       "\n",
       "    .dataframe thead th {\n",
       "        text-align: right;\n",
       "    }\n",
       "</style>\n",
       "<table border=\"1\" class=\"dataframe\">\n",
       "  <thead>\n",
       "    <tr style=\"text-align: right;\">\n",
       "      <th></th>\n",
       "      <th>title</th>\n",
       "      <th>clean_title</th>\n",
       "    </tr>\n",
       "  </thead>\n",
       "  <tbody>\n",
       "    <tr>\n",
       "      <th>0</th>\n",
       "      <td>Farm dog</td>\n",
       "      <td>farm dog</td>\n",
       "    </tr>\n",
       "    <tr>\n",
       "      <th>1</th>\n",
       "      <td>Mystery of why dog got stuck in wall</td>\n",
       "      <td>mystery dog get stuck wall</td>\n",
       "    </tr>\n",
       "    <tr>\n",
       "      <th>2</th>\n",
       "      <td>Aggressive AKK.  How do I fix this?</td>\n",
       "      <td>aggressive akk fix</td>\n",
       "    </tr>\n",
       "    <tr>\n",
       "      <th>3</th>\n",
       "      <td>An enjoyable mystery about dogs</td>\n",
       "      <td>enjoyable mystery dog</td>\n",
       "    </tr>\n",
       "    <tr>\n",
       "      <th>4</th>\n",
       "      <td>GSD allergic to something, need help figuring out what it is.</td>\n",
       "      <td>gsd allergic something need help figure</td>\n",
       "    </tr>\n",
       "    <tr>\n",
       "      <th>...</th>\n",
       "      <td>...</td>\n",
       "      <td>...</td>\n",
       "    </tr>\n",
       "    <tr>\n",
       "      <th>1584</th>\n",
       "      <td>Cat vs HC Helicopter. An Exotic Short Hair Cat battles a Air Hogs Havoc Helicopter. A Classic from last year.</td>\n",
       "      <td>cat vs hc helicopter exotic short hair cat battle air hogs havoc helicopter classic last year</td>\n",
       "    </tr>\n",
       "    <tr>\n",
       "      <th>1585</th>\n",
       "      <td>Cat From Hell. Funny, or stupid animal abuse?</td>\n",
       "      <td>cat hell funny stupid animal abuse</td>\n",
       "    </tr>\n",
       "    <tr>\n",
       "      <th>1586</th>\n",
       "      <td>Neelix loves the Hefeweizen</td>\n",
       "      <td>neelix love hefeweizen</td>\n",
       "    </tr>\n",
       "    <tr>\n",
       "      <th>1587</th>\n",
       "      <td>Neelix loves the Hefeweizen</td>\n",
       "      <td>neelix love hefeweizen</td>\n",
       "    </tr>\n",
       "    <tr>\n",
       "      <th>1588</th>\n",
       "      <td>Cats rule!</td>\n",
       "      <td>cat rule</td>\n",
       "    </tr>\n",
       "  </tbody>\n",
       "</table>\n",
       "<p>3050 rows × 2 columns</p>\n",
       "</div>"
      ],
      "text/plain": [
       "                                                                                                              title  \\\n",
       "0                                                                                                          Farm dog   \n",
       "1                                                                              Mystery of why dog got stuck in wall   \n",
       "2                                                                               Aggressive AKK.  How do I fix this?   \n",
       "3                                                                                   An enjoyable mystery about dogs   \n",
       "4                                                     GSD allergic to something, need help figuring out what it is.   \n",
       "...                                                                                                             ...   \n",
       "1584  Cat vs HC Helicopter. An Exotic Short Hair Cat battles a Air Hogs Havoc Helicopter. A Classic from last year.   \n",
       "1585                                                                  Cat From Hell. Funny, or stupid animal abuse?   \n",
       "1586                                                                                    Neelix loves the Hefeweizen   \n",
       "1587                                                                                    Neelix loves the Hefeweizen   \n",
       "1588                                                                                                     Cats rule!   \n",
       "\n",
       "                                                                                        clean_title  \n",
       "0                                                                                          farm dog  \n",
       "1                                                                        mystery dog get stuck wall  \n",
       "2                                                                                aggressive akk fix  \n",
       "3                                                                             enjoyable mystery dog  \n",
       "4                                                           gsd allergic something need help figure  \n",
       "...                                                                                             ...  \n",
       "1584  cat vs hc helicopter exotic short hair cat battle air hogs havoc helicopter classic last year  \n",
       "1585                                                             cat hell funny stupid animal abuse  \n",
       "1586                                                                         neelix love hefeweizen  \n",
       "1587                                                                         neelix love hefeweizen  \n",
       "1588                                                                                       cat rule  \n",
       "\n",
       "[3050 rows x 2 columns]"
      ]
     },
     "execution_count": 50,
     "metadata": {},
     "output_type": "execute_result"
    }
   ],
   "source": [
    "testdf[\"clean_title\"] = testdf[\"clean_title\"].apply(lemma_words)\n",
    "testdf[[\"title\",\"clean_title\"]]"
   ]
  },
  {
   "cell_type": "code",
   "execution_count": 51,
   "id": "f2ce6087",
   "metadata": {},
   "outputs": [],
   "source": [
    "ps = PorterStemmer()"
   ]
  },
  {
   "cell_type": "code",
   "execution_count": 52,
   "id": "139a497d",
   "metadata": {},
   "outputs": [],
   "source": [
    "def stem_words(text):\n",
    "    text=text.lower() \n",
    "    words=re.split(\"\\\\s+\",text)\n",
    "    stemmed_words=[ps.stem(word=word) for word in words]\n",
    "    return ' '.join(stemmed_words)"
   ]
  },
  {
   "cell_type": "code",
   "execution_count": 53,
   "id": "d274e8d9",
   "metadata": {},
   "outputs": [
    {
     "data": {
      "text/html": [
       "<div>\n",
       "<style scoped>\n",
       "    .dataframe tbody tr th:only-of-type {\n",
       "        vertical-align: middle;\n",
       "    }\n",
       "\n",
       "    .dataframe tbody tr th {\n",
       "        vertical-align: top;\n",
       "    }\n",
       "\n",
       "    .dataframe thead th {\n",
       "        text-align: right;\n",
       "    }\n",
       "</style>\n",
       "<table border=\"1\" class=\"dataframe\">\n",
       "  <thead>\n",
       "    <tr style=\"text-align: right;\">\n",
       "      <th></th>\n",
       "      <th>title</th>\n",
       "      <th>clean_title</th>\n",
       "    </tr>\n",
       "  </thead>\n",
       "  <tbody>\n",
       "    <tr>\n",
       "      <th>0</th>\n",
       "      <td>Farm dog</td>\n",
       "      <td>farm dog</td>\n",
       "    </tr>\n",
       "    <tr>\n",
       "      <th>1</th>\n",
       "      <td>Mystery of why dog got stuck in wall</td>\n",
       "      <td>mysteri dog get stuck wall</td>\n",
       "    </tr>\n",
       "    <tr>\n",
       "      <th>2</th>\n",
       "      <td>Aggressive AKK.  How do I fix this?</td>\n",
       "      <td>aggress akk fix</td>\n",
       "    </tr>\n",
       "    <tr>\n",
       "      <th>3</th>\n",
       "      <td>An enjoyable mystery about dogs</td>\n",
       "      <td>enjoy mysteri dog</td>\n",
       "    </tr>\n",
       "    <tr>\n",
       "      <th>4</th>\n",
       "      <td>GSD allergic to something, need help figuring out what it is.</td>\n",
       "      <td>gsd allerg someth need help figur</td>\n",
       "    </tr>\n",
       "    <tr>\n",
       "      <th>...</th>\n",
       "      <td>...</td>\n",
       "      <td>...</td>\n",
       "    </tr>\n",
       "    <tr>\n",
       "      <th>1584</th>\n",
       "      <td>Cat vs HC Helicopter. An Exotic Short Hair Cat battles a Air Hogs Havoc Helicopter. A Classic from last year.</td>\n",
       "      <td>cat vs hc helicopt exot short hair cat battl air hog havoc helicopt classic last year</td>\n",
       "    </tr>\n",
       "    <tr>\n",
       "      <th>1585</th>\n",
       "      <td>Cat From Hell. Funny, or stupid animal abuse?</td>\n",
       "      <td>cat hell funni stupid anim abus</td>\n",
       "    </tr>\n",
       "    <tr>\n",
       "      <th>1586</th>\n",
       "      <td>Neelix loves the Hefeweizen</td>\n",
       "      <td>neelix love hefeweizen</td>\n",
       "    </tr>\n",
       "    <tr>\n",
       "      <th>1587</th>\n",
       "      <td>Neelix loves the Hefeweizen</td>\n",
       "      <td>neelix love hefeweizen</td>\n",
       "    </tr>\n",
       "    <tr>\n",
       "      <th>1588</th>\n",
       "      <td>Cats rule!</td>\n",
       "      <td>cat rule</td>\n",
       "    </tr>\n",
       "  </tbody>\n",
       "</table>\n",
       "<p>3050 rows × 2 columns</p>\n",
       "</div>"
      ],
      "text/plain": [
       "                                                                                                              title  \\\n",
       "0                                                                                                          Farm dog   \n",
       "1                                                                              Mystery of why dog got stuck in wall   \n",
       "2                                                                               Aggressive AKK.  How do I fix this?   \n",
       "3                                                                                   An enjoyable mystery about dogs   \n",
       "4                                                     GSD allergic to something, need help figuring out what it is.   \n",
       "...                                                                                                             ...   \n",
       "1584  Cat vs HC Helicopter. An Exotic Short Hair Cat battles a Air Hogs Havoc Helicopter. A Classic from last year.   \n",
       "1585                                                                  Cat From Hell. Funny, or stupid animal abuse?   \n",
       "1586                                                                                    Neelix loves the Hefeweizen   \n",
       "1587                                                                                    Neelix loves the Hefeweizen   \n",
       "1588                                                                                                     Cats rule!   \n",
       "\n",
       "                                                                                clean_title  \n",
       "0                                                                                  farm dog  \n",
       "1                                                                mysteri dog get stuck wall  \n",
       "2                                                                           aggress akk fix  \n",
       "3                                                                         enjoy mysteri dog  \n",
       "4                                                         gsd allerg someth need help figur  \n",
       "...                                                                                     ...  \n",
       "1584  cat vs hc helicopt exot short hair cat battl air hog havoc helicopt classic last year  \n",
       "1585                                                        cat hell funni stupid anim abus  \n",
       "1586                                                                 neelix love hefeweizen  \n",
       "1587                                                                 neelix love hefeweizen  \n",
       "1588                                                                               cat rule  \n",
       "\n",
       "[3050 rows x 2 columns]"
      ]
     },
     "execution_count": 53,
     "metadata": {},
     "output_type": "execute_result"
    }
   ],
   "source": [
    "testdf[\"clean_title\"] = testdf[\"clean_title\"].apply(stem_words)\n",
    "testdf[[\"title\",\"clean_title\"]]"
   ]
  },
  {
   "cell_type": "code",
   "execution_count": 55,
   "id": "10837231",
   "metadata": {},
   "outputs": [],
   "source": [
    "testdffinal = testdf[['subreddit', 'clean_title']]"
   ]
  },
  {
   "cell_type": "code",
   "execution_count": 56,
   "id": "55fa5a05",
   "metadata": {},
   "outputs": [
    {
     "data": {
      "text/html": [
       "<div>\n",
       "<style scoped>\n",
       "    .dataframe tbody tr th:only-of-type {\n",
       "        vertical-align: middle;\n",
       "    }\n",
       "\n",
       "    .dataframe tbody tr th {\n",
       "        vertical-align: top;\n",
       "    }\n",
       "\n",
       "    .dataframe thead th {\n",
       "        text-align: right;\n",
       "    }\n",
       "</style>\n",
       "<table border=\"1\" class=\"dataframe\">\n",
       "  <thead>\n",
       "    <tr style=\"text-align: right;\">\n",
       "      <th></th>\n",
       "      <th>subreddit</th>\n",
       "      <th>clean_title</th>\n",
       "    </tr>\n",
       "  </thead>\n",
       "  <tbody>\n",
       "    <tr>\n",
       "      <th>0</th>\n",
       "      <td>dogs</td>\n",
       "      <td>farm dog</td>\n",
       "    </tr>\n",
       "    <tr>\n",
       "      <th>1</th>\n",
       "      <td>dogs</td>\n",
       "      <td>mysteri dog get stuck wall</td>\n",
       "    </tr>\n",
       "    <tr>\n",
       "      <th>2</th>\n",
       "      <td>dogs</td>\n",
       "      <td>aggress akk fix</td>\n",
       "    </tr>\n",
       "    <tr>\n",
       "      <th>3</th>\n",
       "      <td>dogs</td>\n",
       "      <td>enjoy mysteri dog</td>\n",
       "    </tr>\n",
       "    <tr>\n",
       "      <th>4</th>\n",
       "      <td>dogs</td>\n",
       "      <td>gsd allerg someth need help figur</td>\n",
       "    </tr>\n",
       "    <tr>\n",
       "      <th>...</th>\n",
       "      <td>...</td>\n",
       "      <td>...</td>\n",
       "    </tr>\n",
       "    <tr>\n",
       "      <th>1584</th>\n",
       "      <td>cats</td>\n",
       "      <td>cat vs hc helicopt exot short hair cat battl air hog havoc helicopt classic last year</td>\n",
       "    </tr>\n",
       "    <tr>\n",
       "      <th>1585</th>\n",
       "      <td>cats</td>\n",
       "      <td>cat hell funni stupid anim abus</td>\n",
       "    </tr>\n",
       "    <tr>\n",
       "      <th>1586</th>\n",
       "      <td>cats</td>\n",
       "      <td>neelix love hefeweizen</td>\n",
       "    </tr>\n",
       "    <tr>\n",
       "      <th>1587</th>\n",
       "      <td>cats</td>\n",
       "      <td>neelix love hefeweizen</td>\n",
       "    </tr>\n",
       "    <tr>\n",
       "      <th>1588</th>\n",
       "      <td>cats</td>\n",
       "      <td>cat rule</td>\n",
       "    </tr>\n",
       "  </tbody>\n",
       "</table>\n",
       "<p>3050 rows × 2 columns</p>\n",
       "</div>"
      ],
      "text/plain": [
       "     subreddit  \\\n",
       "0         dogs   \n",
       "1         dogs   \n",
       "2         dogs   \n",
       "3         dogs   \n",
       "4         dogs   \n",
       "...        ...   \n",
       "1584      cats   \n",
       "1585      cats   \n",
       "1586      cats   \n",
       "1587      cats   \n",
       "1588      cats   \n",
       "\n",
       "                                                                                clean_title  \n",
       "0                                                                                  farm dog  \n",
       "1                                                                mysteri dog get stuck wall  \n",
       "2                                                                           aggress akk fix  \n",
       "3                                                                         enjoy mysteri dog  \n",
       "4                                                         gsd allerg someth need help figur  \n",
       "...                                                                                     ...  \n",
       "1584  cat vs hc helicopt exot short hair cat battl air hog havoc helicopt classic last year  \n",
       "1585                                                        cat hell funni stupid anim abus  \n",
       "1586                                                                 neelix love hefeweizen  \n",
       "1587                                                                 neelix love hefeweizen  \n",
       "1588                                                                               cat rule  \n",
       "\n",
       "[3050 rows x 2 columns]"
      ]
     },
     "execution_count": 56,
     "metadata": {},
     "output_type": "execute_result"
    }
   ],
   "source": [
    "testdffinal"
   ]
  },
  {
   "cell_type": "code",
   "execution_count": 57,
   "id": "d5590e64",
   "metadata": {},
   "outputs": [],
   "source": [
    "testdffinal.to_csv('../project_3/CSV files/testdffinal.csv', sep=';', header=True, index=False, columns=[\n",
    "    'subreddit', 'clean_title'])"
   ]
  },
  {
   "cell_type": "code",
   "execution_count": 59,
   "id": "6847346a",
   "metadata": {},
   "outputs": [
    {
     "name": "stdout",
     "output_type": "stream",
     "text": [
      "<class 'pandas.core.frame.DataFrame'>\n",
      "Int64Index: 3050 entries, 0 to 1588\n",
      "Data columns (total 2 columns):\n",
      " #   Column       Non-Null Count  Dtype \n",
      "---  ------       --------------  ----- \n",
      " 0   subreddit    3050 non-null   object\n",
      " 1   clean_title  3050 non-null   object\n",
      "dtypes: object(2)\n",
      "memory usage: 71.5+ KB\n"
     ]
    }
   ],
   "source": [
    "testdffinal.info()"
   ]
  },
  {
   "cell_type": "code",
   "execution_count": 68,
   "id": "328e00fb",
   "metadata": {},
   "outputs": [],
   "source": [
    "testdffinal = pd.read_csv('../project_3/CSV files/testdffinal.csv', sep=';')"
   ]
  },
  {
   "cell_type": "code",
   "execution_count": 69,
   "id": "a325d45a",
   "metadata": {},
   "outputs": [
    {
     "name": "stdout",
     "output_type": "stream",
     "text": [
      "<class 'pandas.core.frame.DataFrame'>\n",
      "RangeIndex: 3050 entries, 0 to 3049\n",
      "Data columns (total 2 columns):\n",
      " #   Column       Non-Null Count  Dtype \n",
      "---  ------       --------------  ----- \n",
      " 0   subreddit    3050 non-null   object\n",
      " 1   clean_title  3044 non-null   object\n",
      "dtypes: object(2)\n",
      "memory usage: 47.8+ KB\n"
     ]
    }
   ],
   "source": [
    "testdffinal.info()"
   ]
  },
  {
   "cell_type": "code",
   "execution_count": 70,
   "id": "0c2e20f1",
   "metadata": {},
   "outputs": [
    {
     "data": {
      "text/plain": [
       "subreddit      0\n",
       "clean_title    6\n",
       "dtype: int64"
      ]
     },
     "execution_count": 70,
     "metadata": {},
     "output_type": "execute_result"
    }
   ],
   "source": [
    "testdffinal.isna().sum()"
   ]
  },
  {
   "cell_type": "code",
   "execution_count": 71,
   "id": "85211145",
   "metadata": {},
   "outputs": [],
   "source": [
    "testdffinal.dropna(subset = [\"clean_title\"], inplace=True)"
   ]
  },
  {
   "cell_type": "code",
   "execution_count": 72,
   "id": "ba697e56",
   "metadata": {
    "scrolled": true
   },
   "outputs": [
    {
     "name": "stdout",
     "output_type": "stream",
     "text": [
      "<class 'pandas.core.frame.DataFrame'>\n",
      "Int64Index: 3044 entries, 0 to 3049\n",
      "Data columns (total 2 columns):\n",
      " #   Column       Non-Null Count  Dtype \n",
      "---  ------       --------------  ----- \n",
      " 0   subreddit    3044 non-null   object\n",
      " 1   clean_title  3044 non-null   object\n",
      "dtypes: object(2)\n",
      "memory usage: 71.3+ KB\n"
     ]
    }
   ],
   "source": [
    "testdffinal.info()"
   ]
  },
  {
   "cell_type": "code",
   "execution_count": 73,
   "id": "61cbda71",
   "metadata": {},
   "outputs": [],
   "source": [
    "testdffinal['subreddit'] = testdffinal['subreddit'].map({'dogs': 1, 'cats': 0})"
   ]
  },
  {
   "cell_type": "markdown",
   "id": "47ca967c",
   "metadata": {},
   "source": [
    "## 5.3 Applying Logreg model to dataframe"
   ]
  },
  {
   "cell_type": "code",
   "execution_count": 78,
   "id": "cc9854dc",
   "metadata": {},
   "outputs": [],
   "source": [
    "X_check = testdffinal['clean_title']\n",
    "y_check = testdffinal['subreddit']"
   ]
  },
  {
   "cell_type": "code",
   "execution_count": 83,
   "id": "c3227e63",
   "metadata": {},
   "outputs": [],
   "source": [
    "# Split data into train and test sets\n",
    "X_check_train, X_check_test, y_check_train, y_check_test = train_test_split(X_check, y_check, \n",
    "                                                    test_size=.33, \n",
    "                                                    random_state=42)"
   ]
  },
  {
   "cell_type": "code",
   "execution_count": 84,
   "id": "80fbeb3d",
   "metadata": {},
   "outputs": [],
   "source": [
    "import pickle"
   ]
  },
  {
   "cell_type": "code",
   "execution_count": 85,
   "id": "35ecd80a",
   "metadata": {},
   "outputs": [],
   "source": [
    "filename = 'finalized_model.sav'"
   ]
  },
  {
   "cell_type": "code",
   "execution_count": 86,
   "id": "9b8a83b1",
   "metadata": {},
   "outputs": [],
   "source": [
    "lr_loaded_model = pickle.load(open(filename, 'rb'))"
   ]
  },
  {
   "cell_type": "code",
   "execution_count": 88,
   "id": "841bf78f",
   "metadata": {},
   "outputs": [],
   "source": [
    "# Transform X_train with TFIDFVectorizer\n",
    "tvec = TfidfVectorizer(stop_words='english', ngram_range=(1,2), max_features=500)\n",
    "Z_check_train = tvec.fit_transform(X_check_train)"
   ]
  },
  {
   "cell_type": "code",
   "execution_count": 89,
   "id": "abcae63b",
   "metadata": {},
   "outputs": [
    {
     "data": {
      "text/plain": [
       "LogisticRegression(max_iter=5000)"
      ]
     },
     "execution_count": 89,
     "metadata": {},
     "output_type": "execute_result"
    }
   ],
   "source": [
    "# fit model\n",
    "lr_loaded_model.fit(Z_check_train, y_check_train)"
   ]
  },
  {
   "cell_type": "markdown",
   "id": "fef85e14",
   "metadata": {},
   "source": [
    "#### Training Accuracy"
   ]
  },
  {
   "cell_type": "code",
   "execution_count": 91,
   "id": "7f294eba",
   "metadata": {},
   "outputs": [
    {
     "data": {
      "text/plain": [
       "0.9396763119176067"
      ]
     },
     "execution_count": 91,
     "metadata": {},
     "output_type": "execute_result"
    }
   ],
   "source": [
    "# Score model on train data\n",
    "lr_loaded_model.score(Z_check_train, y_check_train)"
   ]
  },
  {
   "cell_type": "markdown",
   "id": "0022eeb3",
   "metadata": {},
   "source": [
    "#### Testing Accuracy"
   ]
  },
  {
   "cell_type": "code",
   "execution_count": 92,
   "id": "7c32f9d8",
   "metadata": {},
   "outputs": [],
   "source": [
    "# Transform X_test with TFIDFVectorizer\n",
    "Z_check_test = tvec.transform(X_check_test)"
   ]
  },
  {
   "cell_type": "code",
   "execution_count": 93,
   "id": "c911d8e9",
   "metadata": {},
   "outputs": [
    {
     "data": {
      "text/plain": [
       "0.8925373134328358"
      ]
     },
     "execution_count": 93,
     "metadata": {},
     "output_type": "execute_result"
    }
   ],
   "source": [
    "# Score model on test data\n",
    "lr_loaded_model.score(Z_check_test, y_check_test)"
   ]
  },
  {
   "cell_type": "markdown",
   "id": "90677c7f",
   "metadata": {},
   "source": [
    "- We pulled another ~1500 posts dated (01 Jan 2010 to 31 Dec 2010) each from subreddits \"Dogs\" and \"cats\", and created a new dataframe from these posts.\n",
    "- After data cleaning, we applied the logistic regression with TFIDF Vectorizer to the dataframe.\n",
    "- The model still performed well, though there may be some overfitting. The model showed relatively high training (about 93.9% after fit.transform X_check_train set) and testing accuracy (about 89.2% after transforming X_check_test set). It appears that there is some overfitting."
   ]
  },
  {
   "cell_type": "code",
   "execution_count": null,
   "id": "de4a1cac",
   "metadata": {},
   "outputs": [],
   "source": []
  }
 ],
 "metadata": {
  "kernelspec": {
   "display_name": "Python 3",
   "language": "python",
   "name": "python3"
  },
  "language_info": {
   "codemirror_mode": {
    "name": "ipython",
    "version": 3
   },
   "file_extension": ".py",
   "mimetype": "text/x-python",
   "name": "python",
   "nbconvert_exporter": "python",
   "pygments_lexer": "ipython3",
   "version": "3.8.8"
  }
 },
 "nbformat": 4,
 "nbformat_minor": 5
}
