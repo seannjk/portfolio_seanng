{
 "cells": [
  {
   "cell_type": "markdown",
   "id": "1c4ba537",
   "metadata": {},
   "source": [
    "# 5.1 Import Libraries"
   ]
  },
  {
   "cell_type": "code",
   "execution_count": 3,
   "id": "a9ff539c",
   "metadata": {},
   "outputs": [],
   "source": [
    "import numpy as np\n",
    "import pandas as pd\n",
    "import matplotlib.pyplot as plt\n",
    "import seaborn as sns\n",
    "sns.set_theme()\n",
    "from sklearn.model_selection import train_test_split\n",
    "\n",
    "import tensorflow as tf\n",
    "from tensorflow.keras import optimizers\n",
    "from tensorflow.keras import losses\n",
    "from tensorflow.keras.callbacks import EarlyStopping\n",
    "\n",
    "from transformers import BertTokenizer\n",
    "from transformers import TFBertForSequenceClassification"
   ]
  },
  {
   "cell_type": "code",
   "execution_count": 4,
   "id": "4b3a5e13",
   "metadata": {},
   "outputs": [],
   "source": [
    "df = pd.read_csv('../Dataset/cleaned_dataset.csv', encoding = \"utf-8\")\n",
    "df.drop(\"Unnamed: 0\",axis=1,inplace=True)"
   ]
  },
  {
   "cell_type": "code",
   "execution_count": 5,
   "id": "734f22f4",
   "metadata": {
    "scrolled": false
   },
   "outputs": [
    {
     "data": {
      "text/html": [
       "<div>\n",
       "<style scoped>\n",
       "    .dataframe tbody tr th:only-of-type {\n",
       "        vertical-align: middle;\n",
       "    }\n",
       "\n",
       "    .dataframe tbody tr th {\n",
       "        vertical-align: top;\n",
       "    }\n",
       "\n",
       "    .dataframe thead th {\n",
       "        text-align: right;\n",
       "    }\n",
       "</style>\n",
       "<table border=\"1\" class=\"dataframe\">\n",
       "  <thead>\n",
       "    <tr style=\"text-align: right;\">\n",
       "      <th></th>\n",
       "      <th>text</th>\n",
       "      <th>is_misinfo</th>\n",
       "    </tr>\n",
       "  </thead>\n",
       "  <tbody>\n",
       "    <tr>\n",
       "      <th>0</th>\n",
       "      <td>My 87 year old grandmother has been quarantini...</td>\n",
       "      <td>0</td>\n",
       "    </tr>\n",
       "    <tr>\n",
       "      <th>1</th>\n",
       "      <td>I’m so excited that with this vaccine I can se...</td>\n",
       "      <td>0</td>\n",
       "    </tr>\n",
       "    <tr>\n",
       "      <th>2</th>\n",
       "      <td>So excited that I was able to close out 2020 o...</td>\n",
       "      <td>0</td>\n",
       "    </tr>\n",
       "    <tr>\n",
       "      <th>3</th>\n",
       "      <td>Well, it happened. My daughter used my grandch...</td>\n",
       "      <td>1</td>\n",
       "    </tr>\n",
       "    <tr>\n",
       "      <th>4</th>\n",
       "      <td>I’m getting my COVID-19 vaccine, baby! I’m so ...</td>\n",
       "      <td>0</td>\n",
       "    </tr>\n",
       "  </tbody>\n",
       "</table>\n",
       "</div>"
      ],
      "text/plain": [
       "                                                text  is_misinfo\n",
       "0  My 87 year old grandmother has been quarantini...           0\n",
       "1  I’m so excited that with this vaccine I can se...           0\n",
       "2  So excited that I was able to close out 2020 o...           0\n",
       "3  Well, it happened. My daughter used my grandch...           1\n",
       "4  I’m getting my COVID-19 vaccine, baby! I’m so ...           0"
      ]
     },
     "execution_count": 5,
     "metadata": {},
     "output_type": "execute_result"
    }
   ],
   "source": [
    "df.head()"
   ]
  },
  {
   "cell_type": "markdown",
   "id": "a9498364",
   "metadata": {},
   "source": [
    "# 5.2 Splitting Data"
   ]
  },
  {
   "cell_type": "code",
   "execution_count": 6,
   "id": "0a27009f",
   "metadata": {},
   "outputs": [],
   "source": [
    "df_train, df_test = train_test_split(df, test_size=.2, random_state=42)\n",
    "df_train, df_val = train_test_split(df_train, test_size=df_test.shape[0]/df_train.shape[0], \n",
    "                                    random_state=42)"
   ]
  },
  {
   "cell_type": "code",
   "execution_count": 7,
   "id": "d00fe947",
   "metadata": {},
   "outputs": [
    {
     "data": {
      "text/plain": [
       "((7725, 2), (2576, 2), (2576, 2))"
      ]
     },
     "execution_count": 7,
     "metadata": {},
     "output_type": "execute_result"
    }
   ],
   "source": [
    "df_train.shape, df_val.shape, df_test.shape"
   ]
  },
  {
   "cell_type": "code",
   "execution_count": 8,
   "id": "d224fe23",
   "metadata": {},
   "outputs": [
    {
     "data": {
      "text/html": [
       "<div>\n",
       "<style scoped>\n",
       "    .dataframe tbody tr th:only-of-type {\n",
       "        vertical-align: middle;\n",
       "    }\n",
       "\n",
       "    .dataframe tbody tr th {\n",
       "        vertical-align: top;\n",
       "    }\n",
       "\n",
       "    .dataframe thead th {\n",
       "        text-align: right;\n",
       "    }\n",
       "</style>\n",
       "<table border=\"1\" class=\"dataframe\">\n",
       "  <thead>\n",
       "    <tr style=\"text-align: right;\">\n",
       "      <th></th>\n",
       "      <th>text</th>\n",
       "      <th>is_misinfo</th>\n",
       "    </tr>\n",
       "  </thead>\n",
       "  <tbody>\n",
       "    <tr>\n",
       "      <th>10183</th>\n",
       "      <td>2020 onwards is condolence period... \\nHumans ...</td>\n",
       "      <td>1</td>\n",
       "    </tr>\n",
       "    <tr>\n",
       "      <th>4543</th>\n",
       "      <td>We postponed the start of VAX101 to this Frida...</td>\n",
       "      <td>1</td>\n",
       "    </tr>\n",
       "    <tr>\n",
       "      <th>6068</th>\n",
       "      <td>GOT MY SHOT  \\n\\n#Pfizer https://t.co/DQAr1hiZoh</td>\n",
       "      <td>0</td>\n",
       "    </tr>\n",
       "    <tr>\n",
       "      <th>5322</th>\n",
       "      <td>i have a vaccine appointment!</td>\n",
       "      <td>0</td>\n",
       "    </tr>\n",
       "    <tr>\n",
       "      <th>7389</th>\n",
       "      <td>Look if you are waiting to get your vaccine, I...</td>\n",
       "      <td>0</td>\n",
       "    </tr>\n",
       "  </tbody>\n",
       "</table>\n",
       "</div>"
      ],
      "text/plain": [
       "                                                    text  is_misinfo\n",
       "10183  2020 onwards is condolence period... \\nHumans ...           1\n",
       "4543   We postponed the start of VAX101 to this Frida...           1\n",
       "6068    GOT MY SHOT  \\n\\n#Pfizer https://t.co/DQAr1hiZoh           0\n",
       "5322                       i have a vaccine appointment!           0\n",
       "7389   Look if you are waiting to get your vaccine, I...           0"
      ]
     },
     "execution_count": 8,
     "metadata": {},
     "output_type": "execute_result"
    }
   ],
   "source": [
    "df_train.head()"
   ]
  },
  {
   "cell_type": "code",
   "execution_count": 9,
   "id": "9c5195e3",
   "metadata": {},
   "outputs": [
    {
     "data": {
      "text/plain": [
       "dtype('int64')"
      ]
     },
     "execution_count": 9,
     "metadata": {},
     "output_type": "execute_result"
    }
   ],
   "source": [
    "df_train['is_misinfo'].dtype"
   ]
  },
  {
   "cell_type": "markdown",
   "id": "fa10fd10",
   "metadata": {},
   "source": [
    "# 5.3 Tokenization for BERT"
   ]
  },
  {
   "cell_type": "code",
   "execution_count": 10,
   "id": "c122c345",
   "metadata": {},
   "outputs": [
    {
     "data": {
      "application/vnd.jupyter.widget-view+json": {
       "model_id": "0a6d43b4cc67403e8720466b32fa6fe6",
       "version_major": 2,
       "version_minor": 0
      },
      "text/plain": [
       "Downloading:   0%|          | 0.00/226k [00:00<?, ?B/s]"
      ]
     },
     "metadata": {},
     "output_type": "display_data"
    },
    {
     "data": {
      "application/vnd.jupyter.widget-view+json": {
       "model_id": "96806be5c0654f6eb1c70874e97efd02",
       "version_major": 2,
       "version_minor": 0
      },
      "text/plain": [
       "Downloading:   0%|          | 0.00/28.0 [00:00<?, ?B/s]"
      ]
     },
     "metadata": {},
     "output_type": "display_data"
    },
    {
     "data": {
      "application/vnd.jupyter.widget-view+json": {
       "model_id": "3616336f8a5f45ceaf91dac41152af66",
       "version_major": 2,
       "version_minor": 0
      },
      "text/plain": [
       "Downloading:   0%|          | 0.00/570 [00:00<?, ?B/s]"
      ]
     },
     "metadata": {},
     "output_type": "display_data"
    }
   ],
   "source": [
    "tokenizer = BertTokenizer.from_pretrained('bert-base-uncased')"
   ]
  },
  {
   "cell_type": "code",
   "execution_count": 12,
   "id": "dc052b04",
   "metadata": {},
   "outputs": [
    {
     "data": {
      "text/plain": [
       "{'input_ids': [101, 2023, 2003, 3424, 17404, 999, 999, 999, 102], 'token_type_ids': [0, 0, 0, 0, 0, 0, 0, 0, 0], 'attention_mask': [1, 1, 1, 1, 1, 1, 1, 1, 1]}"
      ]
     },
     "execution_count": 12,
     "metadata": {},
     "output_type": "execute_result"
    }
   ],
   "source": [
    "tokenizer('This is anti vaccine!!!')"
   ]
  },
  {
   "cell_type": "code",
   "execution_count": 13,
   "id": "f21f83fc",
   "metadata": {},
   "outputs": [],
   "source": [
    "for row in df_test.itertuples():\n",
    "  text = row[1]\n",
    "  label = row[2]\n",
    "  tokenized = tokenizer(text, \n",
    "                                  max_length=128, \n",
    "                                  padding='max_length', \n",
    "                                  truncation=True)\n"
   ]
  },
  {
   "cell_type": "code",
   "execution_count": 14,
   "id": "c9d6a6c2",
   "metadata": {},
   "outputs": [
    {
     "name": "stdout",
     "output_type": "stream",
     "text": [
      "{'input_ids': [101, 2065, 2017, 2292, 2115, 18551, 15385, 2115, 2227, 2017, 2123, 2102, 2031, 2000, 4737, 2055, 2054, 2015, 1999, 1996, 17404, 102, 0, 0, 0, 0, 0, 0, 0, 0, 0, 0, 0, 0, 0, 0, 0, 0, 0, 0, 0, 0, 0, 0, 0, 0, 0, 0, 0, 0, 0, 0, 0, 0, 0, 0, 0, 0, 0, 0, 0, 0, 0, 0, 0, 0, 0, 0, 0, 0, 0, 0, 0, 0, 0, 0, 0, 0, 0, 0, 0, 0, 0, 0, 0, 0, 0, 0, 0, 0, 0, 0, 0, 0, 0, 0, 0, 0, 0, 0, 0, 0, 0, 0, 0, 0, 0, 0, 0, 0, 0, 0, 0, 0, 0, 0, 0, 0, 0, 0, 0, 0, 0, 0, 0, 0, 0, 0], 'token_type_ids': [0, 0, 0, 0, 0, 0, 0, 0, 0, 0, 0, 0, 0, 0, 0, 0, 0, 0, 0, 0, 0, 0, 0, 0, 0, 0, 0, 0, 0, 0, 0, 0, 0, 0, 0, 0, 0, 0, 0, 0, 0, 0, 0, 0, 0, 0, 0, 0, 0, 0, 0, 0, 0, 0, 0, 0, 0, 0, 0, 0, 0, 0, 0, 0, 0, 0, 0, 0, 0, 0, 0, 0, 0, 0, 0, 0, 0, 0, 0, 0, 0, 0, 0, 0, 0, 0, 0, 0, 0, 0, 0, 0, 0, 0, 0, 0, 0, 0, 0, 0, 0, 0, 0, 0, 0, 0, 0, 0, 0, 0, 0, 0, 0, 0, 0, 0, 0, 0, 0, 0, 0, 0, 0, 0, 0, 0, 0, 0], 'attention_mask': [1, 1, 1, 1, 1, 1, 1, 1, 1, 1, 1, 1, 1, 1, 1, 1, 1, 1, 1, 1, 1, 1, 0, 0, 0, 0, 0, 0, 0, 0, 0, 0, 0, 0, 0, 0, 0, 0, 0, 0, 0, 0, 0, 0, 0, 0, 0, 0, 0, 0, 0, 0, 0, 0, 0, 0, 0, 0, 0, 0, 0, 0, 0, 0, 0, 0, 0, 0, 0, 0, 0, 0, 0, 0, 0, 0, 0, 0, 0, 0, 0, 0, 0, 0, 0, 0, 0, 0, 0, 0, 0, 0, 0, 0, 0, 0, 0, 0, 0, 0, 0, 0, 0, 0, 0, 0, 0, 0, 0, 0, 0, 0, 0, 0, 0, 0, 0, 0, 0, 0, 0, 0, 0, 0, 0, 0, 0, 0]}\n"
     ]
    }
   ],
   "source": [
    "print(tokenized)"
   ]
  },
  {
   "cell_type": "code",
   "execution_count": 15,
   "id": "9044ec7d",
   "metadata": {},
   "outputs": [],
   "source": [
    "def data_gen(data):\n",
    "    def g():\n",
    "        for row in data.itertuples():\n",
    "            text = row[1]\n",
    "            label = row[2]\n",
    "            tokenized = tokenizer(text, \n",
    "                                  max_length=128, \n",
    "                                  padding='max_length', \n",
    "                                  truncation=True)\n",
    "            yield {k: np.array(tokenized[k]) for k in tokenized}, label\n",
    "    return g\n",
    "\n",
    "input_names = ['input_ids', 'token_type_ids', 'attention_mask']\n",
    "data_types = ({k: tf.int32 for k in input_names}, tf.int64)\n",
    "data_shapes = ({k: tf.TensorShape([None]) for k in input_names}, tf.TensorShape([]))\n",
    "\n",
    "data_train = tf.data.Dataset.from_generator(\n",
    "    data_gen(df_train),\n",
    "    data_types, data_shapes\n",
    ").shuffle(100).batch(32).repeat(4)\n",
    "\n",
    "data_val = tf.data.Dataset.from_generator(\n",
    "    data_gen(df_val),\n",
    "    data_types, data_shapes).shuffle(100).batch(32)"
   ]
  },
  {
   "cell_type": "code",
   "execution_count": 16,
   "id": "ed126156",
   "metadata": {},
   "outputs": [
    {
     "data": {
      "text/plain": [
       "<TakeDataset element_spec=({'input_ids': TensorSpec(shape=(None, None), dtype=tf.int32, name=None), 'token_type_ids': TensorSpec(shape=(None, None), dtype=tf.int32, name=None), 'attention_mask': TensorSpec(shape=(None, None), dtype=tf.int32, name=None)}, TensorSpec(shape=(None,), dtype=tf.int64, name=None))>"
      ]
     },
     "execution_count": 16,
     "metadata": {},
     "output_type": "execute_result"
    }
   ],
   "source": [
    "data_train.take(1)"
   ]
  },
  {
   "cell_type": "code",
   "execution_count": 20,
   "id": "178827a4",
   "metadata": {},
   "outputs": [
    {
     "data": {
      "application/vnd.jupyter.widget-view+json": {
       "model_id": "ee81760066284a6aae457a64c645f7dd",
       "version_major": 2,
       "version_minor": 0
      },
      "text/plain": [
       "Downloading:   0%|          | 0.00/558 [00:00<?, ?B/s]"
      ]
     },
     "metadata": {},
     "output_type": "display_data"
    },
    {
     "name": "stderr",
     "output_type": "stream",
     "text": [
      "You are using a model of type roberta to instantiate a model of type bert. This is not supported for all configurations of models and can yield errors.\n"
     ]
    },
    {
     "data": {
      "application/vnd.jupyter.widget-view+json": {
       "model_id": "1631917d25184378b36f90870c9e7aff",
       "version_major": 2,
       "version_minor": 0
      },
      "text/plain": [
       "Downloading:   0%|          | 0.00/705M [00:00<?, ?B/s]"
      ]
     },
     "metadata": {},
     "output_type": "display_data"
    },
    {
     "name": "stderr",
     "output_type": "stream",
     "text": [
      "Some layers from the model checkpoint at vinai/bertweet-base were not used when initializing TFBertForSequenceClassification: ['lm_head', 'roberta']\n",
      "- This IS expected if you are initializing TFBertForSequenceClassification from the checkpoint of a model trained on another task or with another architecture (e.g. initializing a BertForSequenceClassification model from a BertForPreTraining model).\n",
      "- This IS NOT expected if you are initializing TFBertForSequenceClassification from the checkpoint of a model that you expect to be exactly identical (initializing a BertForSequenceClassification model from a BertForSequenceClassification model).\n",
      "Some layers of TFBertForSequenceClassification were not initialized from the model checkpoint at vinai/bertweet-base and are newly initialized: ['classifier', 'bert']\n",
      "You should probably TRAIN this model on a down-stream task to be able to use it for predictions and inference.\n"
     ]
    }
   ],
   "source": [
    "model = TFBertForSequenceClassification.from_pretrained('vinai/bertweet-base') #changee to berttweet"
   ]
  },
  {
   "cell_type": "code",
   "execution_count": 21,
   "id": "b5bc74df",
   "metadata": {},
   "outputs": [],
   "source": [
    "opt = optimizers.Adam(learning_rate=3e-5)\n",
    "scce = losses.SparseCategoricalCrossentropy(from_logits=True)\n",
    "model.compile(optimizer=opt, loss=scce, metrics='accuracy')"
   ]
  },
  {
   "cell_type": "code",
   "execution_count": 23,
   "id": "c5d416dc",
   "metadata": {},
   "outputs": [
    {
     "name": "stdout",
     "output_type": "stream",
     "text": [
      "Epoch 1/10\n",
      "64/64 [==============================] - 1783s 28s/step - loss: 0.0148 - accuracy: 0.9971 - val_loss: 0.1458 - val_accuracy: 0.9689\n",
      "Epoch 2/10\n",
      "64/64 [==============================] - 1681s 26s/step - loss: 0.0258 - accuracy: 0.9941 - val_loss: 0.1057 - val_accuracy: 0.9732\n",
      "Epoch 3/10\n",
      "64/64 [==============================] - 1503s 23s/step - loss: 0.0474 - accuracy: 0.9888 - val_loss: 0.1045 - val_accuracy: 0.9709\n",
      "Epoch 4/10\n",
      "64/64 [==============================] - 1413s 22s/step - loss: 0.0369 - accuracy: 0.9852 - val_loss: 0.0947 - val_accuracy: 0.9790\n",
      "Epoch 5/10\n",
      "64/64 [==============================] - 1351s 21s/step - loss: 0.0196 - accuracy: 0.9966 - val_loss: 0.1028 - val_accuracy: 0.9748\n",
      "Epoch 6/10\n",
      "64/64 [==============================] - 1386s 22s/step - loss: 0.0170 - accuracy: 0.9961 - val_loss: 0.1037 - val_accuracy: 0.9732\n"
     ]
    }
   ],
   "source": [
    "ES = EarlyStopping(monitor='val_loss', \n",
    "                   mode='min', \n",
    "                   patience=2,\n",
    "                   restore_best_weights=True)\n",
    "\n",
    "history = model.fit(data_train,  \n",
    "          validation_data=data_val,\n",
    "          epochs=10, \n",
    "          steps_per_epoch=64, \n",
    "          callbacks=ES)"
   ]
  },
  {
   "cell_type": "code",
   "execution_count": 24,
   "id": "41de6b7d",
   "metadata": {},
   "outputs": [
    {
     "data": {
      "image/png": "[encoded data removed]",
      "text/plain": [
       "<Figure size 864x360 with 2 Axes>"
      ]
     },
     "metadata": {},
     "output_type": "display_data"
    }
   ],
   "source": [
    "plt.figure(figsize=(12,5))\n",
    "plt.subplot(1,2,1)\n",
    "plt.plot(range(1, len(history.history['val_accuracy'])+1), \n",
    "         history.history['accuracy'], \n",
    "         label='train accuracy')\n",
    "plt.plot(range(1, len(history.history['val_accuracy'])+1), \n",
    "         history.history['val_accuracy'], \n",
    "         label='val_accuracy')\n",
    "plt.legend()\n",
    "plt.title('Accuracy')\n",
    "plt.xlabel('Epochs')\n",
    "\n",
    "plt.subplot(1,2,2)\n",
    "plt.plot(range(1, len(history.history['val_accuracy'])+1), \n",
    "         history.history['loss'], \n",
    "         label='train loss')\n",
    "plt.plot(range(1, len(history.history['val_accuracy'])+1), \n",
    "         history.history['val_loss'], \n",
    "         label='val_loss')\n",
    "plt.legend()\n",
    "plt.xlabel('Epochs')\n",
    "plt.title('Loss')\n",
    "plt.show()"
   ]
  },
  {
   "cell_type": "code",
   "execution_count": 25,
   "id": "e8582506",
   "metadata": {},
   "outputs": [],
   "source": [
    "model.save_pretrained('BERT_model')"
   ]
  },
  {
   "cell_type": "markdown",
   "id": "08fd416d",
   "metadata": {},
   "source": [
    "# 5.4 Evaluation"
   ]
  },
  {
   "cell_type": "code",
   "execution_count": 26,
   "id": "80517dd7",
   "metadata": {},
   "outputs": [],
   "source": [
    "from scipy.special import softmax"
   ]
  },
  {
   "cell_type": "code",
   "execution_count": 27,
   "id": "1813be5e",
   "metadata": {},
   "outputs": [],
   "source": [
    "data_test = tf.data.Dataset.from_generator(\n",
    "    data_gen(df_test),\n",
    "    data_types, data_shapes).batch(32)"
   ]
  },
  {
   "cell_type": "code",
   "execution_count": 28,
   "id": "47b8f154",
   "metadata": {},
   "outputs": [
    {
     "name": "stdout",
     "output_type": "stream",
     "text": [
      "81/81 [==============================] - 359s 4s/step - loss: 0.0918 - accuracy: 0.9763\n"
     ]
    },
    {
     "data": {
      "text/plain": [
       "[0.09180468320846558, 0.9763198494911194]"
      ]
     },
     "execution_count": 28,
     "metadata": {},
     "output_type": "execute_result"
    }
   ],
   "source": [
    "model.evaluate(data_test)"
   ]
  },
  {
   "cell_type": "code",
   "execution_count": 29,
   "id": "c277e0eb",
   "metadata": {},
   "outputs": [
    {
     "data": {
      "text/plain": [
       "TFSequenceClassifierOutput(loss=None, logits=array([[ 3.9148333, -3.2170386],\n",
       "       [-3.7165072,  2.9634488],\n",
       "       [ 3.6125512, -3.069159 ],\n",
       "       ...,\n",
       "       [-3.7181745,  2.9592593],\n",
       "       [ 3.9965587, -3.2393878],\n",
       "       [ 3.9721298, -3.2320695]], dtype=float32), hidden_states=None, attentions=None)"
      ]
     },
     "execution_count": 29,
     "metadata": {},
     "output_type": "execute_result"
    }
   ],
   "source": [
    "predictions = model.predict(data_test)\n",
    "predictions"
   ]
  },
  {
   "cell_type": "code",
   "execution_count": 30,
   "id": "37687b77",
   "metadata": {},
   "outputs": [],
   "source": [
    "pred_scores = softmax(predictions[0], axis=1)[:,1]"
   ]
  },
  {
   "cell_type": "code",
   "execution_count": 31,
   "id": "6d307515",
   "metadata": {},
   "outputs": [],
   "source": [
    "pred_targets = np.where(pred_scores >= .5, 1, 0)"
   ]
  },
  {
   "cell_type": "code",
   "execution_count": 32,
   "id": "6fdfaafd",
   "metadata": {},
   "outputs": [],
   "source": [
    "from sklearn.metrics import classification_report, confusion_matrix, ConfusionMatrixDisplay"
   ]
  },
  {
   "cell_type": "code",
   "execution_count": 34,
   "id": "3fdef48c",
   "metadata": {},
   "outputs": [
    {
     "name": "stdout",
     "output_type": "stream",
     "text": [
      "              precision    recall  f1-score   support\n",
      "\n",
      "           0       0.98      0.98      0.98      1707\n",
      "           1       0.97      0.96      0.96       869\n",
      "\n",
      "    accuracy                           0.98      2576\n",
      "   macro avg       0.97      0.97      0.97      2576\n",
      "weighted avg       0.98      0.98      0.98      2576\n",
      "\n"
     ]
    }
   ],
   "source": [
    "print(classification_report(df_test['is_misinfo'], pred_targets))"
   ]
  },
  {
   "cell_type": "code",
   "execution_count": 36,
   "id": "73aaf6ea",
   "metadata": {},
   "outputs": [
    {
     "data": {
      "image/png": "[encoded data removed]",
      "text/plain": [
       "<Figure size 432x288 with 2 Axes>"
      ]
     },
     "metadata": {},
     "output_type": "display_data"
    }
   ],
   "source": [
    "cm = confusion_matrix(df_test['is_misinfo'], pred_targets, labels=[0,1])\n",
    "disp = ConfusionMatrixDisplay(confusion_matrix=cm, display_labels=[0,1])\n",
    "disp.plot()\n",
    "plt.grid(None)\n",
    "plt.show()"
   ]
  },
  {
   "cell_type": "code",
   "execution_count": 37,
   "id": "b33d0966",
   "metadata": {},
   "outputs": [],
   "source": [
    "from sklearn.metrics import plot_roc_curve, roc_curve, precision_recall_curve, roc_auc_score"
   ]
  },
  {
   "cell_type": "code",
   "execution_count": 39,
   "id": "e5773d9e",
   "metadata": {},
   "outputs": [
    {
     "data": {
      "image/png": "[encoded data removed]",
      "text/plain": [
       "<Figure size 720x288 with 2 Axes>"
      ]
     },
     "metadata": {},
     "output_type": "display_data"
    }
   ],
   "source": [
    "plt.figure(figsize=(10,4))\n",
    "plt.subplot(1,2,1)\n",
    "fpr = roc_curve(df_test['is_misinfo'], pred_scores)[0]\n",
    "tpr = roc_curve(df_test['is_misinfo'], pred_scores)[1]\n",
    "plt.fill_between(fpr,tpr,alpha=.4)\n",
    "plt.title('ROC curve')\n",
    "plt.xlabel('FPR')\n",
    "plt.ylabel('TPR')\n",
    "plt.plot(np.linspace(0,1,100), np.linspace(0,1,100), linestyle='dashed')\n",
    "plt.ylim(0,1)\n",
    "plt.xlim(0,1)\n",
    "\n",
    "plt.subplot(1,2,2)\n",
    "prec = precision_recall_curve(df_test['is_misinfo'], pred_scores)[0]\n",
    "recall = precision_recall_curve(df_test['is_misinfo'], pred_scores)[1]\n",
    "\n",
    "plt.fill_between(recall, prec, alpha=.4)\n",
    "plt.title('Precision-Recall Curve')\n",
    "plt.xlabel('Recall')\n",
    "plt.ylabel('Precision')\n",
    "plt.xlim(0,1)\n",
    "plt.ylim(0,1)\n",
    "\n",
    "plt.tight_layout()\n",
    "plt.show()"
   ]
  },
  {
   "cell_type": "markdown",
   "id": "71094bbb",
   "metadata": {},
   "source": [
    "# 5.5 Evaluating on new tweets"
   ]
  },
  {
   "cell_type": "code",
   "execution_count": 40,
   "id": "94dc28ed",
   "metadata": {},
   "outputs": [],
   "source": [
    "def make_prediction(tweet_text):\n",
    "  # Can only handle one tweet at a time\n",
    "  tokenized_tweet = tokenizer(tweet_text)\n",
    "  logits = model.predict({k: np.array(tokenized_tweet[k])[None] for k in input_names})[0]\n",
    "\n",
    "  scores = softmax(logits)\n",
    "  if scores.flatten()[1] >= .5:\n",
    "    return ('Anti-Vaccine', scores.flatten()[1])\n",
    "  else:\n",
    "    return ('Pro-Vaccine', scores.flatten()[1])"
   ]
  },
  {
   "cell_type": "code",
   "execution_count": 62,
   "id": "d6eb24d7",
   "metadata": {},
   "outputs": [
    {
     "data": {
      "text/plain": [
       "('Pro-Vaccine', 0.00065898296)"
      ]
     },
     "execution_count": 62,
     "metadata": {},
     "output_type": "execute_result"
    }
   ],
   "source": [
    "make_prediction(\"finally got the vaccine\")\n"
   ]
  },
  {
   "cell_type": "code",
   "execution_count": 58,
   "id": "59f3f66c",
   "metadata": {},
   "outputs": [
    {
     "data": {
      "text/plain": [
       "('Anti-Vaccine', 0.99873644)"
      ]
     },
     "execution_count": 58,
     "metadata": {},
     "output_type": "execute_result"
    }
   ],
   "source": [
    "make_prediction(\"the vaccine is experimental\")\n"
   ]
  },
  {
   "cell_type": "code",
   "execution_count": 60,
   "id": "f3579746",
   "metadata": {},
   "outputs": [
    {
     "data": {
      "text/plain": [
       "('Anti-Vaccine', 0.9987632)"
      ]
     },
     "execution_count": 60,
     "metadata": {},
     "output_type": "execute_result"
    }
   ],
   "source": [
    "make_prediction(\"vaccine kill us\")\n"
   ]
  },
  {
   "cell_type": "code",
   "execution_count": null,
   "id": "39ec3504",
   "metadata": {},
   "outputs": [],
   "source": []
  }
 ],
 "metadata": {
  "kernelspec": {
   "display_name": "Python 3",
   "language": "python",
   "name": "python3"
  },
  "language_info": {
   "codemirror_mode": {
    "name": "ipython",
    "version": 3
   },
   "file_extension": ".py",
   "mimetype": "text/x-python",
   "name": "python",
   "nbconvert_exporter": "python",
   "pygments_lexer": "ipython3",
   "version": "3.8.8"
  }
 },
 "nbformat": 4,
 "nbformat_minor": 5
}
