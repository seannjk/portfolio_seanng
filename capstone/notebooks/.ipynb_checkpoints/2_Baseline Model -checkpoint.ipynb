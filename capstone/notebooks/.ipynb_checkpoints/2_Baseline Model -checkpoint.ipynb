{
 "cells": [
  {
   "cell_type": "markdown",
   "id": "a67f1dbc",
   "metadata": {},
   "source": [
    "# 2.1 Import Libraries "
   ]
  },
  {
   "cell_type": "code",
   "execution_count": 1,
   "id": "55a3da13",
   "metadata": {},
   "outputs": [
    {
     "name": "stdout",
     "output_type": "stream",
     "text": [
      "Library Setup Complete.\n"
     ]
    }
   ],
   "source": [
    "import pandas as pd\n",
    "import numpy as np\n",
    "import seaborn as sns\n",
    "import matplotlib.pyplot as plt\n",
    "\n",
    "import preprocess_kgptalkie as ps # preprocessing text package\n",
    "\n",
    "from sklearn.feature_extraction.text import CountVectorizer\n",
    "from sklearn.feature_extraction.text import TfidfVectorizer\n",
    "from sklearn.decomposition import PCA\n",
    "from sklearn.model_selection import cross_val_score\n",
    "from sklearn.model_selection import train_test_split\n",
    "from sklearn.model_selection import cross_validate\n",
    "from sklearn.metrics import accuracy_score\n",
    "from sklearn.ensemble import AdaBoostClassifier\n",
    "from sklearn.ensemble import RandomForestClassifier\n",
    "from sklearn.dummy import DummyClassifier\n",
    "from sklearn.model_selection import train_test_split\n",
    "from sklearn.naive_bayes import MultinomialNB\n",
    "from sklearn.metrics import classification_report\n",
    "\n",
    "import nltk\n",
    "from nltk import word_tokenize\n",
    "from nltk.corpus import stopwords\n",
    "stop_words = stopwords.words(\"english\")\n",
    "newstopwords = ['rt', 'https', 'http', 'co',  'amp', 'vaccine', 'covid','vaccinate', 'vaccination', 'people', 'coronavirus','want', 'still', 'know', 'make', 'vaccinated', 'vaccines', 'u', 'ur', '4', '2', 'im', 'dont', 'doin', 'ure']\n",
    "stop_words.extend(newstopwords)\n",
    "from nltk.stem import WordNetLemmatizer\n",
    "wordnet_lemmatizer = WordNetLemmatizer()\n",
    "\n",
    "import torch\n",
    "import torch.nn as nn\n",
    "from pytorch_pretrained_bert import BertTokenizer, BertModel\n",
    "from keras.preprocessing.sequence import pad_sequences\n",
    "\n",
    "from tensorflow.keras.preprocessing.text import Tokenizer\n",
    "from tensorflow.keras.layers import Embedding,Dense,SpatialDropout1D,Dropout\n",
    "from tensorflow.keras.preprocessing.sequence import pad_sequences\n",
    "from tensorflow.keras.models import Sequential\n",
    "from tensorflow.keras.optimizers import Adam\n",
    "\n",
    "\n",
    "import numpy as np # linear algebra\n",
    "import re\n",
    "import string\n",
    "import matplotlib.pyplot as plt\n",
    "plt.rc('figure',figsize=(17,13))\n",
    "import seaborn as sns\n",
    "sns.set_style('darkgrid')\n",
    "\n",
    "import collections\n",
    "from collections import Counter\n",
    "import scipy.stats as stats\n",
    "\n",
    "pd.options.display.max_rows = 999\n",
    "pd.options.display.max_columns = 999\n",
    "pd.options.display.max_colwidth = 999\n",
    "\n",
    "import warnings\n",
    "warnings.filterwarnings(\"ignore\")\n",
    "print(\"Library Setup Complete.\")"
   ]
  },
  {
   "cell_type": "code",
   "execution_count": 2,
   "id": "deb4547c",
   "metadata": {},
   "outputs": [],
   "source": [
    "df = pd.read_csv('../Dataset/cleaned_dataset.csv', encoding = \"utf-8\")\n",
    "df.drop(\"Unnamed: 0\",axis=1,inplace=True)"
   ]
  },
  {
   "cell_type": "code",
   "execution_count": 3,
   "id": "ebacfcec",
   "metadata": {
    "scrolled": false
   },
   "outputs": [
    {
     "name": "stdout",
     "output_type": "stream",
     "text": [
      "(12877, 2)\n"
     ]
    },
    {
     "data": {
      "text/html": [
       "<div>\n",
       "<style scoped>\n",
       "    .dataframe tbody tr th:only-of-type {\n",
       "        vertical-align: middle;\n",
       "    }\n",
       "\n",
       "    .dataframe tbody tr th {\n",
       "        vertical-align: top;\n",
       "    }\n",
       "\n",
       "    .dataframe thead th {\n",
       "        text-align: right;\n",
       "    }\n",
       "</style>\n",
       "<table border=\"1\" class=\"dataframe\">\n",
       "  <thead>\n",
       "    <tr style=\"text-align: right;\">\n",
       "      <th></th>\n",
       "      <th>text</th>\n",
       "      <th>is_misinfo</th>\n",
       "    </tr>\n",
       "  </thead>\n",
       "  <tbody>\n",
       "    <tr>\n",
       "      <th>0</th>\n",
       "      <td>My 87 year old grandmother has been quarantining in her Florida house for close to a year. She was so excited to go to @CityDaytona to get her COVID vaccine next week, only to find out @CountyOfVolusia only has 2000 doses spread out over 2 days. For a county of 500,000+. 1/3</td>\n",
       "      <td>0</td>\n",
       "    </tr>\n",
       "    <tr>\n",
       "      <th>1</th>\n",
       "      <td>I’m so excited that with this vaccine I can see the day where we get back to the work of thanking and celebrating (in person and face to face) all the amazing work our healthcare heroes do every day. I’m very ready to throw our “Pandemic is over” party! #417fightscovid https://t.co/T7O6ypn8Ax</td>\n",
       "      <td>0</td>\n",
       "    </tr>\n",
       "    <tr>\n",
       "      <th>2</th>\n",
       "      <td>So excited that I was able to close out 2020 on a positive note with getting the first dose of the COVID-19 vaccine! https://t.co/Y1mSXVPBMD</td>\n",
       "      <td>0</td>\n",
       "    </tr>\n",
       "    <tr>\n",
       "      <th>3</th>\n",
       "      <td>Well, it happened. My daughter used my grandchildren to try to guilt me in to taking the vaccine for the CCP bioweapon. Satan is disguised in so many forms. Be on your guard...even when it feels like your heart is being ripped out. #StandStrong 🙏🏾</td>\n",
       "      <td>1</td>\n",
       "    </tr>\n",
       "    <tr>\n",
       "      <th>4</th>\n",
       "      <td>I’m getting my COVID-19 vaccine, baby! I’m so fucking excited!</td>\n",
       "      <td>0</td>\n",
       "    </tr>\n",
       "  </tbody>\n",
       "</table>\n",
       "</div>"
      ],
      "text/plain": [
       "                                                                                                                                                                                                                                                                                                    text  \\\n",
       "0                    My 87 year old grandmother has been quarantining in her Florida house for close to a year. She was so excited to go to @CityDaytona to get her COVID vaccine next week, only to find out @CountyOfVolusia only has 2000 doses spread out over 2 days. For a county of 500,000+. 1/3   \n",
       "1  I’m so excited that with this vaccine I can see the day where we get back to the work of thanking and celebrating (in person and face to face) all the amazing work our healthcare heroes do every day. I’m very ready to throw our “Pandemic is over” party! #417fightscovid https://t.co/T7O6ypn8Ax   \n",
       "2                                                                                                                                                           So excited that I was able to close out 2020 on a positive note with getting the first dose of the COVID-19 vaccine! https://t.co/Y1mSXVPBMD   \n",
       "3                                                Well, it happened. My daughter used my grandchildren to try to guilt me in to taking the vaccine for the CCP bioweapon. Satan is disguised in so many forms. Be on your guard...even when it feels like your heart is being ripped out. #StandStrong 🙏🏾   \n",
       "4                                                                                                                                                                                                                                         I’m getting my COVID-19 vaccine, baby! I’m so fucking excited!   \n",
       "\n",
       "   is_misinfo  \n",
       "0           0  \n",
       "1           0  \n",
       "2           0  \n",
       "3           1  \n",
       "4           0  "
      ]
     },
     "execution_count": 3,
     "metadata": {},
     "output_type": "execute_result"
    }
   ],
   "source": [
    "print(df.shape)\n",
    "df.head()"
   ]
  },
  {
   "cell_type": "code",
   "execution_count": 4,
   "id": "a1de7f06",
   "metadata": {
    "scrolled": true
   },
   "outputs": [
    {
     "name": "stdout",
     "output_type": "stream",
     "text": [
      "<class 'pandas.core.frame.DataFrame'>\n",
      "RangeIndex: 12877 entries, 0 to 12876\n",
      "Data columns (total 2 columns):\n",
      " #   Column      Non-Null Count  Dtype \n",
      "---  ------      --------------  ----- \n",
      " 0   text        12877 non-null  object\n",
      " 1   is_misinfo  12877 non-null  int64 \n",
      "dtypes: int64(1), object(1)\n",
      "memory usage: 201.3+ KB\n"
     ]
    }
   ],
   "source": [
    "df.info()"
   ]
  },
  {
   "cell_type": "markdown",
   "id": "c3f9dc65",
   "metadata": {},
   "source": [
    "# 2.2 Is the Data Balanced?"
   ]
  },
  {
   "cell_type": "code",
   "execution_count": 5,
   "id": "4418f61b",
   "metadata": {
    "scrolled": true
   },
   "outputs": [
    {
     "data": {
      "image/png": "[encoded data removed]",
      "text/plain": [
       "<Figure size 1080x432 with 2 Axes>"
      ]
     },
     "metadata": {},
     "output_type": "display_data"
    }
   ],
   "source": [
    "plt.figure(figsize=(15,6))\n",
    "plt.subplot(1,2,1)\n",
    "sns.countplot(x=df['is_misinfo'])\n",
    "plt.xticks([0,1], ['Pro-Vaccine','Anti-Vaccine'])\n",
    "plt.title('Distribution of Target')\n",
    "\n",
    "plt.subplot(1,2,2)\n",
    "pro_vac = df[df['is_misinfo']==0].shape[0]\n",
    "anti_vac = df[df['is_misinfo']==1].shape[0]\n",
    "plt.pie([pro_vac, anti_vac], labels = ['Pro-Vaccine', 'Anti-Vaccine'], autopct='%1.1f%%')\n",
    "\n",
    "plt.show()"
   ]
  },
  {
   "cell_type": "markdown",
   "id": "51182cdf",
   "metadata": {},
   "source": [
    "# 2.3 Distribution of Number of Words "
   ]
  },
  {
   "cell_type": "code",
   "execution_count": 6,
   "id": "7c751d2a",
   "metadata": {},
   "outputs": [
    {
     "data": {
      "image/png": "[encoded data removed]",
      "text/plain": [
       "<Figure size 576x432 with 1 Axes>"
      ]
     },
     "metadata": {},
     "output_type": "display_data"
    }
   ],
   "source": [
    "plt.figure(figsize=(8,6))\n",
    "sns.boxplot(x = df['is_misinfo'], y=df['text'].str.split().apply(lambda x: len(x)))\n",
    "plt.title('Distribution of # of Words')\n",
    "plt.xticks(ticks=[0,1],labels = ['Pro-Vaccine', 'Anti-Vaccine'])\n",
    "plt.ylabel('Words')\n",
    "plt.show()"
   ]
  },
  {
   "cell_type": "code",
   "execution_count": 7,
   "id": "10f43493",
   "metadata": {
    "scrolled": true
   },
   "outputs": [
    {
     "data": {
      "text/plain": [
       "F_onewayResult(statistic=1081.5857926254666, pvalue=7.652907009238765e-228)"
      ]
     },
     "execution_count": 7,
     "metadata": {},
     "output_type": "execute_result"
    }
   ],
   "source": [
    "stats.f_oneway(df[df['is_misinfo']==0]['text'].str.split().apply(lambda x: len(x)),\n",
    "               df[df['is_misinfo']==1]['text'].str.split().apply(lambda x: len(x)))"
   ]
  },
  {
   "cell_type": "markdown",
   "id": "fd0184f9",
   "metadata": {},
   "source": [
    "##### Since  p_val > .05 we accept H0 and conclude there is no difference in means."
   ]
  },
  {
   "cell_type": "markdown",
   "id": "8d285298",
   "metadata": {},
   "source": [
    "# 2.4 Pre-Processing "
   ]
  },
  {
   "cell_type": "code",
   "execution_count": 8,
   "id": "4bfdb345",
   "metadata": {},
   "outputs": [],
   "source": [
    "import spacy\n",
    "nlp = spacy.load('en_core_web_sm')"
   ]
  },
  {
   "cell_type": "code",
   "execution_count": 9,
   "id": "38c4cfb7",
   "metadata": {},
   "outputs": [],
   "source": [
    "def clean_text(text):\n",
    "    '''Make text lowercase, remove text in square brackets,remove links,remove punctuation\n",
    "    and remove words containing numbers.'''\n",
    "    text = text.lower()\n",
    "    text = re.sub('\\[.*?\\]', '', text)\n",
    "    text = re.sub('https?://\\S+|www\\.\\S+', '', text)\n",
    "    text = re.sub('<.*?>+', '', text)\n",
    "    text = re.sub('[%s]' % re.escape(string.punctuation), '', text)\n",
    "    text = re.sub('\\n', '', text)\n",
    "    text = re.sub('\\w*\\d\\w*', '', text)\n",
    "    text = ''.join([c for c in text if c not in string.punctuation])\n",
    "    tokens = re.split('\\W+', text)\n",
    "    text = ' '.join([word for word in tokens if word not in stop_words])\n",
    "    text = nlp(text)\n",
    "    text = ' '.join([word.lemma_ for word in text])\n",
    "    return text"
   ]
  },
  {
   "cell_type": "code",
   "execution_count": 10,
   "id": "2d46f1f5",
   "metadata": {},
   "outputs": [],
   "source": [
    "df['clean_text'] = df['text'].apply(lambda x: clean_text(x))"
   ]
  },
  {
   "cell_type": "code",
   "execution_count": 11,
   "id": "0d0e0742",
   "metadata": {},
   "outputs": [
    {
     "data": {
      "text/html": [
       "<div>\n",
       "<style scoped>\n",
       "    .dataframe tbody tr th:only-of-type {\n",
       "        vertical-align: middle;\n",
       "    }\n",
       "\n",
       "    .dataframe tbody tr th {\n",
       "        vertical-align: top;\n",
       "    }\n",
       "\n",
       "    .dataframe thead th {\n",
       "        text-align: right;\n",
       "    }\n",
       "</style>\n",
       "<table border=\"1\" class=\"dataframe\">\n",
       "  <thead>\n",
       "    <tr style=\"text-align: right;\">\n",
       "      <th></th>\n",
       "      <th>text</th>\n",
       "      <th>is_misinfo</th>\n",
       "      <th>clean_text</th>\n",
       "    </tr>\n",
       "  </thead>\n",
       "  <tbody>\n",
       "    <tr>\n",
       "      <th>0</th>\n",
       "      <td>My 87 year old grandmother has been quarantining in her Florida house for close to a year. She was so excited to go to @CityDaytona to get her COVID vaccine next week, only to find out @CountyOfVolusia only has 2000 doses spread out over 2 days. For a county of 500,000+. 1/3</td>\n",
       "      <td>0</td>\n",
       "      <td>year old grandmother quarantine florida house close year excite go citydaytona get next week find countyofvolusia dose spread day county</td>\n",
       "    </tr>\n",
       "    <tr>\n",
       "      <th>1</th>\n",
       "      <td>I’m so excited that with this vaccine I can see the day where we get back to the work of thanking and celebrating (in person and face to face) all the amazing work our healthcare heroes do every day. I’m very ready to throw our “Pandemic is over” party! #417fightscovid https://t.co/T7O6ypn8Ax</td>\n",
       "      <td>0</td>\n",
       "      <td>excited see day get back work thank celebrate person face face amazing work healthcare hero every day ready throw pandemic party</td>\n",
       "    </tr>\n",
       "    <tr>\n",
       "      <th>2</th>\n",
       "      <td>So excited that I was able to close out 2020 on a positive note with getting the first dose of the COVID-19 vaccine! https://t.co/Y1mSXVPBMD</td>\n",
       "      <td>0</td>\n",
       "      <td>excited able close positive note get first dose</td>\n",
       "    </tr>\n",
       "    <tr>\n",
       "      <th>3</th>\n",
       "      <td>Well, it happened. My daughter used my grandchildren to try to guilt me in to taking the vaccine for the CCP bioweapon. Satan is disguised in so many forms. Be on your guard...even when it feels like your heart is being ripped out. #StandStrong 🙏🏾</td>\n",
       "      <td>1</td>\n",
       "      <td>well happen daughter use grandchild try guilt take ccp bioweapon satan disguise many form guardeven feel like heart rip standstrong</td>\n",
       "    </tr>\n",
       "    <tr>\n",
       "      <th>4</th>\n",
       "      <td>I’m getting my COVID-19 vaccine, baby! I’m so fucking excited!</td>\n",
       "      <td>0</td>\n",
       "      <td>get baby fuck excited</td>\n",
       "    </tr>\n",
       "  </tbody>\n",
       "</table>\n",
       "</div>"
      ],
      "text/plain": [
       "                                                                                                                                                                                                                                                                                                    text  \\\n",
       "0                    My 87 year old grandmother has been quarantining in her Florida house for close to a year. She was so excited to go to @CityDaytona to get her COVID vaccine next week, only to find out @CountyOfVolusia only has 2000 doses spread out over 2 days. For a county of 500,000+. 1/3   \n",
       "1  I’m so excited that with this vaccine I can see the day where we get back to the work of thanking and celebrating (in person and face to face) all the amazing work our healthcare heroes do every day. I’m very ready to throw our “Pandemic is over” party! #417fightscovid https://t.co/T7O6ypn8Ax   \n",
       "2                                                                                                                                                           So excited that I was able to close out 2020 on a positive note with getting the first dose of the COVID-19 vaccine! https://t.co/Y1mSXVPBMD   \n",
       "3                                                Well, it happened. My daughter used my grandchildren to try to guilt me in to taking the vaccine for the CCP bioweapon. Satan is disguised in so many forms. Be on your guard...even when it feels like your heart is being ripped out. #StandStrong 🙏🏾   \n",
       "4                                                                                                                                                                                                                                         I’m getting my COVID-19 vaccine, baby! I’m so fucking excited!   \n",
       "\n",
       "   is_misinfo  \\\n",
       "0           0   \n",
       "1           0   \n",
       "2           0   \n",
       "3           1   \n",
       "4           0   \n",
       "\n",
       "                                                                                                                                 clean_text  \n",
       "0  year old grandmother quarantine florida house close year excite go citydaytona get next week find countyofvolusia dose spread day county  \n",
       "1          excited see day get back work thank celebrate person face face amazing work healthcare hero every day ready throw pandemic party  \n",
       "2                                                                                           excited able close positive note get first dose  \n",
       "3       well happen daughter use grandchild try guilt take ccp bioweapon satan disguise many form guardeven feel like heart rip standstrong  \n",
       "4                                                                                                                     get baby fuck excited  "
      ]
     },
     "execution_count": 11,
     "metadata": {},
     "output_type": "execute_result"
    }
   ],
   "source": [
    "df.head()"
   ]
  },
  {
   "cell_type": "markdown",
   "id": "638403d0",
   "metadata": {},
   "source": [
    "### Split data"
   ]
  },
  {
   "cell_type": "code",
   "execution_count": 12,
   "id": "4e95eb42",
   "metadata": {},
   "outputs": [],
   "source": [
    "X_train, X_test, y_train, y_test = train_test_split(df['clean_text'], df['is_misinfo'], test_size=.2, random_state=42)"
   ]
  },
  {
   "cell_type": "markdown",
   "id": "30294e17",
   "metadata": {},
   "source": [
    "### Bag of Words"
   ]
  },
  {
   "cell_type": "code",
   "execution_count": 13,
   "id": "6784c507",
   "metadata": {},
   "outputs": [],
   "source": [
    "max_feat = 9000\n",
    "cv = CountVectorizer(max_features = max_feat, ngram_range=(1,5), stop_words='english')"
   ]
  },
  {
   "cell_type": "code",
   "execution_count": 14,
   "id": "be121fea",
   "metadata": {},
   "outputs": [],
   "source": [
    "X_bow_train= cv.fit_transform(X_train)\n",
    "y_bow_train = y_train\n",
    "X_bow_test = cv.transform(X_test)\n",
    "y_bow_test = y_test"
   ]
  },
  {
   "cell_type": "code",
   "execution_count": 15,
   "id": "70923157",
   "metadata": {},
   "outputs": [
    {
     "data": {
      "text/plain": [
       "((10301, 9000), (2576, 9000))"
      ]
     },
     "execution_count": 15,
     "metadata": {},
     "output_type": "execute_result"
    }
   ],
   "source": [
    "X_bow_train.shape, X_bow_test.shape"
   ]
  },
  {
   "cell_type": "markdown",
   "id": "c3ee439b",
   "metadata": {},
   "source": [
    "### TF-IDF"
   ]
  },
  {
   "cell_type": "code",
   "execution_count": 16,
   "id": "6f436adb",
   "metadata": {},
   "outputs": [],
   "source": [
    "tf = TfidfVectorizer(max_features=9000, ngram_range=(1,5) ,stop_words='english')"
   ]
  },
  {
   "cell_type": "code",
   "execution_count": 17,
   "id": "00da7054",
   "metadata": {},
   "outputs": [],
   "source": [
    "X_tf_train= tf.fit_transform(X_train)\n",
    "y_tf_train = y_train\n",
    "X_tf_test = tf.transform(X_test)\n",
    "y_tf_test = y_test"
   ]
  },
  {
   "cell_type": "markdown",
   "id": "da5b024a",
   "metadata": {},
   "source": [
    "# 2.5 Baseline Models"
   ]
  },
  {
   "cell_type": "markdown",
   "id": "27dd46b3",
   "metadata": {},
   "source": [
    "### Random Guess"
   ]
  },
  {
   "cell_type": "code",
   "execution_count": 18,
   "id": "116975dd",
   "metadata": {},
   "outputs": [],
   "source": [
    "dc_freq = DummyClassifier(strategy = 'most_frequent')  \n",
    "dc_freq.fit(X_bow_train, y_bow_train)\n",
    "rand_pred_freq = dc_freq.predict(X_bow_test)"
   ]
  },
  {
   "cell_type": "code",
   "execution_count": 19,
   "id": "0c7a667b",
   "metadata": {},
   "outputs": [
    {
     "data": {
      "text/plain": [
       "0.6626552795031055"
      ]
     },
     "execution_count": 19,
     "metadata": {},
     "output_type": "execute_result"
    }
   ],
   "source": [
    "random_acc_freq = accuracy_score(y_bow_test, rand_pred_freq)  # doesn't matter if its bow or tf\n",
    "random_acc_freq"
   ]
  },
  {
   "cell_type": "code",
   "execution_count": 20,
   "id": "a0aa6bf0",
   "metadata": {},
   "outputs": [],
   "source": [
    "dc_strat = DummyClassifier(strategy = 'stratified')\n",
    "dc_strat.fit(X_bow_train, y_bow_train)\n",
    "rand_pred_strat = dc_strat.predict(X_bow_test)"
   ]
  },
  {
   "cell_type": "code",
   "execution_count": 21,
   "id": "28bfca08",
   "metadata": {},
   "outputs": [
    {
     "data": {
      "text/plain": [
       "0.5555124223602484"
      ]
     },
     "execution_count": 21,
     "metadata": {},
     "output_type": "execute_result"
    }
   ],
   "source": [
    "random_acc_strat = accuracy_score(y_bow_test, rand_pred_strat)  # doesn't matter if its bow or tf\n",
    "random_acc_strat"
   ]
  },
  {
   "cell_type": "markdown",
   "id": "d7a074bb",
   "metadata": {},
   "source": [
    "### Baseline accuracy according to dummy classifier"
   ]
  },
  {
   "cell_type": "code",
   "execution_count": 22,
   "id": "c4384b15",
   "metadata": {},
   "outputs": [
    {
     "data": {
      "text/html": [
       "<div>\n",
       "<style scoped>\n",
       "    .dataframe tbody tr th:only-of-type {\n",
       "        vertical-align: middle;\n",
       "    }\n",
       "\n",
       "    .dataframe tbody tr th {\n",
       "        vertical-align: top;\n",
       "    }\n",
       "\n",
       "    .dataframe thead th {\n",
       "        text-align: right;\n",
       "    }\n",
       "</style>\n",
       "<table border=\"1\" class=\"dataframe\">\n",
       "  <thead>\n",
       "    <tr style=\"text-align: right;\">\n",
       "      <th></th>\n",
       "      <th>Accuracy</th>\n",
       "    </tr>\n",
       "    <tr>\n",
       "      <th>Strategy</th>\n",
       "      <th></th>\n",
       "    </tr>\n",
       "  </thead>\n",
       "  <tbody>\n",
       "    <tr>\n",
       "      <th>most frequent</th>\n",
       "      <td>0.662655</td>\n",
       "    </tr>\n",
       "    <tr>\n",
       "      <th>stratified</th>\n",
       "      <td>0.555512</td>\n",
       "    </tr>\n",
       "  </tbody>\n",
       "</table>\n",
       "</div>"
      ],
      "text/plain": [
       "               Accuracy\n",
       "Strategy               \n",
       "most frequent  0.662655\n",
       "stratified     0.555512"
      ]
     },
     "execution_count": 22,
     "metadata": {},
     "output_type": "execute_result"
    }
   ],
   "source": [
    "# initialise data of lists.\n",
    "data = {'Strategy':['most frequent', 'stratified'],\n",
    "        'Accuracy':[random_acc_freq, random_acc_strat]}\n",
    " \n",
    "# Create DataFrame\n",
    "df_dc = pd.DataFrame(data)\n",
    " \n",
    "# Print the output.\n",
    "df_dc.set_index('Strategy')"
   ]
  },
  {
   "cell_type": "markdown",
   "id": "ae0f9551",
   "metadata": {},
   "source": [
    "# Metrics achieved by simple models"
   ]
  },
  {
   "cell_type": "code",
   "execution_count": 23,
   "id": "91371842",
   "metadata": {},
   "outputs": [],
   "source": [
    "from sklearn.model_selection import cross_validate\n",
    "from sklearn.linear_model import LogisticRegression\n",
    "from sklearn.naive_bayes import GaussianNB\n",
    "from sklearn.naive_bayes import BernoulliNB"
   ]
  },
  {
   "cell_type": "markdown",
   "id": "26ad85ba",
   "metadata": {},
   "source": [
    "### Metrics using BOW:"
   ]
  },
  {
   "cell_type": "code",
   "execution_count": 24,
   "id": "49679d80",
   "metadata": {},
   "outputs": [
    {
     "data": {
      "text/html": [
       "<div>\n",
       "<style scoped>\n",
       "    .dataframe tbody tr th:only-of-type {\n",
       "        vertical-align: middle;\n",
       "    }\n",
       "\n",
       "    .dataframe tbody tr th {\n",
       "        vertical-align: top;\n",
       "    }\n",
       "\n",
       "    .dataframe thead th {\n",
       "        text-align: right;\n",
       "    }\n",
       "</style>\n",
       "<table border=\"1\" class=\"dataframe\">\n",
       "  <thead>\n",
       "    <tr style=\"text-align: right;\">\n",
       "      <th></th>\n",
       "      <th>clf</th>\n",
       "      <th>Accuracy</th>\n",
       "      <th>Precision</th>\n",
       "      <th>Recall</th>\n",
       "    </tr>\n",
       "  </thead>\n",
       "  <tbody>\n",
       "    <tr>\n",
       "      <th>0</th>\n",
       "      <td>DummyClassifier</td>\n",
       "      <td>0.540723</td>\n",
       "      <td>0.344427</td>\n",
       "      <td>0.343305</td>\n",
       "    </tr>\n",
       "    <tr>\n",
       "      <th>1</th>\n",
       "      <td>RandomForestClassifier</td>\n",
       "      <td>0.969808</td>\n",
       "      <td>0.961402</td>\n",
       "      <td>0.952063</td>\n",
       "    </tr>\n",
       "    <tr>\n",
       "      <th>2</th>\n",
       "      <td>AdaBoostClassifier</td>\n",
       "      <td>0.967673</td>\n",
       "      <td>0.970420</td>\n",
       "      <td>0.936274</td>\n",
       "    </tr>\n",
       "    <tr>\n",
       "      <th>3</th>\n",
       "      <td>LogisticRegression</td>\n",
       "      <td>0.972041</td>\n",
       "      <td>0.976216</td>\n",
       "      <td>0.943197</td>\n",
       "    </tr>\n",
       "    <tr>\n",
       "      <th>4</th>\n",
       "      <td>GaussianNB</td>\n",
       "      <td>0.905931</td>\n",
       "      <td>0.927748</td>\n",
       "      <td>0.793293</td>\n",
       "    </tr>\n",
       "    <tr>\n",
       "      <th>5</th>\n",
       "      <td>BernoulliNB</td>\n",
       "      <td>0.937385</td>\n",
       "      <td>0.971994</td>\n",
       "      <td>0.845667</td>\n",
       "    </tr>\n",
       "  </tbody>\n",
       "</table>\n",
       "</div>"
      ],
      "text/plain": [
       "                      clf  Accuracy  Precision    Recall\n",
       "0         DummyClassifier  0.540723   0.344427  0.343305\n",
       "1  RandomForestClassifier  0.969808   0.961402  0.952063\n",
       "2      AdaBoostClassifier  0.967673   0.970420  0.936274\n",
       "3      LogisticRegression  0.972041   0.976216  0.943197\n",
       "4              GaussianNB  0.905931   0.927748  0.793293\n",
       "5             BernoulliNB  0.937385   0.971994  0.845667"
      ]
     },
     "execution_count": 24,
     "metadata": {},
     "output_type": "execute_result"
    }
   ],
   "source": [
    "clfs = [DummyClassifier(strategy = 'stratified'),\n",
    "        RandomForestClassifier(), \n",
    "       AdaBoostClassifier(),\n",
    "       LogisticRegression(),\n",
    "       GaussianNB(),\n",
    "        BernoulliNB()\n",
    "       ]\n",
    "res_df = pd.DataFrame(columns=['clf', 'Accuracy', 'Precision', 'Recall'])\n",
    "for clf in clfs:\n",
    "    scoring = ['accuracy', 'precision', 'recall']\n",
    "    final_score = cross_validate(clf, X_bow_train.toarray(), y_bow_train, cv=5, scoring=scoring)\n",
    "    res_df = res_df.append({'clf':clf.__class__.__name__, \n",
    "                            'Accuracy':final_score['test_accuracy'].mean(),\n",
    "                           'Precision':final_score['test_precision'].mean(),\n",
    "                           'Recall':final_score['test_recall'].mean()}, ignore_index=True)\n",
    "res_df"
   ]
  },
  {
   "cell_type": "code",
   "execution_count": null,
   "id": "e36a3faf",
   "metadata": {},
   "outputs": [],
   "source": [
    "ada_final_score = cross_validate(ada_clf, X_bow_train.toarray(), y_bow_train, cv=5, scoring=('accuracy', 'precision', 'recall'))"
   ]
  },
  {
   "cell_type": "code",
   "execution_count": null,
   "id": "057a43e0",
   "metadata": {},
   "outputs": [],
   "source": [
    "logreg_final_score = cross_validate(logreg_clf, X_bow_train.toarray(), y_bow_train, cv=5, scoring=('accuracy', 'precision', 'recall'))"
   ]
  },
  {
   "cell_type": "code",
   "execution_count": null,
   "id": "d825ab11",
   "metadata": {},
   "outputs": [],
   "source": [
    "gnb_final_score = cross_validate(gnb_clf, X_bow_train.toarray(), y_bow_train, cv=5, scoring=('accuracy', 'precision', 'recall'))"
   ]
  },
  {
   "cell_type": "code",
   "execution_count": null,
   "id": "196175bc",
   "metadata": {},
   "outputs": [],
   "source": [
    "nb_final_score = cross_validate(nb_clf, X_bow_train.toarray(), y_bow_train, cv=5, scoring=('accuracy', 'precision', 'recall'))"
   ]
  },
  {
   "cell_type": "code",
   "execution_count": 25,
   "id": "024b3557",
   "metadata": {},
   "outputs": [
    {
     "data": {
      "image/png": "[encoded data removed]",
      "text/plain": [
       "<Figure size 1080x360 with 1 Axes>"
      ]
     },
     "metadata": {},
     "output_type": "display_data"
    }
   ],
   "source": [
    "res_df.plot.bar(rot=0, figsize=(15,5))\n",
    "plt.xticks([0, 1, 2, 3, 4, 5], res_df.clf)\n",
    "plt.legend(loc=(1.02, 0.8))\n",
    "plt.title('Metrics attained using BOW CountVectorizer', fontsize=16)\n",
    "plt.show()"
   ]
  },
  {
   "cell_type": "markdown",
   "id": "be0734bb",
   "metadata": {},
   "source": [
    "### Metrics using TF-IDF"
   ]
  },
  {
   "cell_type": "code",
   "execution_count": 26,
   "id": "36a3af37",
   "metadata": {},
   "outputs": [
    {
     "data": {
      "text/html": [
       "<div>\n",
       "<style scoped>\n",
       "    .dataframe tbody tr th:only-of-type {\n",
       "        vertical-align: middle;\n",
       "    }\n",
       "\n",
       "    .dataframe tbody tr th {\n",
       "        vertical-align: top;\n",
       "    }\n",
       "\n",
       "    .dataframe thead th {\n",
       "        text-align: right;\n",
       "    }\n",
       "</style>\n",
       "<table border=\"1\" class=\"dataframe\">\n",
       "  <thead>\n",
       "    <tr style=\"text-align: right;\">\n",
       "      <th></th>\n",
       "      <th>clf</th>\n",
       "      <th>Accuracy</th>\n",
       "      <th>Precision</th>\n",
       "      <th>Recall</th>\n",
       "    </tr>\n",
       "  </thead>\n",
       "  <tbody>\n",
       "    <tr>\n",
       "      <th>0</th>\n",
       "      <td>DummyClassifier</td>\n",
       "      <td>0.541986</td>\n",
       "      <td>0.341552</td>\n",
       "      <td>0.330565</td>\n",
       "    </tr>\n",
       "    <tr>\n",
       "      <th>1</th>\n",
       "      <td>RandomForestClassifier</td>\n",
       "      <td>0.969711</td>\n",
       "      <td>0.962423</td>\n",
       "      <td>0.950677</td>\n",
       "    </tr>\n",
       "    <tr>\n",
       "      <th>2</th>\n",
       "      <td>AdaBoostClassifier</td>\n",
       "      <td>0.965246</td>\n",
       "      <td>0.968575</td>\n",
       "      <td>0.931009</td>\n",
       "    </tr>\n",
       "    <tr>\n",
       "      <th>3</th>\n",
       "      <td>LogisticRegression</td>\n",
       "      <td>0.966799</td>\n",
       "      <td>0.973366</td>\n",
       "      <td>0.930729</td>\n",
       "    </tr>\n",
       "    <tr>\n",
       "      <th>4</th>\n",
       "      <td>GaussianNB</td>\n",
       "      <td>0.900495</td>\n",
       "      <td>0.893547</td>\n",
       "      <td>0.812969</td>\n",
       "    </tr>\n",
       "    <tr>\n",
       "      <th>5</th>\n",
       "      <td>BernoulliNB</td>\n",
       "      <td>0.937385</td>\n",
       "      <td>0.971994</td>\n",
       "      <td>0.845667</td>\n",
       "    </tr>\n",
       "  </tbody>\n",
       "</table>\n",
       "</div>"
      ],
      "text/plain": [
       "                      clf  Accuracy  Precision    Recall\n",
       "0         DummyClassifier  0.541986   0.341552  0.330565\n",
       "1  RandomForestClassifier  0.969711   0.962423  0.950677\n",
       "2      AdaBoostClassifier  0.965246   0.968575  0.931009\n",
       "3      LogisticRegression  0.966799   0.973366  0.930729\n",
       "4              GaussianNB  0.900495   0.893547  0.812969\n",
       "5             BernoulliNB  0.937385   0.971994  0.845667"
      ]
     },
     "execution_count": 26,
     "metadata": {},
     "output_type": "execute_result"
    }
   ],
   "source": [
    "clfs = [DummyClassifier(strategy = 'stratified'),\n",
    "        RandomForestClassifier(), \n",
    "        AdaBoostClassifier(),\n",
    "        LogisticRegression(),\n",
    "        GaussianNB(),\n",
    "        BernoulliNB()\n",
    "       ]\n",
    "res_df_tf = pd.DataFrame(columns=['clf', 'Accuracy', 'Precision', 'Recall'])\n",
    "for clf in clfs:\n",
    "    scoring = ['accuracy', 'precision', 'recall']\n",
    "    final_score = cross_validate(clf, X_tf_train.toarray(), y_tf_train, cv=5, scoring=scoring)\n",
    "    res_df_tf = res_df_tf.append({'clf':clf.__class__.__name__, \n",
    "                            'Accuracy':final_score['test_accuracy'].mean(),\n",
    "                           'Precision':final_score['test_precision'].mean(),\n",
    "                           'Recall':final_score['test_recall'].mean()}, ignore_index=True)\n",
    "res_df_tf"
   ]
  },
  {
   "cell_type": "code",
   "execution_count": 27,
   "id": "26b319f2",
   "metadata": {},
   "outputs": [
    {
     "data": {
      "image/png": "[encoded data removed]",
      "text/plain": [
       "<Figure size 1080x360 with 1 Axes>"
      ]
     },
     "metadata": {},
     "output_type": "display_data"
    }
   ],
   "source": [
    "res_df.plot.bar(rot=0, figsize=(15,5))\n",
    "plt.xticks([0, 1, 2, 3, 4, 5], res_df.clf)\n",
    "plt.legend(loc=(1.02, 0.8))\n",
    "plt.title('Metrics attained using TfidfVectorizer', fontsize=16)\n",
    "plt.show()"
   ]
  },
  {
   "cell_type": "markdown",
   "id": "66f62cd9",
   "metadata": {},
   "source": [
    "### The metrics are pretty much the same using BOW or TF-IDF vectorization. Since I would prefer having higher recall > precision, I would select Random Forest classifier as my go-to model. \n"
   ]
  },
  {
   "cell_type": "markdown",
   "id": "51d3c806",
   "metadata": {},
   "source": [
    "### Saving a Random Forest Classifier Model for deployment using Heroku\n"
   ]
  },
  {
   "cell_type": "code",
   "execution_count": 28,
   "id": "dd228517",
   "metadata": {},
   "outputs": [],
   "source": [
    "rf_clf = RandomForestClassifier()"
   ]
  },
  {
   "cell_type": "code",
   "execution_count": 30,
   "id": "22b85409",
   "metadata": {},
   "outputs": [
    {
     "data": {
      "text/plain": [
       "0.971167592317802"
      ]
     },
     "execution_count": 30,
     "metadata": {},
     "output_type": "execute_result"
    }
   ],
   "source": [
    "final_score = cross_validate(rf_clf, X_tf_train.toarray(), y_tf_train, cv=5, scoring='accuracy')\n",
    "final_score['test_score'].mean()"
   ]
  },
  {
   "cell_type": "code",
   "execution_count": 32,
   "id": "522bc2ea",
   "metadata": {},
   "outputs": [
    {
     "data": {
      "text/plain": [
       "0.9767080745341615"
      ]
     },
     "execution_count": 32,
     "metadata": {},
     "output_type": "execute_result"
    }
   ],
   "source": [
    "rf_clf.fit(X_tf_train.toarray(), y_tf_train)\n",
    "pred = rf_clf.predict(X_tf_test.toarray())\n",
    "rf_clf.score(X_tf_test.toarray(), y_tf_test)"
   ]
  },
  {
   "cell_type": "code",
   "execution_count": 33,
   "id": "3261d5c0",
   "metadata": {},
   "outputs": [
    {
     "data": {
      "text/plain": [
       "array([[1.        , 0.        ],\n",
       "       [0.08      , 0.92      ],\n",
       "       [1.        , 0.        ],\n",
       "       ...,\n",
       "       [0.02      , 0.98      ],\n",
       "       [0.78880232, 0.21119768],\n",
       "       [1.        , 0.        ]])"
      ]
     },
     "execution_count": 33,
     "metadata": {},
     "output_type": "execute_result"
    }
   ],
   "source": [
    "pred_proba = rf_clf.predict_proba(X_tf_test.toarray())\n",
    "pred_proba"
   ]
  },
  {
   "cell_type": "code",
   "execution_count": 36,
   "id": "cb4ffe68",
   "metadata": {},
   "outputs": [],
   "source": [
    "import pickle\n",
    "filename = 'rf_model.pkl'\n",
    "pickle.dump(rf_clf, open(filename, 'wb'))"
   ]
  },
  {
   "cell_type": "code",
   "execution_count": 37,
   "id": "e7c37282",
   "metadata": {},
   "outputs": [],
   "source": [
    "filename1 = 'tf.pkl'\n",
    "pickle.dump(tf, open(filename1, 'wb'))"
   ]
  },
  {
   "cell_type": "code",
   "execution_count": null,
   "id": "b79bff3d",
   "metadata": {},
   "outputs": [],
   "source": []
  }
 ],
 "metadata": {
  "kernelspec": {
   "display_name": "Python 3",
   "language": "python",
   "name": "python3"
  },
  "language_info": {
   "codemirror_mode": {
    "name": "ipython",
    "version": 3
   },
   "file_extension": ".py",
   "mimetype": "text/x-python",
   "name": "python",
   "nbconvert_exporter": "python",
   "pygments_lexer": "ipython3",
   "version": "3.8.8"
  }
 },
 "nbformat": 4,
 "nbformat_minor": 5
}
