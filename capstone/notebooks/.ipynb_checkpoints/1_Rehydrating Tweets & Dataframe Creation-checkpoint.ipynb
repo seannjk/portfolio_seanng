{
 "cells": [
  {
   "cell_type": "markdown",
   "id": "eb2b9684",
   "metadata": {},
   "source": [
    "# 1.1 Import Libraries"
   ]
  },
  {
   "cell_type": "code",
   "execution_count": null,
   "id": "27e611c8",
   "metadata": {},
   "outputs": [],
   "source": [
    "import numpy as np # linear algebra\n",
    "import pandas as pd # data processing, CSV file I/O (e.g. pd.read_csv)\n",
    "import re\n",
    "import string\n",
    "import matplotlib.pyplot as plt\n",
    "plt.rc('figure',figsize=(17,13))\n",
    "import seaborn as sns\n",
    "sns.set_style('darkgrid')\n",
    "\n",
    "pd.options.display.max_rows = 999\n",
    "pd.options.display.max_columns = 999\n",
    "pd.options.display.max_colwidth = 999\n",
    "\n",
    "import warnings\n",
    "warnings.filterwarnings(\"ignore\")\n",
    "print(\"Library Setup Complete.\")"
   ]
  },
  {
   "cell_type": "markdown",
   "id": "7977a09c",
   "metadata": {},
   "source": [
    "# 1.2 Merging Dataframes"
   ]
  },
  {
   "cell_type": "markdown",
   "id": "451b4f3c",
   "metadata": {},
   "source": [
    "Here, we will import two dataframes:\n",
    "- dataframe consisting of rehydrated tweets and ID, but without misinformation labels \n",
    "- dataframe consisting only of ID and misinformation labels"
   ]
  },
  {
   "cell_type": "code",
   "execution_count": null,
   "id": "a1965c67",
   "metadata": {},
   "outputs": [],
   "source": [
    "df_withoutlabel = pd.read_excel('../Dataset/final_antivax.xlsx')"
   ]
  },
  {
   "cell_type": "code",
   "execution_count": null,
   "id": "0204e644",
   "metadata": {},
   "outputs": [],
   "source": [
    "labels = pd.read_excel('../Dataset/Untitled spreadsheet copy.xlsx')"
   ]
  },
  {
   "cell_type": "code",
   "execution_count": null,
   "id": "3c252c32",
   "metadata": {},
   "outputs": [],
   "source": [
    "df_withoutlabel.info()"
   ]
  },
  {
   "cell_type": "code",
   "execution_count": null,
   "id": "2b1dddbc",
   "metadata": {},
   "outputs": [],
   "source": [
    "labels.info()"
   ]
  },
  {
   "cell_type": "code",
   "execution_count": null,
   "id": "95fc78f5",
   "metadata": {},
   "outputs": [],
   "source": [
    "df = pd.merge(df_withoutlabel, labels, on='id')#merge df_withoutlabel and labels dataframe on 'id' to create complete dataframe"
   ]
  },
  {
   "cell_type": "code",
   "execution_count": null,
   "id": "0fa45fa7",
   "metadata": {},
   "outputs": [],
   "source": [
    "df.info() #merge successful!"
   ]
  },
  {
   "cell_type": "markdown",
   "id": "aab30069",
   "metadata": {},
   "source": [
    "# 1.3 Saving new dataframe"
   ]
  },
  {
   "cell_type": "code",
   "execution_count": null,
   "id": "e3b690b2",
   "metadata": {},
   "outputs": [],
   "source": [
    "df.to_csv('../Dataset/rehydrated_tweets_with_misinfo_label.csv')"
   ]
  },
  {
   "cell_type": "markdown",
   "id": "9c542d0e",
   "metadata": {},
   "source": [
    "# 1.4 Missing Values"
   ]
  },
  {
   "cell_type": "code",
   "execution_count": null,
   "id": "1fb58639",
   "metadata": {
    "scrolled": true
   },
   "outputs": [],
   "source": [
    "df.isna().sum() # Checking the number of missing values in each columns"
   ]
  },
  {
   "cell_type": "markdown",
   "id": "8147016f",
   "metadata": {},
   "source": [
    "### 1.4.1 Hashtags"
   ]
  },
  {
   "cell_type": "code",
   "execution_count": null,
   "id": "51aaa08a",
   "metadata": {},
   "outputs": [],
   "source": [
    "df['hashtags'].head(20) #Checking what kind of hashtags are there"
   ]
  },
  {
   "cell_type": "markdown",
   "id": "1c51e980",
   "metadata": {},
   "source": [
    "There are many missing values in the columns 'hashtags'. We will replace null values with NA. "
   ]
  },
  {
   "cell_type": "code",
   "execution_count": null,
   "id": "5bb66e69",
   "metadata": {},
   "outputs": [],
   "source": [
    "df['hashtags']= df['hashtags'].replace(np.nan, 'NA') "
   ]
  },
  {
   "cell_type": "markdown",
   "id": "b4ea2f09",
   "metadata": {},
   "source": [
    "### 1.4.2 Possibly_Sensitive\n",
    "- Possibly_sensitive here is a field which will only surface when a tweet contains a link. The meaning of the field doesn’t pertain to the tweet content itself, but instead it is an indicator that the URL contained in the tweet may contain content or media identified as sensitive content"
   ]
  },
  {
   "cell_type": "code",
   "execution_count": null,
   "id": "adb92b32",
   "metadata": {
    "scrolled": false
   },
   "outputs": [],
   "source": [
    "df['possibly_sensitive'].isnull().sum()"
   ]
  },
  {
   "cell_type": "markdown",
   "id": "4069d58f",
   "metadata": {},
   "source": [
    "- Given that there are many missing values, and the column itself may not be useful. We may drop it! "
   ]
  },
  {
   "cell_type": "code",
   "execution_count": null,
   "id": "1cb846d1",
   "metadata": {},
   "outputs": [],
   "source": [
    "df = df.drop(columns=['possibly_sensitive'])"
   ]
  },
  {
   "cell_type": "code",
   "execution_count": null,
   "id": "da3cd8ec",
   "metadata": {},
   "outputs": [],
   "source": [
    "df.info()"
   ]
  },
  {
   "cell_type": "markdown",
   "id": "03c32c15",
   "metadata": {},
   "source": [
    "### 1.4.3 User Description"
   ]
  },
  {
   "cell_type": "code",
   "execution_count": null,
   "id": "94c0a325",
   "metadata": {},
   "outputs": [],
   "source": [
    "null_columns=df.columns[df.isnull().any()]"
   ]
  },
  {
   "cell_type": "code",
   "execution_count": null,
   "id": "20bfd1dc",
   "metadata": {},
   "outputs": [],
   "source": [
    "df['user_description'].isnull().sum()"
   ]
  },
  {
   "cell_type": "markdown",
   "id": "53a6adb8",
   "metadata": {},
   "source": [
    "- We will replace null values with NA since some profiles may not have a user description"
   ]
  },
  {
   "cell_type": "code",
   "execution_count": null,
   "id": "d0e2edda",
   "metadata": {},
   "outputs": [],
   "source": [
    "df['user_description']= df['user_description'].replace(np.nan, 'NA') "
   ]
  },
  {
   "cell_type": "markdown",
   "id": "270c2a42",
   "metadata": {},
   "source": [
    "### 1.4.4 User Location"
   ]
  },
  {
   "cell_type": "code",
   "execution_count": null,
   "id": "eed9542b",
   "metadata": {
    "scrolled": false
   },
   "outputs": [],
   "source": [
    "df['user_location'].head(30)"
   ]
  },
  {
   "cell_type": "markdown",
   "id": "64e8d669",
   "metadata": {},
   "source": [
    "- We will replace null values with NA since some profiles may not have a user description"
   ]
  },
  {
   "cell_type": "code",
   "execution_count": null,
   "id": "40176a64",
   "metadata": {},
   "outputs": [],
   "source": [
    "df['user_location']= df['user_location'].replace(np.nan, 'NA') "
   ]
  },
  {
   "cell_type": "markdown",
   "id": "ea40b336",
   "metadata": {},
   "source": [
    "### 1.4.5 User name"
   ]
  },
  {
   "cell_type": "code",
   "execution_count": null,
   "id": "1054299c",
   "metadata": {
    "scrolled": true
   },
   "outputs": [],
   "source": [
    "df[df['user_name'].isnull()]"
   ]
  },
  {
   "cell_type": "markdown",
   "id": "5db1d212",
   "metadata": {},
   "source": [
    "- Text does not seem relevant. Will remove these two entries."
   ]
  },
  {
   "cell_type": "code",
   "execution_count": null,
   "id": "ae4ba25f",
   "metadata": {},
   "outputs": [],
   "source": [
    "df.dropna(subset = [\"user_name\"], inplace=True)"
   ]
  },
  {
   "cell_type": "markdown",
   "id": "d7591887",
   "metadata": {},
   "source": [
    "### 1.4.5 Check all fields"
   ]
  },
  {
   "cell_type": "code",
   "execution_count": null,
   "id": "d67e180f",
   "metadata": {},
   "outputs": [],
   "source": [
    "df.isnull().sum()"
   ]
  },
  {
   "cell_type": "code",
   "execution_count": null,
   "id": "fac54223",
   "metadata": {},
   "outputs": [],
   "source": [
    "df.reset_index(drop=True, inplace=True)"
   ]
  },
  {
   "cell_type": "markdown",
   "id": "e70689c0",
   "metadata": {},
   "source": [
    "# 1.5 Removing Columns"
   ]
  },
  {
   "cell_type": "code",
   "execution_count": null,
   "id": "372f893c",
   "metadata": {},
   "outputs": [],
   "source": [
    "df = df.drop(columns=['hashtags', 'id', 'lang', 'tweet_url', \n",
    "                      'user_created_at','user_id', 'user_default_profile_image',\n",
    "                      'user_description', 'user_favourites_count', 'user_listed_count',\n",
    "                     'user_location', 'user_name', 'user_screen_name', 'user_statuses_count'\n",
    "                     ,'user_verified', 'user_followers_count', 'user_friends_count', 'favorite_count',\n",
    "                     'retweet_count', 'source', 'created_at'])"
   ]
  },
  {
   "cell_type": "code",
   "execution_count": null,
   "id": "a7a3a5c5",
   "metadata": {
    "scrolled": true
   },
   "outputs": [],
   "source": [
    "df.columns #left 8 columns after dropping all the unnecessary columns"
   ]
  },
  {
   "cell_type": "code",
   "execution_count": null,
   "id": "083f3998",
   "metadata": {
    "scrolled": true
   },
   "outputs": [],
   "source": [
    "df.head()"
   ]
  },
  {
   "cell_type": "markdown",
   "id": "badde721",
   "metadata": {},
   "source": [
    "# 1.7 Drop Duplicates"
   ]
  },
  {
   "cell_type": "code",
   "execution_count": null,
   "id": "9d6b18a6",
   "metadata": {},
   "outputs": [],
   "source": [
    "print(len(df))"
   ]
  },
  {
   "cell_type": "code",
   "execution_count": null,
   "id": "5675b7ab",
   "metadata": {},
   "outputs": [],
   "source": [
    "df = df.drop_duplicates('text', keep='last')"
   ]
  },
  {
   "cell_type": "code",
   "execution_count": null,
   "id": "15fbdcf6",
   "metadata": {},
   "outputs": [],
   "source": [
    "print(len(df))"
   ]
  },
  {
   "cell_type": "markdown",
   "id": "77396e8f",
   "metadata": {},
   "source": [
    "# 1.8 Saving dataframe"
   ]
  },
  {
   "cell_type": "code",
   "execution_count": null,
   "id": "8f586189",
   "metadata": {},
   "outputs": [],
   "source": [
    "df.to_csv('../Dataset/cleaned_dataset.csv')"
   ]
  }
 ],
 "metadata": {
  "kernelspec": {
   "display_name": "Python 3",
   "language": "python",
   "name": "python3"
  },
  "language_info": {
   "codemirror_mode": {
    "name": "ipython",
    "version": 3
   },
   "file_extension": ".py",
   "mimetype": "text/x-python",
   "name": "python",
   "nbconvert_exporter": "python",
   "pygments_lexer": "ipython3",
   "version": "3.8.8"
  }
 },
 "nbformat": 4,
 "nbformat_minor": 5
}
