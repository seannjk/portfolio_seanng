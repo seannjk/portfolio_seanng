{
 "cells": [
  {
   "cell_type": "markdown",
   "id": "a67f1dbc",
   "metadata": {},
   "source": [
    "# 2.1 Import Libraries "
   ]
  },
  {
   "cell_type": "code",
   "execution_count": 3,
   "id": "55a3da13",
   "metadata": {},
   "outputs": [
    {
     "name": "stdout",
     "output_type": "stream",
     "text": [
      "Library Setup Complete.\n"
     ]
    }
   ],
   "source": [
    "import pandas as pd\n",
    "import numpy as np\n",
    "import seaborn as sns\n",
    "import matplotlib.pyplot as plt\n",
    "\n",
    "from sklearn.feature_extraction.text import CountVectorizer\n",
    "from sklearn.feature_extraction.text import TfidfVectorizer\n",
    "from sklearn.decomposition import PCA\n",
    "from sklearn.model_selection import cross_val_score\n",
    "from sklearn.model_selection import train_test_split\n",
    "from sklearn.model_selection import cross_validate\n",
    "from sklearn.metrics import accuracy_score\n",
    "from sklearn.ensemble import AdaBoostClassifier\n",
    "from sklearn.ensemble import RandomForestClassifier\n",
    "from sklearn.dummy import DummyClassifier\n",
    "from sklearn.model_selection import train_test_split\n",
    "from sklearn.naive_bayes import MultinomialNB\n",
    "from sklearn.metrics import classification_report\n",
    "\n",
    "import nltk\n",
    "from nltk import word_tokenize\n",
    "from nltk.corpus import stopwords\n",
    "stop_words = stopwords.words(\"english\")\n",
    "newstopwords = ['rt', 'https', 'http', 'co',  'amp', 'vaccine', 'covid','vaccinate', 'vaccination', 'people', 'coronavirus','want', 'still', 'know', 'make', 'vaccinated', 'vaccines', 'u', 'ur', '4', '2', 'im', 'dont', 'doin', 'ure']\n",
    "stop_words.extend(newstopwords)\n",
    "from nltk.stem import WordNetLemmatizer\n",
    "wordnet_lemmatizer = WordNetLemmatizer()\n",
    "\n",
    "import torch\n",
    "import torch.nn as nn\n",
    "from pytorch_pretrained_bert import BertTokenizer, BertModel\n",
    "from keras.preprocessing.sequence import pad_sequences\n",
    "\n",
    "from tensorflow.keras.preprocessing.text import Tokenizer\n",
    "from tensorflow.keras.layers import Embedding,Dense,SpatialDropout1D,Dropout\n",
    "from tensorflow.keras.preprocessing.sequence import pad_sequences\n",
    "from tensorflow.keras.models import Sequential\n",
    "from tensorflow.keras.optimizers import Adam\n",
    "\n",
    "\n",
    "import numpy as np # linear algebra\n",
    "import re\n",
    "import string\n",
    "import matplotlib.pyplot as plt\n",
    "plt.rc('figure',figsize=(17,13))\n",
    "import seaborn as sns\n",
    "sns.set_style('darkgrid')\n",
    "\n",
    "import collections\n",
    "from collections import Counter\n",
    "import scipy.stats as stats\n",
    "\n",
    "pd.options.display.max_rows = 999\n",
    "pd.options.display.max_columns = 999\n",
    "pd.options.display.max_colwidth = 999\n",
    "\n",
    "import warnings\n",
    "warnings.filterwarnings(\"ignore\")\n",
    "print(\"Library Setup Complete.\")"
   ]
  },
  {
   "cell_type": "code",
   "execution_count": 4,
   "id": "deb4547c",
   "metadata": {},
   "outputs": [],
   "source": [
    "df = pd.read_csv('../Dataset/cleaned_dataset.csv', encoding = \"utf-8\")\n",
    "df.drop(\"Unnamed: 0\",axis=1,inplace=True)"
   ]
  },
  {
   "cell_type": "code",
   "execution_count": 5,
   "id": "ebacfcec",
   "metadata": {
    "scrolled": true
   },
   "outputs": [
    {
     "name": "stdout",
     "output_type": "stream",
     "text": [
      "(12877, 2)\n"
     ]
    },
    {
     "data": {
      "text/html": [
       "<div>\n",
       "<style scoped>\n",
       "    .dataframe tbody tr th:only-of-type {\n",
       "        vertical-align: middle;\n",
       "    }\n",
       "\n",
       "    .dataframe tbody tr th {\n",
       "        vertical-align: top;\n",
       "    }\n",
       "\n",
       "    .dataframe thead th {\n",
       "        text-align: right;\n",
       "    }\n",
       "</style>\n",
       "<table border=\"1\" class=\"dataframe\">\n",
       "  <thead>\n",
       "    <tr style=\"text-align: right;\">\n",
       "      <th></th>\n",
       "      <th>text</th>\n",
       "      <th>is_misinfo</th>\n",
       "    </tr>\n",
       "  </thead>\n",
       "  <tbody>\n",
       "    <tr>\n",
       "      <th>0</th>\n",
       "      <td>My 87 year old grandmother has been quarantining in her Florida house for close to a year. She was so excited to go to @CityDaytona to get her COVID vaccine next week, only to find out @CountyOfVolusia only has 2000 doses spread out over 2 days. For a county of 500,000+. 1/3</td>\n",
       "      <td>0</td>\n",
       "    </tr>\n",
       "    <tr>\n",
       "      <th>1</th>\n",
       "      <td>I’m so excited that with this vaccine I can see the day where we get back to the work of thanking and celebrating (in person and face to face) all the amazing work our healthcare heroes do every day. I’m very ready to throw our “Pandemic is over” party! #417fightscovid https://t.co/T7O6ypn8Ax</td>\n",
       "      <td>0</td>\n",
       "    </tr>\n",
       "    <tr>\n",
       "      <th>2</th>\n",
       "      <td>So excited that I was able to close out 2020 on a positive note with getting the first dose of the COVID-19 vaccine! https://t.co/Y1mSXVPBMD</td>\n",
       "      <td>0</td>\n",
       "    </tr>\n",
       "    <tr>\n",
       "      <th>3</th>\n",
       "      <td>Well, it happened. My daughter used my grandchildren to try to guilt me in to taking the vaccine for the CCP bioweapon. Satan is disguised in so many forms. Be on your guard...even when it feels like your heart is being ripped out. #StandStrong 🙏🏾</td>\n",
       "      <td>1</td>\n",
       "    </tr>\n",
       "    <tr>\n",
       "      <th>4</th>\n",
       "      <td>I’m getting my COVID-19 vaccine, baby! I’m so fucking excited!</td>\n",
       "      <td>0</td>\n",
       "    </tr>\n",
       "  </tbody>\n",
       "</table>\n",
       "</div>"
      ],
      "text/plain": [
       "                                                                                                                                                                                                                                                                                                    text  \\\n",
       "0                    My 87 year old grandmother has been quarantining in her Florida house for close to a year. She was so excited to go to @CityDaytona to get her COVID vaccine next week, only to find out @CountyOfVolusia only has 2000 doses spread out over 2 days. For a county of 500,000+. 1/3   \n",
       "1  I’m so excited that with this vaccine I can see the day where we get back to the work of thanking and celebrating (in person and face to face) all the amazing work our healthcare heroes do every day. I’m very ready to throw our “Pandemic is over” party! #417fightscovid https://t.co/T7O6ypn8Ax   \n",
       "2                                                                                                                                                           So excited that I was able to close out 2020 on a positive note with getting the first dose of the COVID-19 vaccine! https://t.co/Y1mSXVPBMD   \n",
       "3                                                Well, it happened. My daughter used my grandchildren to try to guilt me in to taking the vaccine for the CCP bioweapon. Satan is disguised in so many forms. Be on your guard...even when it feels like your heart is being ripped out. #StandStrong 🙏🏾   \n",
       "4                                                                                                                                                                                                                                         I’m getting my COVID-19 vaccine, baby! I’m so fucking excited!   \n",
       "\n",
       "   is_misinfo  \n",
       "0           0  \n",
       "1           0  \n",
       "2           0  \n",
       "3           1  \n",
       "4           0  "
      ]
     },
     "execution_count": 5,
     "metadata": {},
     "output_type": "execute_result"
    }
   ],
   "source": [
    "print(df.shape)\n",
    "df.head()"
   ]
  },
  {
   "cell_type": "code",
   "execution_count": 6,
   "id": "a1de7f06",
   "metadata": {
    "scrolled": true
   },
   "outputs": [
    {
     "name": "stdout",
     "output_type": "stream",
     "text": [
      "<class 'pandas.core.frame.DataFrame'>\n",
      "RangeIndex: 12877 entries, 0 to 12876\n",
      "Data columns (total 2 columns):\n",
      " #   Column      Non-Null Count  Dtype \n",
      "---  ------      --------------  ----- \n",
      " 0   text        12877 non-null  object\n",
      " 1   is_misinfo  12877 non-null  int64 \n",
      "dtypes: int64(1), object(1)\n",
      "memory usage: 201.3+ KB\n"
     ]
    }
   ],
   "source": [
    "df.info()"
   ]
  },
  {
   "cell_type": "markdown",
   "id": "c3f9dc65",
   "metadata": {},
   "source": [
    "# 2.2 Is the Data Balanced?"
   ]
  },
  {
   "cell_type": "code",
   "execution_count": 7,
   "id": "4418f61b",
   "metadata": {
    "scrolled": true
   },
   "outputs": [
    {
     "data": {
      "image/png": "[encoded data removed]",
      "text/plain": [
       "<Figure size 1080x432 with 2 Axes>"
      ]
     },
     "metadata": {},
     "output_type": "display_data"
    }
   ],
   "source": [
    "plt.figure(figsize=(15,6))\n",
    "plt.subplot(1,2,1)\n",
    "sns.countplot(x=df['is_misinfo'])\n",
    "plt.xticks([0,1], ['Pro-Vaccine','Anti-Vaccine'])\n",
    "plt.title('Distribution of Target')\n",
    "\n",
    "plt.subplot(1,2,2)\n",
    "pro_vac = df[df['is_misinfo']==0].shape[0]\n",
    "anti_vac = df[df['is_misinfo']==1].shape[0]\n",
    "plt.pie([pro_vac, anti_vac], labels = ['Pro-Vaccine', 'Anti-Vaccine'], autopct='%1.1f%%')\n",
    "\n",
    "plt.show()"
   ]
  },
  {
   "cell_type": "markdown",
   "id": "51182cdf",
   "metadata": {},
   "source": [
    "# 2.3 Distribution of Number of Words "
   ]
  },
  {
   "cell_type": "code",
   "execution_count": 8,
   "id": "7c751d2a",
   "metadata": {},
   "outputs": [
    {
     "data": {
      "image/png": "[encoded data removed]",
      "text/plain": [
       "<Figure size 576x432 with 1 Axes>"
      ]
     },
     "metadata": {},
     "output_type": "display_data"
    }
   ],
   "source": [
    "plt.figure(figsize=(8,6))\n",
    "sns.boxplot(x = df['is_misinfo'], y=df['text'].str.split().apply(lambda x: len(x)))\n",
    "plt.title('Distribution of # of Words')\n",
    "plt.xticks(ticks=[0,1],labels = ['Pro-Vaccine', 'Anti-Vaccine'])\n",
    "plt.ylabel('Words')\n",
    "plt.show()"
   ]
  },
  {
   "cell_type": "code",
   "execution_count": 9,
   "id": "10f43493",
   "metadata": {
    "scrolled": true
   },
   "outputs": [
    {
     "data": {
      "text/plain": [
       "F_onewayResult(statistic=1081.5857926254666, pvalue=7.652907009238765e-228)"
      ]
     },
     "execution_count": 9,
     "metadata": {},
     "output_type": "execute_result"
    }
   ],
   "source": [
    "stats.f_oneway(df[df['is_misinfo']==0]['text'].str.split().apply(lambda x: len(x)),\n",
    "               df[df['is_misinfo']==1]['text'].str.split().apply(lambda x: len(x)))"
   ]
  },
  {
   "cell_type": "markdown",
   "id": "fd0184f9",
   "metadata": {},
   "source": [
    "##### Since  p_val > .05 we accept H0 and conclude there is no difference in means."
   ]
  },
  {
   "cell_type": "markdown",
   "id": "8d285298",
   "metadata": {},
   "source": [
    "# 2.4 Pre-Processing "
   ]
  },
  {
   "cell_type": "code",
   "execution_count": 16,
   "id": "4bfdb345",
   "metadata": {},
   "outputs": [],
   "source": [
    "import spacy\n",
    "nlp = spacy.load('en_core_web_sm')"
   ]
  },
  {
   "cell_type": "code",
   "execution_count": 17,
   "id": "38c4cfb7",
   "metadata": {},
   "outputs": [],
   "source": [
    "def clean_text(text):\n",
    "    '''Make text lowercase, remove text in square brackets,remove links,remove punctuation\n",
    "    and remove words containing numbers.'''\n",
    "    text = text.lower()\n",
    "    text = re.sub('\\[.*?\\]', '', text)\n",
    "    text = re.sub('https?://\\S+|www\\.\\S+', '', text)\n",
    "    text = re.sub('<.*?>+', '', text)\n",
    "    text = re.sub('[%s]' % re.escape(string.punctuation), '', text)\n",
    "    text = re.sub('\\n', '', text)\n",
    "    text = re.sub('\\w*\\d\\w*', '', text)\n",
    "    text = ''.join([c for c in text if c not in string.punctuation])\n",
    "    tokens = re.split('\\W+', text)\n",
    "    text = ' '.join([word for word in tokens if word not in stop_words])\n",
    "    text = nlp(text)\n",
    "    text = ' '.join([word.lemma_ for word in text])\n",
    "    return text"
   ]
  },
  {
   "cell_type": "code",
   "execution_count": 18,
   "id": "2d46f1f5",
   "metadata": {},
   "outputs": [],
   "source": [
    "df['clean_text'] = df['text'].apply(lambda x: clean_text(x))"
   ]
  },
  {
   "cell_type": "code",
   "execution_count": 19,
   "id": "0d0e0742",
   "metadata": {},
   "outputs": [
    {
     "data": {
      "text/html": [
       "<div>\n",
       "<style scoped>\n",
       "    .dataframe tbody tr th:only-of-type {\n",
       "        vertical-align: middle;\n",
       "    }\n",
       "\n",
       "    .dataframe tbody tr th {\n",
       "        vertical-align: top;\n",
       "    }\n",
       "\n",
       "    .dataframe thead th {\n",
       "        text-align: right;\n",
       "    }\n",
       "</style>\n",
       "<table border=\"1\" class=\"dataframe\">\n",
       "  <thead>\n",
       "    <tr style=\"text-align: right;\">\n",
       "      <th></th>\n",
       "      <th>text</th>\n",
       "      <th>is_misinfo</th>\n",
       "      <th>clean_text</th>\n",
       "    </tr>\n",
       "  </thead>\n",
       "  <tbody>\n",
       "    <tr>\n",
       "      <th>0</th>\n",
       "      <td>My 87 year old grandmother has been quarantining in her Florida house for close to a year. She was so excited to go to @CityDaytona to get her COVID vaccine next week, only to find out @CountyOfVolusia only has 2000 doses spread out over 2 days. For a county of 500,000+. 1/3</td>\n",
       "      <td>0</td>\n",
       "      <td>year old grandmother quarantine florida house close year excite go citydaytona get next week find countyofvolusia dose spread day county</td>\n",
       "    </tr>\n",
       "    <tr>\n",
       "      <th>1</th>\n",
       "      <td>I’m so excited that with this vaccine I can see the day where we get back to the work of thanking and celebrating (in person and face to face) all the amazing work our healthcare heroes do every day. I’m very ready to throw our “Pandemic is over” party! #417fightscovid https://t.co/T7O6ypn8Ax</td>\n",
       "      <td>0</td>\n",
       "      <td>excite see day get back work thank celebrate person face face amazing work healthcare hero every day ready throw pandemic party</td>\n",
       "    </tr>\n",
       "    <tr>\n",
       "      <th>2</th>\n",
       "      <td>So excited that I was able to close out 2020 on a positive note with getting the first dose of the COVID-19 vaccine! https://t.co/Y1mSXVPBMD</td>\n",
       "      <td>0</td>\n",
       "      <td>excite able close positive note get first dose</td>\n",
       "    </tr>\n",
       "    <tr>\n",
       "      <th>3</th>\n",
       "      <td>Well, it happened. My daughter used my grandchildren to try to guilt me in to taking the vaccine for the CCP bioweapon. Satan is disguised in so many forms. Be on your guard...even when it feels like your heart is being ripped out. #StandStrong 🙏🏾</td>\n",
       "      <td>1</td>\n",
       "      <td>well happen daughter use grandchild try guilt take ccp bioweapon satan disguise many form guardeven feel like heart rip standstrong</td>\n",
       "    </tr>\n",
       "    <tr>\n",
       "      <th>4</th>\n",
       "      <td>I’m getting my COVID-19 vaccine, baby! I’m so fucking excited!</td>\n",
       "      <td>0</td>\n",
       "      <td>get baby fuck excited</td>\n",
       "    </tr>\n",
       "  </tbody>\n",
       "</table>\n",
       "</div>"
      ],
      "text/plain": [
       "                                                                                                                                                                                                                                                                                                    text  \\\n",
       "0                    My 87 year old grandmother has been quarantining in her Florida house for close to a year. She was so excited to go to @CityDaytona to get her COVID vaccine next week, only to find out @CountyOfVolusia only has 2000 doses spread out over 2 days. For a county of 500,000+. 1/3   \n",
       "1  I’m so excited that with this vaccine I can see the day where we get back to the work of thanking and celebrating (in person and face to face) all the amazing work our healthcare heroes do every day. I’m very ready to throw our “Pandemic is over” party! #417fightscovid https://t.co/T7O6ypn8Ax   \n",
       "2                                                                                                                                                           So excited that I was able to close out 2020 on a positive note with getting the first dose of the COVID-19 vaccine! https://t.co/Y1mSXVPBMD   \n",
       "3                                                Well, it happened. My daughter used my grandchildren to try to guilt me in to taking the vaccine for the CCP bioweapon. Satan is disguised in so many forms. Be on your guard...even when it feels like your heart is being ripped out. #StandStrong 🙏🏾   \n",
       "4                                                                                                                                                                                                                                         I’m getting my COVID-19 vaccine, baby! I’m so fucking excited!   \n",
       "\n",
       "   is_misinfo  \\\n",
       "0           0   \n",
       "1           0   \n",
       "2           0   \n",
       "3           1   \n",
       "4           0   \n",
       "\n",
       "                                                                                                                                 clean_text  \n",
       "0  year old grandmother quarantine florida house close year excite go citydaytona get next week find countyofvolusia dose spread day county  \n",
       "1           excite see day get back work thank celebrate person face face amazing work healthcare hero every day ready throw pandemic party  \n",
       "2                                                                                            excite able close positive note get first dose  \n",
       "3       well happen daughter use grandchild try guilt take ccp bioweapon satan disguise many form guardeven feel like heart rip standstrong  \n",
       "4                                                                                                                     get baby fuck excited  "
      ]
     },
     "execution_count": 19,
     "metadata": {},
     "output_type": "execute_result"
    }
   ],
   "source": [
    "df.head()"
   ]
  },
  {
   "cell_type": "code",
   "execution_count": 42,
   "id": "00c0c252",
   "metadata": {},
   "outputs": [
    {
     "data": {
      "text/html": [
       "<div>\n",
       "<style scoped>\n",
       "    .dataframe tbody tr th:only-of-type {\n",
       "        vertical-align: middle;\n",
       "    }\n",
       "\n",
       "    .dataframe tbody tr th {\n",
       "        vertical-align: top;\n",
       "    }\n",
       "\n",
       "    .dataframe thead th {\n",
       "        text-align: right;\n",
       "    }\n",
       "</style>\n",
       "<table border=\"1\" class=\"dataframe\">\n",
       "  <thead>\n",
       "    <tr style=\"text-align: right;\">\n",
       "      <th></th>\n",
       "      <th>text</th>\n",
       "      <th>is_misinfo</th>\n",
       "      <th>clean_text</th>\n",
       "    </tr>\n",
       "  </thead>\n",
       "  <tbody>\n",
       "    <tr>\n",
       "      <th>0</th>\n",
       "      <td>My 87 year old grandmother has been quarantining in her Florida house for close to a year. She was so excited to go to @CityDaytona to get her COVID vaccine next week, only to find out @CountyOfVolusia only has 2000 doses spread out over 2 days. For a county of 500,000+. 1/3</td>\n",
       "      <td>0</td>\n",
       "      <td>year old grandmother quarantine florida house close year excite go citydaytona get next week find countyofvolusia dose spread day county</td>\n",
       "    </tr>\n",
       "    <tr>\n",
       "      <th>1</th>\n",
       "      <td>I’m so excited that with this vaccine I can see the day where we get back to the work of thanking and celebrating (in person and face to face) all the amazing work our healthcare heroes do every day. I’m very ready to throw our “Pandemic is over” party! #417fightscovid https://t.co/T7O6ypn8Ax</td>\n",
       "      <td>0</td>\n",
       "      <td>excite see day get back work thank celebrate person face face amazing work healthcare hero every day ready throw pandemic party</td>\n",
       "    </tr>\n",
       "    <tr>\n",
       "      <th>2</th>\n",
       "      <td>So excited that I was able to close out 2020 on a positive note with getting the first dose of the COVID-19 vaccine! https://t.co/Y1mSXVPBMD</td>\n",
       "      <td>0</td>\n",
       "      <td>excite able close positive note get first dose</td>\n",
       "    </tr>\n",
       "    <tr>\n",
       "      <th>3</th>\n",
       "      <td>Well, it happened. My daughter used my grandchildren to try to guilt me in to taking the vaccine for the CCP bioweapon. Satan is disguised in so many forms. Be on your guard...even when it feels like your heart is being ripped out. #StandStrong 🙏🏾</td>\n",
       "      <td>1</td>\n",
       "      <td>well happen daughter use grandchild try guilt take ccp bioweapon satan disguise many form guardeven feel like heart rip standstrong</td>\n",
       "    </tr>\n",
       "    <tr>\n",
       "      <th>4</th>\n",
       "      <td>I’m getting my COVID-19 vaccine, baby! I’m so fucking excited!</td>\n",
       "      <td>0</td>\n",
       "      <td>get baby fuck excited</td>\n",
       "    </tr>\n",
       "    <tr>\n",
       "      <th>5</th>\n",
       "      <td>Hmmm.  For #Idaho, 56,225 #covid vaccines available and only 15,780 administered?  Not even 30%.  Seems like there isn't a high demand for this rushed vaccine.  I'm curious as to the percentage of health care workers who choose to not get this vaccine.  \\n\\nhttps://t.co/SsBFVSA5gc</td>\n",
       "      <td>1</td>\n",
       "      <td>hmmm idaho available administer even seem like be nt high demand rush curious percentage health care worker choose get</td>\n",
       "    </tr>\n",
       "    <tr>\n",
       "      <th>6</th>\n",
       "      <td>Excited and grateful for ending 2020 with the first dose of the coronavirus vaccine in my arm! 💉💪🏽 #VaccinesWork\\n\\n2020 has been a year of huge scientific breakthroughs, and also the year that the gen pop learnt what PCR, mRNA and IgG are  #sciencebitch \\n\\n🥂to more in 2021!</td>\n",
       "      <td>0</td>\n",
       "      <td>excited grateful end first dose arm year huge scientific breakthrough also year gen pop learnt pcr mrna igg sciencebitch</td>\n",
       "    </tr>\n",
       "    <tr>\n",
       "      <th>7</th>\n",
       "      <td>Just found out my wife is getting the vaccine in about two weeks. I am both excited and jealous at the same time.</td>\n",
       "      <td>0</td>\n",
       "      <td>find wife get two week excited jealous time</td>\n",
       "    </tr>\n",
       "    <tr>\n",
       "      <th>8</th>\n",
       "      <td>Chris Rock excited to get the COVID vaccine: ‘Do I know what’s in Tylenol? I just know my headache is gone’ https://t.co/k4HnEcR8Z4</td>\n",
       "      <td>0</td>\n",
       "      <td>chris rock excited get tylenol headache go</td>\n",
       "    </tr>\n",
       "    <tr>\n",
       "      <th>9</th>\n",
       "      <td>I’m most excited for new President &amp;amp; new vaccine for 2021.</td>\n",
       "      <td>0</td>\n",
       "      <td>excited new president new</td>\n",
       "    </tr>\n",
       "    <tr>\n",
       "      <th>10</th>\n",
       "      <td>56,225 #covid vaccines available and only 15,780 administered?  Not even 30%.  Seems  there isn't a high demand for this rushed vaccine.  I'm curious as to the percentage of health care workers who choose to not get it.  @nicholsforidaho @IDHW @CDHidaho\\n\\nhttps://t.co/bi0Yg4YW2V</td>\n",
       "      <td>1</td>\n",
       "      <td>available administer even seem be nt high demand rush curious percentage health care worker choose get nicholsforidaho idhw cdhidaho</td>\n",
       "    </tr>\n",
       "    <tr>\n",
       "      <th>11</th>\n",
       "      <td>Just got the first dose of the vaccine y’all! I’m too excited about this 😎</td>\n",
       "      <td>0</td>\n",
       "      <td>got first dose excited</td>\n",
       "    </tr>\n",
       "    <tr>\n",
       "      <th>12</th>\n",
       "      <td>I got my shot today and am excited to give the covid-19 vaccine to others starting Monday. #MGH #stopthespread https://t.co/yAxMXFwIxL</td>\n",
       "      <td>0</td>\n",
       "      <td>got shoot today excite give other start monday mgh stopthespread</td>\n",
       "    </tr>\n",
       "    <tr>\n",
       "      <th>13</th>\n",
       "      <td>#lockdown Do it. Properly. NOW. Give the vaccine a chance.</td>\n",
       "      <td>0</td>\n",
       "      <td>lockdown properly give chance</td>\n",
       "    </tr>\n",
       "    <tr>\n",
       "      <th>14</th>\n",
       "      <td>I get my first dose of the Pfizer vaccine today. Wish me luck! I'm both scared and excited, like the first time you try anal sex. https://t.co/dF0YBCqPXx</td>\n",
       "      <td>0</td>\n",
       "      <td>get first dose pfizer today wish luck scare excited like first time try anal sex</td>\n",
       "    </tr>\n",
       "    <tr>\n",
       "      <th>15</th>\n",
       "      <td>Moderna mRNA #Covidvaccine published results now released. Really impressive data in terms of effectiveness (94%). Very excited to see this in the arms of those in remote, LTC communities, others soon! \\n#CalltoArms #BeGreatVaccinate\\n\\nhttps://t.co/KR2jwU6qdg https://t.co/r0A8xl3Coy</td>\n",
       "      <td>0</td>\n",
       "      <td>moderna mrna covidvaccine publish result release really impressive datum term effectiveness excited see arm remote ltc community other soon calltoarm begreatvaccinate</td>\n",
       "    </tr>\n",
       "    <tr>\n",
       "      <th>16</th>\n",
       "      <td>Listen to all these MDs who affirm the need for informed consent around taking an untested vaccine https://t.co/TGdVVKNuZk</td>\n",
       "      <td>1</td>\n",
       "      <td>listen mds affirm need informed consent around take untested</td>\n",
       "    </tr>\n",
       "    <tr>\n",
       "      <th>17</th>\n",
       "      <td>Omg omg omg I'm getting my vaccine tomorrow. I'm so excited!!!!!</td>\n",
       "      <td>0</td>\n",
       "      <td>omg omg omg get tomorrow excited</td>\n",
       "    </tr>\n",
       "    <tr>\n",
       "      <th>18</th>\n",
       "      <td>COVID-19: Delaying second doses of vaccine is the right call, say UK's chief medical officers\\nhttps://t.co/uq21Xa49a4\\n\\nI’m totally against the experimental rushed vaccine, but... \\n\\nPfizer issue a warning ⚠️ ⛔️ and SAGE just do what the hell they want ... what’s happening here 🤔 https://t.co/wZtTqLSS1p</td>\n",
       "      <td>1</td>\n",
       "      <td>delay second dose right call say uks chief medical officersi totally experimental rush pfizer issue warn sage hell happen</td>\n",
       "    </tr>\n",
       "    <tr>\n",
       "      <th>19</th>\n",
       "      <td>Is it wrong that I'm more excited by the technology of this inject-through bandaid than by the fact that I just got my first dose of the Moderna vaccine? https://t.co/74nHq5QWRo</td>\n",
       "      <td>0</td>\n",
       "      <td>wrong excited technology injectthrough bandaid fact get first dose moderna</td>\n",
       "    </tr>\n",
       "    <tr>\n",
       "      <th>20</th>\n",
       "      <td>A customer didn’t have a mask on and talked about how tired she is of staying inside but also that her father is turning 100 and getting the vaccine soon, so she’s excited to visit him..... yet made me enter her pin for her... WHILE COUGHING ????? Make it make sense!!!!! https://t.co/nGHTglErZa</td>\n",
       "      <td>0</td>\n",
       "      <td>customer mask talk tired stay inside also father turn get soon excite visit yet make enter pin cough sense</td>\n",
       "    </tr>\n",
       "    <tr>\n",
       "      <th>21</th>\n",
       "      <td>Why any healthy person would want to take an experimental vaccine that has only 2 months of safety for a highly survivable virus is beyond me. To each his own.</td>\n",
       "      <td>1</td>\n",
       "      <td>healthy person would take experimental month safety highly survivable virus beyond</td>\n",
       "    </tr>\n",
       "    <tr>\n",
       "      <th>22</th>\n",
       "      <td>My dad, a doctor, gets the 1st dose of a covid-19 vaccine soon. I asked him how he feels about it, expecting “excited” or “relieved.” \\n\\nHis answer? “Fine.”\\n\\n“I’m seeing more sick patients now than ever before. And expect even more in 2 weeks due to holiday gatherings...” 1/4</td>\n",
       "      <td>0</td>\n",
       "      <td>dad doctor gets dose soon ask feel expect excited relieve answer fine see sick patient ever expect even week due holiday gathering</td>\n",
       "    </tr>\n",
       "    <tr>\n",
       "      <th>23</th>\n",
       "      <td>35,000 Soldiers Died from the Experimental Anthrax Vaccine – More Than Those Who Died in Combat in Afghanistan and Iraq Combined https://t.co/20NtnR651r</td>\n",
       "      <td>1</td>\n",
       "      <td>soldier die experimental anthrax die combat afghanistan iraq combine</td>\n",
       "    </tr>\n",
       "    <tr>\n",
       "      <th>24</th>\n",
       "      <td>NUMBER 37 Part 2 Knowing the facts. Further Health Minister and Pfizer INSIST ALL old, sick MUST be injected with LIVE EXPERIMENTAL drug and NOT advising most old WILL die or be crippled as allergic reaction, obvious REMOVAL, main public stated AIM of Gates.</td>\n",
       "      <td>1</td>\n",
       "      <td>number part know fact health minister pfizer insist old sick must inject live experimental drug advise old die crippled allergic reaction obvious removal main public state aim gate</td>\n",
       "    </tr>\n",
       "    <tr>\n",
       "      <th>25</th>\n",
       "      <td>(it gets positive next) 2020 was a real mess and unpleasant and I'm not excited for new year specially bcs until the vaccine reaches here nothing will change and still there's not any sign of coming here soon (🇧🇷 being 🇧🇷), there were a close to none stuff worth this year for me</td>\n",
       "      <td>0</td>\n",
       "      <td>get positive next real mess unpleasant excited new year specially bcs reach nothing change there s sign come soon close none stuff worth year</td>\n",
       "    </tr>\n",
       "    <tr>\n",
       "      <th>26</th>\n",
       "      <td>Well my mom is getting her covid vaccine shot today, man I’m excited to see what kind of super powers she gets!</td>\n",
       "      <td>0</td>\n",
       "      <td>well mom getting shoot today man excite see kind super power get</td>\n",
       "    </tr>\n",
       "    <tr>\n",
       "      <th>27</th>\n",
       "      <td>I’ve never been excited for a shot but I am OVER THE MOON to have received my first dose of the Moderna #CovidVaccine! Feeling thankful and hopeful. #igottheshot @CincyChildrens https://t.co/WRY33spUHt</td>\n",
       "      <td>0</td>\n",
       "      <td>never excited shot moon receive first dose moderna covidvaccine feel thankful hopeful igottheshot cincychildren</td>\n",
       "    </tr>\n",
       "    <tr>\n",
       "      <th>28</th>\n",
       "      <td>Former FEMA operative Celeste Solum on what she says is in the Gates vaccine – I say that the ‘bioweapon’ is not in fact the ‘virus’ which does not exist, but the vaccine justified by the ‘virus’ and people will have to decide what they they think https://t.co/jBEFtbKhZf</td>\n",
       "      <td>1</td>\n",
       "      <td>former fema operative celeste solum say gate say bioweapon fact virus exist justify virus decide think</td>\n",
       "    </tr>\n",
       "    <tr>\n",
       "      <th>29</th>\n",
       "      <td>Chris Rock excited to get the COVID vaccine: ‘Do I know what’s in Tylenol? I just know my headache is gone’ https://t.co/52DPIDFXFT</td>\n",
       "      <td>0</td>\n",
       "      <td>chris rock excited get tylenol headache go</td>\n",
       "    </tr>\n",
       "    <tr>\n",
       "      <th>30</th>\n",
       "      <td>if you kissed someone on Amelia St, don’t worry about what’s in the vaccine.</td>\n",
       "      <td>0</td>\n",
       "      <td>kiss someone amelia st worry</td>\n",
       "    </tr>\n",
       "    <tr>\n",
       "      <th>31</th>\n",
       "      <td>Everyone saying “goodbye 2020” and acting excited for 2021... But we are still in quarantine, arguing over money, and fighting over a vaccine without an end in sight. 2021 doesn’t seem like it’ll be much different 😅😅 https://t.co/gyWP1MT6tc</td>\n",
       "      <td>0</td>\n",
       "      <td>everyone say goodbye act excited quarantine argue money fight without end sight seem like much different</td>\n",
       "    </tr>\n",
       "    <tr>\n",
       "      <th>32</th>\n",
       "      <td>Maybe this will get me an untested vaccine sooner....I just completed the COVID-19 prevention clinical studies volunteer registry questionnaire. https://t.co/OkZNHCRmeM</td>\n",
       "      <td>1</td>\n",
       "      <td>maybe get untested sooneri complete prevention clinical study volunteer registry questionnaire</td>\n",
       "    </tr>\n",
       "    <tr>\n",
       "      <th>33</th>\n",
       "      <td>If you're still excited about the new year,\\nyou don't need to worry about what's in the vaccine.</td>\n",
       "      <td>0</td>\n",
       "      <td>you re excited new yearyou need worry what s</td>\n",
       "    </tr>\n",
       "    <tr>\n",
       "      <th>34</th>\n",
       "      <td>We are excited to receive news that we will be one of the first organisations to take delivery of the new Astra Zeneca vaccine. We have been working tirelessly over  Christmas to set up our vaccination clinics - starting with 80yrs+. care homes and health and care staff.</td>\n",
       "      <td>0</td>\n",
       "      <td>excited receive news one first organisation take delivery new astra zeneca work tirelessly christmas set clinic start care home health care staff</td>\n",
       "    </tr>\n",
       "    <tr>\n",
       "      <th>35</th>\n",
       "      <td>Very excited to schedule the COVID vaccine and extremely proud how promptly MS3/MS4 students were prioritized @UpstateNews @OnondagaCMS</td>\n",
       "      <td>0</td>\n",
       "      <td>excited schedule extremely proud promptly student prioritize upstatenews onondagacms</td>\n",
       "    </tr>\n",
       "    <tr>\n",
       "      <th>36</th>\n",
       "      <td>The COVID-19 vaccine has been long-awaited, and now that it is here a lot of people are excited to get it. At the Northeast Colorado Health Department (NCHD), we are just as excited to administer the vaccine to help end the pandemic.  \\nRead more here: https://t.co/zkoux48H3g https://t.co/pQywXq9Kvo</td>\n",
       "      <td>0</td>\n",
       "      <td>longawaite lot excited get northeast colorado health department nchd excite administer help end pandemic read</td>\n",
       "    </tr>\n",
       "    <tr>\n",
       "      <th>37</th>\n",
       "      <td>Our veterans are heroes who bravely served us and deserve quality care. That's why I'm excited to share that residents and staff members of our @ILVetsAffairs veterans' homes have received their first dose of the COVID-19 vaccine.</td>\n",
       "      <td>0</td>\n",
       "      <td>veteran heroes bravely serve we deserve quality care that s excited share resident staff member ilvetsaffair veteran home receive first dose</td>\n",
       "    </tr>\n",
       "    <tr>\n",
       "      <th>38</th>\n",
       "      <td>Super excited for my sister who just got her first dose of the Moderna vaccine! \\n\\nShe’s a behavioral therapist (BCBA) for kids with autism and has been going into the homes of the kids since the spring. \\n\\nI’m very happy for her increased safety and 50% vaccination status! https://t.co/rCkyXsLWq3</td>\n",
       "      <td>0</td>\n",
       "      <td>super excited sister get first dose moderna behavioral therapist bcba kids autism go home kid since spring happy increase safety status</td>\n",
       "    </tr>\n",
       "    <tr>\n",
       "      <th>39</th>\n",
       "      <td>Dr. Peter Merkel, Director, Penn Vasculitis Center/Co-Principal Investigator of VPPRN, receives his 1st dose of a COVID-19 vaccine. I'm excited the vaccine will become available to everyone, especially patients w/vasculitis &amp;amp; their families. Wishing the world a HEALTHY New Year! https://t.co/8Y3jRmqVM9</td>\n",
       "      <td>0</td>\n",
       "      <td>dr peter merkel director penn vasculitis centercoprincipal investigator vpprn receive dose excited become available everyone especially patient wvasculitis family wish world healthy new year</td>\n",
       "    </tr>\n",
       "  </tbody>\n",
       "</table>\n",
       "</div>"
      ],
      "text/plain": [
       "                                                                                                                                                                                                                                                                                                                   text  \\\n",
       "0                                   My 87 year old grandmother has been quarantining in her Florida house for close to a year. She was so excited to go to @CityDaytona to get her COVID vaccine next week, only to find out @CountyOfVolusia only has 2000 doses spread out over 2 days. For a county of 500,000+. 1/3   \n",
       "1                 I’m so excited that with this vaccine I can see the day where we get back to the work of thanking and celebrating (in person and face to face) all the amazing work our healthcare heroes do every day. I’m very ready to throw our “Pandemic is over” party! #417fightscovid https://t.co/T7O6ypn8Ax   \n",
       "2                                                                                                                                                                          So excited that I was able to close out 2020 on a positive note with getting the first dose of the COVID-19 vaccine! https://t.co/Y1mSXVPBMD   \n",
       "3                                                               Well, it happened. My daughter used my grandchildren to try to guilt me in to taking the vaccine for the CCP bioweapon. Satan is disguised in so many forms. Be on your guard...even when it feels like your heart is being ripped out. #StandStrong 🙏🏾   \n",
       "4                                                                                                                                                                                                                                                        I’m getting my COVID-19 vaccine, baby! I’m so fucking excited!   \n",
       "5                             Hmmm.  For #Idaho, 56,225 #covid vaccines available and only 15,780 administered?  Not even 30%.  Seems like there isn't a high demand for this rushed vaccine.  I'm curious as to the percentage of health care workers who choose to not get this vaccine.  \\n\\nhttps://t.co/SsBFVSA5gc   \n",
       "6                                  Excited and grateful for ending 2020 with the first dose of the coronavirus vaccine in my arm! 💉💪🏽 #VaccinesWork\\n\\n2020 has been a year of huge scientific breakthroughs, and also the year that the gen pop learnt what PCR, mRNA and IgG are  #sciencebitch \\n\\n🥂to more in 2021!   \n",
       "7                                                                                                                                                                                                     Just found out my wife is getting the vaccine in about two weeks. I am both excited and jealous at the same time.   \n",
       "8                                                                                                                                                                                   Chris Rock excited to get the COVID vaccine: ‘Do I know what’s in Tylenol? I just know my headache is gone’ https://t.co/k4HnEcR8Z4   \n",
       "9                                                                                                                                                                                                                                                        I’m most excited for new President &amp; new vaccine for 2021.   \n",
       "10                             56,225 #covid vaccines available and only 15,780 administered?  Not even 30%.  Seems  there isn't a high demand for this rushed vaccine.  I'm curious as to the percentage of health care workers who choose to not get it.  @nicholsforidaho @IDHW @CDHidaho\\n\\nhttps://t.co/bi0Yg4YW2V   \n",
       "11                                                                                                                                                                                                                                           Just got the first dose of the vaccine y’all! I’m too excited about this 😎   \n",
       "12                                                                                                                                                                               I got my shot today and am excited to give the covid-19 vaccine to others starting Monday. #MGH #stopthespread https://t.co/yAxMXFwIxL   \n",
       "13                                                                                                                                                                                                                                                           #lockdown Do it. Properly. NOW. Give the vaccine a chance.   \n",
       "14                                                                                                                                                            I get my first dose of the Pfizer vaccine today. Wish me luck! I'm both scared and excited, like the first time you try anal sex. https://t.co/dF0YBCqPXx   \n",
       "15                         Moderna mRNA #Covidvaccine published results now released. Really impressive data in terms of effectiveness (94%). Very excited to see this in the arms of those in remote, LTC communities, others soon! \\n#CalltoArms #BeGreatVaccinate\\n\\nhttps://t.co/KR2jwU6qdg https://t.co/r0A8xl3Coy   \n",
       "16                                                                                                                                                                                           Listen to all these MDs who affirm the need for informed consent around taking an untested vaccine https://t.co/TGdVVKNuZk   \n",
       "17                                                                                                                                                                                                                                                     Omg omg omg I'm getting my vaccine tomorrow. I'm so excited!!!!!   \n",
       "18  COVID-19: Delaying second doses of vaccine is the right call, say UK's chief medical officers\\nhttps://t.co/uq21Xa49a4\\n\\nI’m totally against the experimental rushed vaccine, but... \\n\\nPfizer issue a warning ⚠️ ⛔️ and SAGE just do what the hell they want ... what’s happening here 🤔 https://t.co/wZtTqLSS1p   \n",
       "19                                                                                                                                    Is it wrong that I'm more excited by the technology of this inject-through bandaid than by the fact that I just got my first dose of the Moderna vaccine? https://t.co/74nHq5QWRo   \n",
       "20              A customer didn’t have a mask on and talked about how tired she is of staying inside but also that her father is turning 100 and getting the vaccine soon, so she’s excited to visit him..... yet made me enter her pin for her... WHILE COUGHING ????? Make it make sense!!!!! https://t.co/nGHTglErZa   \n",
       "21                                                                                                                                                      Why any healthy person would want to take an experimental vaccine that has only 2 months of safety for a highly survivable virus is beyond me. To each his own.   \n",
       "22                              My dad, a doctor, gets the 1st dose of a covid-19 vaccine soon. I asked him how he feels about it, expecting “excited” or “relieved.” \\n\\nHis answer? “Fine.”\\n\\n“I’m seeing more sick patients now than ever before. And expect even more in 2 weeks due to holiday gatherings...” 1/4   \n",
       "23                                                                                                                                                             35,000 Soldiers Died from the Experimental Anthrax Vaccine – More Than Those Who Died in Combat in Afghanistan and Iraq Combined https://t.co/20NtnR651r   \n",
       "24                                                   NUMBER 37 Part 2 Knowing the facts. Further Health Minister and Pfizer INSIST ALL old, sick MUST be injected with LIVE EXPERIMENTAL drug and NOT advising most old WILL die or be crippled as allergic reaction, obvious REMOVAL, main public stated AIM of Gates.   \n",
       "25                              (it gets positive next) 2020 was a real mess and unpleasant and I'm not excited for new year specially bcs until the vaccine reaches here nothing will change and still there's not any sign of coming here soon (🇧🇷 being 🇧🇷), there were a close to none stuff worth this year for me   \n",
       "26                                                                                                                                                                                                      Well my mom is getting her covid vaccine shot today, man I’m excited to see what kind of super powers she gets!   \n",
       "27                                                                                                            I’ve never been excited for a shot but I am OVER THE MOON to have received my first dose of the Moderna #CovidVaccine! Feeling thankful and hopeful. #igottheshot @CincyChildrens https://t.co/WRY33spUHt   \n",
       "28                                      Former FEMA operative Celeste Solum on what she says is in the Gates vaccine – I say that the ‘bioweapon’ is not in fact the ‘virus’ which does not exist, but the vaccine justified by the ‘virus’ and people will have to decide what they they think https://t.co/jBEFtbKhZf   \n",
       "29                                                                                                                                                                                  Chris Rock excited to get the COVID vaccine: ‘Do I know what’s in Tylenol? I just know my headache is gone’ https://t.co/52DPIDFXFT   \n",
       "30                                                                                                                                                                                                                                         if you kissed someone on Amelia St, don’t worry about what’s in the vaccine.   \n",
       "31                                                                     Everyone saying “goodbye 2020” and acting excited for 2021... But we are still in quarantine, arguing over money, and fighting over a vaccine without an end in sight. 2021 doesn’t seem like it’ll be much different 😅😅 https://t.co/gyWP1MT6tc   \n",
       "32                                                                                                                                             Maybe this will get me an untested vaccine sooner....I just completed the COVID-19 prevention clinical studies volunteer registry questionnaire. https://t.co/OkZNHCRmeM   \n",
       "33                                                                                                                                                                                                                    If you're still excited about the new year,\\nyou don't need to worry about what's in the vaccine.   \n",
       "34                                      We are excited to receive news that we will be one of the first organisations to take delivery of the new Astra Zeneca vaccine. We have been working tirelessly over  Christmas to set up our vaccination clinics - starting with 80yrs+. care homes and health and care staff.   \n",
       "35                                                                                                                                                                              Very excited to schedule the COVID vaccine and extremely proud how promptly MS3/MS4 students were prioritized @UpstateNews @OnondagaCMS   \n",
       "36         The COVID-19 vaccine has been long-awaited, and now that it is here a lot of people are excited to get it. At the Northeast Colorado Health Department (NCHD), we are just as excited to administer the vaccine to help end the pandemic.  \\nRead more here: https://t.co/zkoux48H3g https://t.co/pQywXq9Kvo   \n",
       "37                                                                               Our veterans are heroes who bravely served us and deserve quality care. That's why I'm excited to share that residents and staff members of our @ILVetsAffairs veterans' homes have received their first dose of the COVID-19 vaccine.   \n",
       "38         Super excited for my sister who just got her first dose of the Moderna vaccine! \\n\\nShe’s a behavioral therapist (BCBA) for kids with autism and has been going into the homes of the kids since the spring. \\n\\nI’m very happy for her increased safety and 50% vaccination status! https://t.co/rCkyXsLWq3   \n",
       "39  Dr. Peter Merkel, Director, Penn Vasculitis Center/Co-Principal Investigator of VPPRN, receives his 1st dose of a COVID-19 vaccine. I'm excited the vaccine will become available to everyone, especially patients w/vasculitis &amp; their families. Wishing the world a HEALTHY New Year! https://t.co/8Y3jRmqVM9   \n",
       "\n",
       "    is_misinfo  \\\n",
       "0            0   \n",
       "1            0   \n",
       "2            0   \n",
       "3            1   \n",
       "4            0   \n",
       "5            1   \n",
       "6            0   \n",
       "7            0   \n",
       "8            0   \n",
       "9            0   \n",
       "10           1   \n",
       "11           0   \n",
       "12           0   \n",
       "13           0   \n",
       "14           0   \n",
       "15           0   \n",
       "16           1   \n",
       "17           0   \n",
       "18           1   \n",
       "19           0   \n",
       "20           0   \n",
       "21           1   \n",
       "22           0   \n",
       "23           1   \n",
       "24           1   \n",
       "25           0   \n",
       "26           0   \n",
       "27           0   \n",
       "28           1   \n",
       "29           0   \n",
       "30           0   \n",
       "31           0   \n",
       "32           1   \n",
       "33           0   \n",
       "34           0   \n",
       "35           0   \n",
       "36           0   \n",
       "37           0   \n",
       "38           0   \n",
       "39           0   \n",
       "\n",
       "                                                                                                                                                                                        clean_text  \n",
       "0                                                         year old grandmother quarantine florida house close year excite go citydaytona get next week find countyofvolusia dose spread day county  \n",
       "1                                                                  excite see day get back work thank celebrate person face face amazing work healthcare hero every day ready throw pandemic party  \n",
       "2                                                                                                                                                   excite able close positive note get first dose  \n",
       "3                                                              well happen daughter use grandchild try guilt take ccp bioweapon satan disguise many form guardeven feel like heart rip standstrong  \n",
       "4                                                                                                                                                                            get baby fuck excited  \n",
       "5                                                                           hmmm idaho available administer even seem like be nt high demand rush curious percentage health care worker choose get  \n",
       "6                                                                         excited grateful end first dose arm year huge scientific breakthrough also year gen pop learnt pcr mrna igg sciencebitch  \n",
       "7                                                                                                                                                      find wife get two week excited jealous time  \n",
       "8                                                                                                                                                       chris rock excited get tylenol headache go  \n",
       "9                                                                                                                                                                        excited new president new  \n",
       "10                                                            available administer even seem be nt high demand rush curious percentage health care worker choose get nicholsforidaho idhw cdhidaho  \n",
       "11                                                                                                                                                                          got first dose excited  \n",
       "12                                                                                                                                got shoot today excite give other start monday mgh stopthespread  \n",
       "13                                                                                                                                                                   lockdown properly give chance  \n",
       "14                                                                                                                get first dose pfizer today wish luck scare excited like first time try anal sex  \n",
       "15                          moderna mrna covidvaccine publish result release really impressive datum term effectiveness excited see arm remote ltc community other soon calltoarm begreatvaccinate  \n",
       "16                                                                                                                                    listen mds affirm need informed consent around take untested  \n",
       "17                                                                                                                                                                omg omg omg get tomorrow excited  \n",
       "18                                                                       delay second dose right call say uks chief medical officersi totally experimental rush pfizer issue warn sage hell happen  \n",
       "19                                                                                                                      wrong excited technology injectthrough bandaid fact get first dose moderna  \n",
       "20                                                                                      customer mask talk tired stay inside also father turn get soon excite visit yet make enter pin cough sense  \n",
       "21                                                                                                              healthy person would take experimental month safety highly survivable virus beyond  \n",
       "22                                                              dad doctor gets dose soon ask feel expect excited relieve answer fine see sick patient ever expect even week due holiday gathering  \n",
       "23                                                                                                                            soldier die experimental anthrax die combat afghanistan iraq combine  \n",
       "24            number part know fact health minister pfizer insist old sick must inject live experimental drug advise old die crippled allergic reaction obvious removal main public state aim gate  \n",
       "25                                                   get positive next real mess unpleasant excited new year specially bcs reach nothing change there s sign come soon close none stuff worth year  \n",
       "26                                                                                                                                well mom getting shoot today man excite see kind super power get  \n",
       "27                                                                                 never excited shot moon receive first dose moderna covidvaccine feel thankful hopeful igottheshot cincychildren  \n",
       "28                                                                                          former fema operative celeste solum say gate say bioweapon fact virus exist justify virus decide think  \n",
       "29                                                                                                                                                      chris rock excited get tylenol headache go  \n",
       "30                                                                                                                                                                    kiss someone amelia st worry  \n",
       "31                                                                                        everyone say goodbye act excited quarantine argue money fight without end sight seem like much different  \n",
       "32                                                                                                  maybe get untested sooneri complete prevention clinical study volunteer registry questionnaire  \n",
       "33                                                                                                                                                    you re excited new yearyou need worry what s  \n",
       "34                                               excited receive news one first organisation take delivery new astra zeneca work tirelessly christmas set clinic start care home health care staff  \n",
       "35                                                                                                            excited schedule extremely proud promptly student prioritize upstatenews onondagacms  \n",
       "36                                                                                   longawaite lot excited get northeast colorado health department nchd excite administer help end pandemic read  \n",
       "37                                                    veteran heroes bravely serve we deserve quality care that s excited share resident staff member ilvetsaffair veteran home receive first dose  \n",
       "38                                                         super excited sister get first dose moderna behavioral therapist bcba kids autism go home kid since spring happy increase safety status  \n",
       "39  dr peter merkel director penn vasculitis centercoprincipal investigator vpprn receive dose excited become available everyone especially patient wvasculitis family wish world healthy new year  "
      ]
     },
     "execution_count": 42,
     "metadata": {},
     "output_type": "execute_result"
    }
   ],
   "source": [
    "df.head(40)"
   ]
  },
  {
   "cell_type": "markdown",
   "id": "638403d0",
   "metadata": {},
   "source": [
    "### Split data"
   ]
  },
  {
   "cell_type": "code",
   "execution_count": 20,
   "id": "4e95eb42",
   "metadata": {},
   "outputs": [],
   "source": [
    "X_train, X_test, y_train, y_test = train_test_split(df['clean_text'], df['is_misinfo'], test_size=.2, random_state=42)"
   ]
  },
  {
   "cell_type": "markdown",
   "id": "30294e17",
   "metadata": {},
   "source": [
    "### Bag of Words"
   ]
  },
  {
   "cell_type": "code",
   "execution_count": 21,
   "id": "6784c507",
   "metadata": {},
   "outputs": [],
   "source": [
    "max_feat = 9000\n",
    "cv = CountVectorizer(max_features = max_feat, ngram_range=(1,5), stop_words='english')"
   ]
  },
  {
   "cell_type": "code",
   "execution_count": 22,
   "id": "be121fea",
   "metadata": {},
   "outputs": [],
   "source": [
    "X_bow_train= cv.fit_transform(X_train)\n",
    "y_bow_train = y_train\n",
    "X_bow_test = cv.transform(X_test)\n",
    "y_bow_test = y_test"
   ]
  },
  {
   "cell_type": "code",
   "execution_count": 23,
   "id": "70923157",
   "metadata": {},
   "outputs": [
    {
     "data": {
      "text/plain": [
       "((10301, 9000), (2576, 9000))"
      ]
     },
     "execution_count": 23,
     "metadata": {},
     "output_type": "execute_result"
    }
   ],
   "source": [
    "X_bow_train.shape, X_bow_test.shape"
   ]
  },
  {
   "cell_type": "markdown",
   "id": "c3ee439b",
   "metadata": {},
   "source": [
    "### TF-IDF"
   ]
  },
  {
   "cell_type": "code",
   "execution_count": 24,
   "id": "6f436adb",
   "metadata": {},
   "outputs": [],
   "source": [
    "tf = TfidfVectorizer(max_features=9000, ngram_range=(1,5) ,stop_words='english')"
   ]
  },
  {
   "cell_type": "code",
   "execution_count": 25,
   "id": "00da7054",
   "metadata": {},
   "outputs": [],
   "source": [
    "X_tf_train= tf.fit_transform(X_train)\n",
    "y_tf_train = y_train\n",
    "X_tf_test = tf.transform(X_test)\n",
    "y_tf_test = y_test"
   ]
  },
  {
   "cell_type": "markdown",
   "id": "da5b024a",
   "metadata": {},
   "source": [
    "# 2.5 Baseline Models"
   ]
  },
  {
   "cell_type": "markdown",
   "id": "27dd46b3",
   "metadata": {},
   "source": [
    "### Random Guess"
   ]
  },
  {
   "cell_type": "code",
   "execution_count": 26,
   "id": "116975dd",
   "metadata": {},
   "outputs": [],
   "source": [
    "dc_freq = DummyClassifier(strategy = 'most_frequent')  \n",
    "dc_freq.fit(X_bow_train, y_bow_train)\n",
    "rand_pred_freq = dc_freq.predict(X_bow_test)"
   ]
  },
  {
   "cell_type": "code",
   "execution_count": 27,
   "id": "0c7a667b",
   "metadata": {},
   "outputs": [
    {
     "data": {
      "text/plain": [
       "0.6626552795031055"
      ]
     },
     "execution_count": 27,
     "metadata": {},
     "output_type": "execute_result"
    }
   ],
   "source": [
    "random_acc_freq = accuracy_score(y_bow_test, rand_pred_freq)  # doesn't matter if its bow or tf\n",
    "random_acc_freq"
   ]
  },
  {
   "cell_type": "code",
   "execution_count": 28,
   "id": "a0aa6bf0",
   "metadata": {},
   "outputs": [],
   "source": [
    "dc_strat = DummyClassifier(strategy = 'stratified')\n",
    "dc_strat.fit(X_bow_train, y_bow_train)\n",
    "rand_pred_strat = dc_strat.predict(X_bow_test)"
   ]
  },
  {
   "cell_type": "code",
   "execution_count": 29,
   "id": "28bfca08",
   "metadata": {},
   "outputs": [
    {
     "data": {
      "text/plain": [
       "0.5582298136645962"
      ]
     },
     "execution_count": 29,
     "metadata": {},
     "output_type": "execute_result"
    }
   ],
   "source": [
    "random_acc_strat = accuracy_score(y_bow_test, rand_pred_strat)  # doesn't matter if its bow or tf\n",
    "random_acc_strat"
   ]
  },
  {
   "cell_type": "markdown",
   "id": "d7a074bb",
   "metadata": {},
   "source": [
    "### Baseline accuracy according to dummy classifier"
   ]
  },
  {
   "cell_type": "code",
   "execution_count": 30,
   "id": "c4384b15",
   "metadata": {},
   "outputs": [
    {
     "data": {
      "text/html": [
       "<div>\n",
       "<style scoped>\n",
       "    .dataframe tbody tr th:only-of-type {\n",
       "        vertical-align: middle;\n",
       "    }\n",
       "\n",
       "    .dataframe tbody tr th {\n",
       "        vertical-align: top;\n",
       "    }\n",
       "\n",
       "    .dataframe thead th {\n",
       "        text-align: right;\n",
       "    }\n",
       "</style>\n",
       "<table border=\"1\" class=\"dataframe\">\n",
       "  <thead>\n",
       "    <tr style=\"text-align: right;\">\n",
       "      <th></th>\n",
       "      <th>Accuracy</th>\n",
       "    </tr>\n",
       "    <tr>\n",
       "      <th>Strategy</th>\n",
       "      <th></th>\n",
       "    </tr>\n",
       "  </thead>\n",
       "  <tbody>\n",
       "    <tr>\n",
       "      <th>most frequent</th>\n",
       "      <td>0.662655</td>\n",
       "    </tr>\n",
       "    <tr>\n",
       "      <th>stratified</th>\n",
       "      <td>0.558230</td>\n",
       "    </tr>\n",
       "  </tbody>\n",
       "</table>\n",
       "</div>"
      ],
      "text/plain": [
       "               Accuracy\n",
       "Strategy               \n",
       "most frequent  0.662655\n",
       "stratified     0.558230"
      ]
     },
     "execution_count": 30,
     "metadata": {},
     "output_type": "execute_result"
    }
   ],
   "source": [
    "# initialise data of lists.\n",
    "data = {'Strategy':['most frequent', 'stratified'],\n",
    "        'Accuracy':[random_acc_freq, random_acc_strat]}\n",
    " \n",
    "# Create DataFrame\n",
    "df_dc = pd.DataFrame(data)\n",
    " \n",
    "# Print the output.\n",
    "df_dc.set_index('Strategy')"
   ]
  },
  {
   "cell_type": "markdown",
   "id": "ae0f9551",
   "metadata": {},
   "source": [
    "# Metrics achieved by simple models"
   ]
  },
  {
   "cell_type": "code",
   "execution_count": 31,
   "id": "91371842",
   "metadata": {},
   "outputs": [],
   "source": [
    "from sklearn.model_selection import cross_validate\n",
    "from sklearn.linear_model import LogisticRegression\n",
    "from sklearn.naive_bayes import GaussianNB\n",
    "from sklearn.naive_bayes import BernoulliNB"
   ]
  },
  {
   "cell_type": "markdown",
   "id": "26ad85ba",
   "metadata": {},
   "source": [
    "### Metrics using BOW:"
   ]
  },
  {
   "cell_type": "code",
   "execution_count": 32,
   "id": "49679d80",
   "metadata": {},
   "outputs": [
    {
     "data": {
      "text/html": [
       "<div>\n",
       "<style scoped>\n",
       "    .dataframe tbody tr th:only-of-type {\n",
       "        vertical-align: middle;\n",
       "    }\n",
       "\n",
       "    .dataframe tbody tr th {\n",
       "        vertical-align: top;\n",
       "    }\n",
       "\n",
       "    .dataframe thead th {\n",
       "        text-align: right;\n",
       "    }\n",
       "</style>\n",
       "<table border=\"1\" class=\"dataframe\">\n",
       "  <thead>\n",
       "    <tr style=\"text-align: right;\">\n",
       "      <th></th>\n",
       "      <th>clf</th>\n",
       "      <th>Accuracy</th>\n",
       "      <th>Precision</th>\n",
       "      <th>Recall</th>\n",
       "    </tr>\n",
       "  </thead>\n",
       "  <tbody>\n",
       "    <tr>\n",
       "      <th>0</th>\n",
       "      <td>DummyClassifier</td>\n",
       "      <td>0.545092</td>\n",
       "      <td>0.350489</td>\n",
       "      <td>0.349688</td>\n",
       "    </tr>\n",
       "    <tr>\n",
       "      <th>1</th>\n",
       "      <td>RandomForestClassifier</td>\n",
       "      <td>0.970779</td>\n",
       "      <td>0.961765</td>\n",
       "      <td>0.954558</td>\n",
       "    </tr>\n",
       "    <tr>\n",
       "      <th>2</th>\n",
       "      <td>AdaBoostClassifier</td>\n",
       "      <td>0.966703</td>\n",
       "      <td>0.970891</td>\n",
       "      <td>0.932949</td>\n",
       "    </tr>\n",
       "    <tr>\n",
       "      <th>3</th>\n",
       "      <td>LogisticRegression</td>\n",
       "      <td>0.972430</td>\n",
       "      <td>0.978150</td>\n",
       "      <td>0.942367</td>\n",
       "    </tr>\n",
       "    <tr>\n",
       "      <th>4</th>\n",
       "      <td>GaussianNB</td>\n",
       "      <td>0.904184</td>\n",
       "      <td>0.925145</td>\n",
       "      <td>0.790524</td>\n",
       "    </tr>\n",
       "    <tr>\n",
       "      <th>5</th>\n",
       "      <td>BernoulliNB</td>\n",
       "      <td>0.938259</td>\n",
       "      <td>0.972049</td>\n",
       "      <td>0.848163</td>\n",
       "    </tr>\n",
       "  </tbody>\n",
       "</table>\n",
       "</div>"
      ],
      "text/plain": [
       "                      clf  Accuracy  Precision    Recall\n",
       "0         DummyClassifier  0.545092   0.350489  0.349688\n",
       "1  RandomForestClassifier  0.970779   0.961765  0.954558\n",
       "2      AdaBoostClassifier  0.966703   0.970891  0.932949\n",
       "3      LogisticRegression  0.972430   0.978150  0.942367\n",
       "4              GaussianNB  0.904184   0.925145  0.790524\n",
       "5             BernoulliNB  0.938259   0.972049  0.848163"
      ]
     },
     "execution_count": 32,
     "metadata": {},
     "output_type": "execute_result"
    }
   ],
   "source": [
    "clfs = [DummyClassifier(strategy = 'stratified'),\n",
    "        RandomForestClassifier(), \n",
    "       AdaBoostClassifier(),\n",
    "       LogisticRegression(),\n",
    "       GaussianNB(),\n",
    "        BernoulliNB()\n",
    "       ]\n",
    "res_df = pd.DataFrame(columns=['clf', 'Accuracy', 'Precision', 'Recall'])\n",
    "for clf in clfs:\n",
    "    scoring = ['accuracy', 'precision', 'recall']\n",
    "    final_score = cross_validate(clf, X_bow_train.toarray(), y_bow_train, cv=5, scoring=scoring)\n",
    "    res_df = res_df.append({'clf':clf.__class__.__name__, \n",
    "                            'Accuracy':final_score['test_accuracy'].mean(),\n",
    "                           'Precision':final_score['test_precision'].mean(),\n",
    "                           'Recall':final_score['test_recall'].mean()}, ignore_index=True)\n",
    "res_df"
   ]
  },
  {
   "cell_type": "code",
   "execution_count": 33,
   "id": "024b3557",
   "metadata": {},
   "outputs": [
    {
     "data": {
      "image/png": "[encoded data removed]",
      "text/plain": [
       "<Figure size 1080x360 with 1 Axes>"
      ]
     },
     "metadata": {},
     "output_type": "display_data"
    }
   ],
   "source": [
    "res_df.plot.bar(rot=0, figsize=(15,5))\n",
    "plt.xticks([0, 1, 2, 3, 4, 5], res_df.clf)\n",
    "plt.legend(loc=(1.02, 0.8))\n",
    "plt.title('Metrics attained using BOW CountVectorizer', fontsize=16)\n",
    "plt.show()"
   ]
  },
  {
   "cell_type": "markdown",
   "id": "be0734bb",
   "metadata": {},
   "source": [
    "### Metrics using TF-IDF"
   ]
  },
  {
   "cell_type": "code",
   "execution_count": 34,
   "id": "36a3af37",
   "metadata": {},
   "outputs": [
    {
     "data": {
      "text/html": [
       "<div>\n",
       "<style scoped>\n",
       "    .dataframe tbody tr th:only-of-type {\n",
       "        vertical-align: middle;\n",
       "    }\n",
       "\n",
       "    .dataframe tbody tr th {\n",
       "        vertical-align: top;\n",
       "    }\n",
       "\n",
       "    .dataframe thead th {\n",
       "        text-align: right;\n",
       "    }\n",
       "</style>\n",
       "<table border=\"1\" class=\"dataframe\">\n",
       "  <thead>\n",
       "    <tr style=\"text-align: right;\">\n",
       "      <th></th>\n",
       "      <th>clf</th>\n",
       "      <th>Accuracy</th>\n",
       "      <th>Precision</th>\n",
       "      <th>Recall</th>\n",
       "    </tr>\n",
       "  </thead>\n",
       "  <tbody>\n",
       "    <tr>\n",
       "      <th>0</th>\n",
       "      <td>DummyClassifier</td>\n",
       "      <td>0.544121</td>\n",
       "      <td>0.348412</td>\n",
       "      <td>0.346909</td>\n",
       "    </tr>\n",
       "    <tr>\n",
       "      <th>1</th>\n",
       "      <td>RandomForestClassifier</td>\n",
       "      <td>0.970682</td>\n",
       "      <td>0.962288</td>\n",
       "      <td>0.953728</td>\n",
       "    </tr>\n",
       "    <tr>\n",
       "      <th>2</th>\n",
       "      <td>AdaBoostClassifier</td>\n",
       "      <td>0.964955</td>\n",
       "      <td>0.970987</td>\n",
       "      <td>0.927686</td>\n",
       "    </tr>\n",
       "    <tr>\n",
       "      <th>3</th>\n",
       "      <td>LogisticRegression</td>\n",
       "      <td>0.968352</td>\n",
       "      <td>0.972934</td>\n",
       "      <td>0.935718</td>\n",
       "    </tr>\n",
       "    <tr>\n",
       "      <th>4</th>\n",
       "      <td>GaussianNB</td>\n",
       "      <td>0.897195</td>\n",
       "      <td>0.888072</td>\n",
       "      <td>0.808535</td>\n",
       "    </tr>\n",
       "    <tr>\n",
       "      <th>5</th>\n",
       "      <td>BernoulliNB</td>\n",
       "      <td>0.938259</td>\n",
       "      <td>0.972049</td>\n",
       "      <td>0.848163</td>\n",
       "    </tr>\n",
       "  </tbody>\n",
       "</table>\n",
       "</div>"
      ],
      "text/plain": [
       "                      clf  Accuracy  Precision    Recall\n",
       "0         DummyClassifier  0.544121   0.348412  0.346909\n",
       "1  RandomForestClassifier  0.970682   0.962288  0.953728\n",
       "2      AdaBoostClassifier  0.964955   0.970987  0.927686\n",
       "3      LogisticRegression  0.968352   0.972934  0.935718\n",
       "4              GaussianNB  0.897195   0.888072  0.808535\n",
       "5             BernoulliNB  0.938259   0.972049  0.848163"
      ]
     },
     "execution_count": 34,
     "metadata": {},
     "output_type": "execute_result"
    }
   ],
   "source": [
    "clfs = [DummyClassifier(strategy = 'stratified'),\n",
    "        RandomForestClassifier(), \n",
    "        AdaBoostClassifier(),\n",
    "        LogisticRegression(),\n",
    "        GaussianNB(),\n",
    "        BernoulliNB()\n",
    "       ]\n",
    "res_df_tf = pd.DataFrame(columns=['clf', 'Accuracy', 'Precision', 'Recall'])\n",
    "for clf in clfs:\n",
    "    scoring = ['accuracy', 'precision', 'recall']\n",
    "    final_score = cross_validate(clf, X_tf_train.toarray(), y_tf_train, cv=5, scoring=scoring)\n",
    "    res_df_tf = res_df_tf.append({'clf':clf.__class__.__name__, \n",
    "                            'Accuracy':final_score['test_accuracy'].mean(),\n",
    "                           'Precision':final_score['test_precision'].mean(),\n",
    "                           'Recall':final_score['test_recall'].mean()}, ignore_index=True)\n",
    "res_df_tf"
   ]
  },
  {
   "cell_type": "code",
   "execution_count": 35,
   "id": "26b319f2",
   "metadata": {},
   "outputs": [
    {
     "data": {
      "image/png": "[encoded data removed]",
      "text/plain": [
       "<Figure size 1080x360 with 1 Axes>"
      ]
     },
     "metadata": {},
     "output_type": "display_data"
    }
   ],
   "source": [
    "res_df.plot.bar(rot=0, figsize=(15,5))\n",
    "plt.xticks([0, 1, 2, 3, 4, 5], res_df.clf)\n",
    "plt.legend(loc=(1.02, 0.8))\n",
    "plt.title('Metrics attained using TfidfVectorizer', fontsize=16)\n",
    "plt.show()"
   ]
  },
  {
   "cell_type": "markdown",
   "id": "66f62cd9",
   "metadata": {},
   "source": [
    "### The metrics are pretty much the same using BOW or TF-IDF vectorization. Since I would prefer having higher recall > precision, I would select Random Forest classifier as my go-to model. \n"
   ]
  },
  {
   "cell_type": "markdown",
   "id": "51d3c806",
   "metadata": {},
   "source": [
    "### Saving a Random Forest Classifier Model for deployment using Docker\n"
   ]
  },
  {
   "cell_type": "code",
   "execution_count": 36,
   "id": "dd228517",
   "metadata": {},
   "outputs": [],
   "source": [
    "rf_clf = RandomForestClassifier()"
   ]
  },
  {
   "cell_type": "code",
   "execution_count": 37,
   "id": "22b85409",
   "metadata": {},
   "outputs": [
    {
     "data": {
      "text/plain": [
       "0.9700995840458256"
      ]
     },
     "execution_count": 37,
     "metadata": {},
     "output_type": "execute_result"
    }
   ],
   "source": [
    "final_score = cross_validate(rf_clf, X_tf_train.toarray(), y_tf_train, cv=5, scoring='accuracy')\n",
    "final_score['test_score'].mean()"
   ]
  },
  {
   "cell_type": "code",
   "execution_count": 38,
   "id": "522bc2ea",
   "metadata": {},
   "outputs": [
    {
     "data": {
      "text/plain": [
       "0.9743788819875776"
      ]
     },
     "execution_count": 38,
     "metadata": {},
     "output_type": "execute_result"
    }
   ],
   "source": [
    "rf_clf.fit(X_tf_train.toarray(), y_tf_train)\n",
    "pred = rf_clf.predict(X_tf_test.toarray())\n",
    "rf_clf.score(X_tf_test.toarray(), y_tf_test)"
   ]
  },
  {
   "cell_type": "code",
   "execution_count": 39,
   "id": "3261d5c0",
   "metadata": {},
   "outputs": [
    {
     "data": {
      "text/plain": [
       "array([[1.        , 0.        ],\n",
       "       [0.07      , 0.93      ],\n",
       "       [1.        , 0.        ],\n",
       "       ...,\n",
       "       [0.01      , 0.99      ],\n",
       "       [0.83327562, 0.16672438],\n",
       "       [1.        , 0.        ]])"
      ]
     },
     "execution_count": 39,
     "metadata": {},
     "output_type": "execute_result"
    }
   ],
   "source": [
    "pred_proba = rf_clf.predict_proba(X_tf_test.toarray())\n",
    "pred_proba"
   ]
  },
  {
   "cell_type": "code",
   "execution_count": 40,
   "id": "cb4ffe68",
   "metadata": {},
   "outputs": [],
   "source": [
    "import pickle\n",
    "filename = 'rf_model.pkl'\n",
    "pickle.dump(rf_clf, open(filename, 'wb'))"
   ]
  },
  {
   "cell_type": "code",
   "execution_count": 41,
   "id": "e7c37282",
   "metadata": {},
   "outputs": [],
   "source": [
    "filename1 = 'tf.pkl'\n",
    "pickle.dump(tf, open(filename1, 'wb'))"
   ]
  },
  {
   "cell_type": "code",
   "execution_count": 46,
   "id": "b79bff3d",
   "metadata": {},
   "outputs": [
    {
     "data": {
      "text/plain": [
       "<2576x9000 sparse matrix of type '<class 'numpy.float64'>'\n",
       "\twith 27825 stored elements in Compressed Sparse Row format>"
      ]
     },
     "execution_count": 46,
     "metadata": {},
     "output_type": "execute_result"
    }
   ],
   "source": [
    "X_tf_test"
   ]
  },
  {
   "cell_type": "code",
   "execution_count": null,
   "id": "e0a71bce",
   "metadata": {},
   "outputs": [],
   "source": []
  }
 ],
 "metadata": {
  "kernelspec": {
   "display_name": "Python 3",
   "language": "python",
   "name": "python3"
  },
  "language_info": {
   "codemirror_mode": {
    "name": "ipython",
    "version": 3
   },
   "file_extension": ".py",
   "mimetype": "text/x-python",
   "name": "python",
   "nbconvert_exporter": "python",
   "pygments_lexer": "ipython3",
   "version": "3.8.8"
  }
 },
 "nbformat": 4,
 "nbformat_minor": 5
}
