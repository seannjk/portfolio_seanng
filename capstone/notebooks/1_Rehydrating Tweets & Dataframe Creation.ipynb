{
 "cells": [
  {
   "cell_type": "markdown",
   "id": "eb2b9684",
   "metadata": {},
   "source": [
    "# 1.1 Import Libraries"
   ]
  },
  {
   "cell_type": "code",
   "execution_count": 1,
   "id": "27e611c8",
   "metadata": {},
   "outputs": [
    {
     "name": "stdout",
     "output_type": "stream",
     "text": [
      "Library Setup Complete.\n"
     ]
    }
   ],
   "source": [
    "import numpy as np # linear algebra\n",
    "import pandas as pd # data processing, CSV file I/O (e.g. pd.read_csv)\n",
    "import re\n",
    "import string\n",
    "import matplotlib.pyplot as plt\n",
    "plt.rc('figure',figsize=(17,13))\n",
    "import seaborn as sns\n",
    "sns.set_style('darkgrid')\n",
    "\n",
    "pd.options.display.max_rows = 999\n",
    "pd.options.display.max_columns = 999\n",
    "pd.options.display.max_colwidth = 999\n",
    "\n",
    "import warnings\n",
    "warnings.filterwarnings(\"ignore\")\n",
    "print(\"Library Setup Complete.\")"
   ]
  },
  {
   "cell_type": "markdown",
   "id": "7977a09c",
   "metadata": {},
   "source": [
    "# 1.2 Merging Dataframes"
   ]
  },
  {
   "cell_type": "markdown",
   "id": "451b4f3c",
   "metadata": {},
   "source": [
    "Here, we will import two dataframes:\n",
    "- dataframe consisting of rehydrated tweets and ID, but without misinformation labels \n",
    "- dataframe consisting only of ID and misinformation labels"
   ]
  },
  {
   "cell_type": "code",
   "execution_count": 2,
   "id": "a1965c67",
   "metadata": {},
   "outputs": [],
   "source": [
    "df_withoutlabel = pd.read_excel('../Dataset/final_antivax.xlsx')"
   ]
  },
  {
   "cell_type": "code",
   "execution_count": 3,
   "id": "0204e644",
   "metadata": {},
   "outputs": [],
   "source": [
    "labels = pd.read_excel('../Dataset/Untitled spreadsheet copy.xlsx')"
   ]
  },
  {
   "cell_type": "code",
   "execution_count": 4,
   "id": "3c252c32",
   "metadata": {},
   "outputs": [
    {
     "name": "stdout",
     "output_type": "stream",
     "text": [
      "<class 'pandas.core.frame.DataFrame'>\n",
      "RangeIndex: 12989 entries, 0 to 12988\n",
      "Data columns (total 23 columns):\n",
      " #   Column                      Non-Null Count  Dtype  \n",
      "---  ------                      --------------  -----  \n",
      " 0   created_at                  12989 non-null  object \n",
      " 1   hashtags                    3565 non-null   object \n",
      " 2   favorite_count              12989 non-null  int64  \n",
      " 3   id                          12989 non-null  int64  \n",
      " 4   lang                        12989 non-null  object \n",
      " 5   possibly_sensitive          5577 non-null   float64\n",
      " 6   retweet_count               12989 non-null  int64  \n",
      " 7   source                      12989 non-null  object \n",
      " 8   text                        12989 non-null  object \n",
      " 9   tweet_url                   12989 non-null  object \n",
      " 10  user_created_at             12989 non-null  object \n",
      " 11  user_id                     12989 non-null  int64  \n",
      " 12  user_default_profile_image  12989 non-null  bool   \n",
      " 13  user_description            11849 non-null  object \n",
      " 14  user_favourites_count       12989 non-null  int64  \n",
      " 15  user_followers_count        12989 non-null  int64  \n",
      " 16  user_friends_count          12989 non-null  int64  \n",
      " 17  user_listed_count           12989 non-null  int64  \n",
      " 18  user_location               9526 non-null   object \n",
      " 19  user_name                   12987 non-null  object \n",
      " 20  user_screen_name            12989 non-null  object \n",
      " 21  user_statuses_count         12989 non-null  int64  \n",
      " 22  user_verified               12989 non-null  bool   \n",
      "dtypes: bool(2), float64(1), int64(9), object(11)\n",
      "memory usage: 2.1+ MB\n"
     ]
    }
   ],
   "source": [
    "df_withoutlabel.info()"
   ]
  },
  {
   "cell_type": "code",
   "execution_count": 5,
   "id": "2b1dddbc",
   "metadata": {},
   "outputs": [
    {
     "name": "stdout",
     "output_type": "stream",
     "text": [
      "<class 'pandas.core.frame.DataFrame'>\n",
      "RangeIndex: 15070 entries, 0 to 15069\n",
      "Data columns (total 2 columns):\n",
      " #   Column      Non-Null Count  Dtype\n",
      "---  ------      --------------  -----\n",
      " 0   id          15070 non-null  int64\n",
      " 1   is_misinfo  15070 non-null  int64\n",
      "dtypes: int64(2)\n",
      "memory usage: 235.6 KB\n"
     ]
    }
   ],
   "source": [
    "labels.info()"
   ]
  },
  {
   "cell_type": "code",
   "execution_count": 6,
   "id": "95fc78f5",
   "metadata": {},
   "outputs": [],
   "source": [
    "df = pd.merge(df_withoutlabel, labels, on='id')#merge df_withoutlabel and labels dataframe on 'id' to create complete dataframe"
   ]
  },
  {
   "cell_type": "code",
   "execution_count": 7,
   "id": "0fa45fa7",
   "metadata": {},
   "outputs": [
    {
     "name": "stdout",
     "output_type": "stream",
     "text": [
      "<class 'pandas.core.frame.DataFrame'>\n",
      "Int64Index: 12989 entries, 0 to 12988\n",
      "Data columns (total 24 columns):\n",
      " #   Column                      Non-Null Count  Dtype  \n",
      "---  ------                      --------------  -----  \n",
      " 0   created_at                  12989 non-null  object \n",
      " 1   hashtags                    3565 non-null   object \n",
      " 2   favorite_count              12989 non-null  int64  \n",
      " 3   id                          12989 non-null  int64  \n",
      " 4   lang                        12989 non-null  object \n",
      " 5   possibly_sensitive          5577 non-null   float64\n",
      " 6   retweet_count               12989 non-null  int64  \n",
      " 7   source                      12989 non-null  object \n",
      " 8   text                        12989 non-null  object \n",
      " 9   tweet_url                   12989 non-null  object \n",
      " 10  user_created_at             12989 non-null  object \n",
      " 11  user_id                     12989 non-null  int64  \n",
      " 12  user_default_profile_image  12989 non-null  bool   \n",
      " 13  user_description            11849 non-null  object \n",
      " 14  user_favourites_count       12989 non-null  int64  \n",
      " 15  user_followers_count        12989 non-null  int64  \n",
      " 16  user_friends_count          12989 non-null  int64  \n",
      " 17  user_listed_count           12989 non-null  int64  \n",
      " 18  user_location               9526 non-null   object \n",
      " 19  user_name                   12987 non-null  object \n",
      " 20  user_screen_name            12989 non-null  object \n",
      " 21  user_statuses_count         12989 non-null  int64  \n",
      " 22  user_verified               12989 non-null  bool   \n",
      " 23  is_misinfo                  12989 non-null  int64  \n",
      "dtypes: bool(2), float64(1), int64(10), object(11)\n",
      "memory usage: 2.3+ MB\n"
     ]
    }
   ],
   "source": [
    "df.info() #merge successful!"
   ]
  },
  {
   "cell_type": "markdown",
   "id": "aab30069",
   "metadata": {},
   "source": [
    "# 1.3 Saving new dataframe"
   ]
  },
  {
   "cell_type": "code",
   "execution_count": 8,
   "id": "e3b690b2",
   "metadata": {},
   "outputs": [],
   "source": [
    "df.to_csv('../Dataset/rehydrated_tweets_with_misinfo_label.csv')"
   ]
  },
  {
   "cell_type": "markdown",
   "id": "9c542d0e",
   "metadata": {},
   "source": [
    "# 1.4 Missing Values"
   ]
  },
  {
   "cell_type": "code",
   "execution_count": 9,
   "id": "1fb58639",
   "metadata": {
    "scrolled": true
   },
   "outputs": [
    {
     "data": {
      "text/plain": [
       "created_at                       0\n",
       "hashtags                      9424\n",
       "favorite_count                   0\n",
       "id                               0\n",
       "lang                             0\n",
       "possibly_sensitive            7412\n",
       "retweet_count                    0\n",
       "source                           0\n",
       "text                             0\n",
       "tweet_url                        0\n",
       "user_created_at                  0\n",
       "user_id                          0\n",
       "user_default_profile_image       0\n",
       "user_description              1140\n",
       "user_favourites_count            0\n",
       "user_followers_count             0\n",
       "user_friends_count               0\n",
       "user_listed_count                0\n",
       "user_location                 3463\n",
       "user_name                        2\n",
       "user_screen_name                 0\n",
       "user_statuses_count              0\n",
       "user_verified                    0\n",
       "is_misinfo                       0\n",
       "dtype: int64"
      ]
     },
     "execution_count": 9,
     "metadata": {},
     "output_type": "execute_result"
    }
   ],
   "source": [
    "df.isna().sum() # Checking the number of missing values in each columns"
   ]
  },
  {
   "cell_type": "markdown",
   "id": "8147016f",
   "metadata": {},
   "source": [
    "### 1.4.1 Hashtags"
   ]
  },
  {
   "cell_type": "code",
   "execution_count": 10,
   "id": "51aaa08a",
   "metadata": {},
   "outputs": [
    {
     "data": {
      "text/plain": [
       "0                                          NaN\n",
       "1                               417fightscovid\n",
       "2                                          NaN\n",
       "3                                  StandStrong\n",
       "4                                          NaN\n",
       "5                                  Idaho covid\n",
       "6                    VaccinesWork sciencebitch\n",
       "7                                          NaN\n",
       "8                                          NaN\n",
       "9                                          NaN\n",
       "10                                       covid\n",
       "11                                         NaN\n",
       "12                           MGH stopthespread\n",
       "13                                    lockdown\n",
       "14                                         NaN\n",
       "15    Covidvaccine CalltoArms BeGreatVaccinate\n",
       "16                                         NaN\n",
       "17                                         NaN\n",
       "18                                         NaN\n",
       "19                                         NaN\n",
       "Name: hashtags, dtype: object"
      ]
     },
     "execution_count": 10,
     "metadata": {},
     "output_type": "execute_result"
    }
   ],
   "source": [
    "df['hashtags'].head(20) #Checking what kind of hashtags are there"
   ]
  },
  {
   "cell_type": "markdown",
   "id": "1c51e980",
   "metadata": {},
   "source": [
    "There are many missing values in the columns 'hashtags'. We will replace null values with NA. "
   ]
  },
  {
   "cell_type": "code",
   "execution_count": 11,
   "id": "5bb66e69",
   "metadata": {},
   "outputs": [],
   "source": [
    "df['hashtags']= df['hashtags'].replace(np.nan, 'NA') "
   ]
  },
  {
   "cell_type": "markdown",
   "id": "b4ea2f09",
   "metadata": {},
   "source": [
    "### 1.4.2 Possibly_Sensitive\n",
    "- Possibly_sensitive here is a field which will only surface when a tweet contains a link. The meaning of the field doesn’t pertain to the tweet content itself, but instead it is an indicator that the URL contained in the tweet may contain content or media identified as sensitive content"
   ]
  },
  {
   "cell_type": "code",
   "execution_count": 12,
   "id": "adb92b32",
   "metadata": {
    "scrolled": false
   },
   "outputs": [
    {
     "data": {
      "text/plain": [
       "7412"
      ]
     },
     "execution_count": 12,
     "metadata": {},
     "output_type": "execute_result"
    }
   ],
   "source": [
    "df['possibly_sensitive'].isnull().sum()"
   ]
  },
  {
   "cell_type": "markdown",
   "id": "4069d58f",
   "metadata": {},
   "source": [
    "- Given that there are many missing values, and the column itself may not be useful. We may drop it! "
   ]
  },
  {
   "cell_type": "code",
   "execution_count": 13,
   "id": "1cb846d1",
   "metadata": {},
   "outputs": [],
   "source": [
    "df = df.drop(columns=['possibly_sensitive'])"
   ]
  },
  {
   "cell_type": "code",
   "execution_count": 14,
   "id": "da3cd8ec",
   "metadata": {},
   "outputs": [
    {
     "name": "stdout",
     "output_type": "stream",
     "text": [
      "<class 'pandas.core.frame.DataFrame'>\n",
      "Int64Index: 12989 entries, 0 to 12988\n",
      "Data columns (total 23 columns):\n",
      " #   Column                      Non-Null Count  Dtype \n",
      "---  ------                      --------------  ----- \n",
      " 0   created_at                  12989 non-null  object\n",
      " 1   hashtags                    12989 non-null  object\n",
      " 2   favorite_count              12989 non-null  int64 \n",
      " 3   id                          12989 non-null  int64 \n",
      " 4   lang                        12989 non-null  object\n",
      " 5   retweet_count               12989 non-null  int64 \n",
      " 6   source                      12989 non-null  object\n",
      " 7   text                        12989 non-null  object\n",
      " 8   tweet_url                   12989 non-null  object\n",
      " 9   user_created_at             12989 non-null  object\n",
      " 10  user_id                     12989 non-null  int64 \n",
      " 11  user_default_profile_image  12989 non-null  bool  \n",
      " 12  user_description            11849 non-null  object\n",
      " 13  user_favourites_count       12989 non-null  int64 \n",
      " 14  user_followers_count        12989 non-null  int64 \n",
      " 15  user_friends_count          12989 non-null  int64 \n",
      " 16  user_listed_count           12989 non-null  int64 \n",
      " 17  user_location               9526 non-null   object\n",
      " 18  user_name                   12987 non-null  object\n",
      " 19  user_screen_name            12989 non-null  object\n",
      " 20  user_statuses_count         12989 non-null  int64 \n",
      " 21  user_verified               12989 non-null  bool  \n",
      " 22  is_misinfo                  12989 non-null  int64 \n",
      "dtypes: bool(2), int64(10), object(11)\n",
      "memory usage: 2.2+ MB\n"
     ]
    }
   ],
   "source": [
    "df.info()"
   ]
  },
  {
   "cell_type": "markdown",
   "id": "03c32c15",
   "metadata": {},
   "source": [
    "### 1.4.3 User Description"
   ]
  },
  {
   "cell_type": "code",
   "execution_count": 15,
   "id": "94c0a325",
   "metadata": {},
   "outputs": [],
   "source": [
    "null_columns=df.columns[df.isnull().any()]"
   ]
  },
  {
   "cell_type": "code",
   "execution_count": 16,
   "id": "20bfd1dc",
   "metadata": {},
   "outputs": [
    {
     "data": {
      "text/plain": [
       "1140"
      ]
     },
     "execution_count": 16,
     "metadata": {},
     "output_type": "execute_result"
    }
   ],
   "source": [
    "df['user_description'].isnull().sum()"
   ]
  },
  {
   "cell_type": "markdown",
   "id": "53a6adb8",
   "metadata": {},
   "source": [
    "- We will replace null values with NA since some profiles may not have a user description"
   ]
  },
  {
   "cell_type": "code",
   "execution_count": 17,
   "id": "d0e2edda",
   "metadata": {},
   "outputs": [],
   "source": [
    "df['user_description']= df['user_description'].replace(np.nan, 'NA') "
   ]
  },
  {
   "cell_type": "markdown",
   "id": "270c2a42",
   "metadata": {},
   "source": [
    "### 1.4.4 User Location"
   ]
  },
  {
   "cell_type": "code",
   "execution_count": 18,
   "id": "eed9542b",
   "metadata": {
    "scrolled": false
   },
   "outputs": [
    {
     "data": {
      "text/plain": [
       "0                     Washington, DC\n",
       "1                    Springfield, Mo\n",
       "2                      Maryland, USA\n",
       "3                                NaN\n",
       "4                 Your mom's bedroom\n",
       "5           United States Of America\n",
       "6        Columbia University, NY, US\n",
       "7                 Virgo Supercluster\n",
       "8                                NaN\n",
       "9                      Nashville, TN\n",
       "10          United States Of America\n",
       "11                               NaN\n",
       "12                           Toronto\n",
       "13            Wirral, United Kingdom\n",
       "14                             Idaho\n",
       "15                  Toronto, Ontario\n",
       "16                    London,England\n",
       "17                               NaN\n",
       "18               South West, England\n",
       "19                               NaN\n",
       "20                  none ya business\n",
       "21                     Greenwood, SC\n",
       "22    Eno, Shakori & Skaruhreh Land \n",
       "23      Niagara-on-the-Lake, Ontario\n",
       "24                               NaN\n",
       "25          Poitou-Charentes, France\n",
       "26                               NaN\n",
       "27                    Cincinnati, OH\n",
       "28                               NaN\n",
       "29                      New York, NY\n",
       "Name: user_location, dtype: object"
      ]
     },
     "execution_count": 18,
     "metadata": {},
     "output_type": "execute_result"
    }
   ],
   "source": [
    "df['user_location'].head(30)"
   ]
  },
  {
   "cell_type": "markdown",
   "id": "64e8d669",
   "metadata": {},
   "source": [
    "- We will replace null values with NA since some profiles may not have a user description"
   ]
  },
  {
   "cell_type": "code",
   "execution_count": 19,
   "id": "40176a64",
   "metadata": {},
   "outputs": [],
   "source": [
    "df['user_location']= df['user_location'].replace(np.nan, 'NA') "
   ]
  },
  {
   "cell_type": "markdown",
   "id": "ea40b336",
   "metadata": {},
   "source": [
    "### 1.4.5 User name"
   ]
  },
  {
   "cell_type": "code",
   "execution_count": 20,
   "id": "1054299c",
   "metadata": {
    "scrolled": true
   },
   "outputs": [
    {
     "data": {
      "text/html": [
       "<div>\n",
       "<style scoped>\n",
       "    .dataframe tbody tr th:only-of-type {\n",
       "        vertical-align: middle;\n",
       "    }\n",
       "\n",
       "    .dataframe tbody tr th {\n",
       "        vertical-align: top;\n",
       "    }\n",
       "\n",
       "    .dataframe thead th {\n",
       "        text-align: right;\n",
       "    }\n",
       "</style>\n",
       "<table border=\"1\" class=\"dataframe\">\n",
       "  <thead>\n",
       "    <tr style=\"text-align: right;\">\n",
       "      <th></th>\n",
       "      <th>created_at</th>\n",
       "      <th>hashtags</th>\n",
       "      <th>favorite_count</th>\n",
       "      <th>id</th>\n",
       "      <th>lang</th>\n",
       "      <th>retweet_count</th>\n",
       "      <th>source</th>\n",
       "      <th>text</th>\n",
       "      <th>tweet_url</th>\n",
       "      <th>user_created_at</th>\n",
       "      <th>user_id</th>\n",
       "      <th>user_default_profile_image</th>\n",
       "      <th>user_description</th>\n",
       "      <th>user_favourites_count</th>\n",
       "      <th>user_followers_count</th>\n",
       "      <th>user_friends_count</th>\n",
       "      <th>user_listed_count</th>\n",
       "      <th>user_location</th>\n",
       "      <th>user_name</th>\n",
       "      <th>user_screen_name</th>\n",
       "      <th>user_statuses_count</th>\n",
       "      <th>user_verified</th>\n",
       "      <th>is_misinfo</th>\n",
       "    </tr>\n",
       "  </thead>\n",
       "  <tbody>\n",
       "    <tr>\n",
       "      <th>1266</th>\n",
       "      <td>Fri Dec 25 00:13:57 +0000 2020</td>\n",
       "      <td>NA</td>\n",
       "      <td>10</td>\n",
       "      <td>1342262267484794886</td>\n",
       "      <td>en</td>\n",
       "      <td>1</td>\n",
       "      <td>&lt;a href=\"http://twitter.com/download/iphone\" rel=\"nofollow\"&gt;Twitter for iPhone&lt;/a&gt;</td>\n",
       "      <td>If you’ve ever held my hand you do not need to worry about what’s in the vaccine</td>\n",
       "      <td>https://twitter.com/TravisnBurns/status/1342262267484794886</td>\n",
       "      <td>Tue Apr 17 15:52:15 +0000 2012</td>\n",
       "      <td>556154139</td>\n",
       "      <td>False</td>\n",
       "      <td>finesser professor</td>\n",
       "      <td>3300</td>\n",
       "      <td>279</td>\n",
       "      <td>502</td>\n",
       "      <td>0</td>\n",
       "      <td>NA</td>\n",
       "      <td>NaN</td>\n",
       "      <td>TravisnBurns</td>\n",
       "      <td>2060</td>\n",
       "      <td>False</td>\n",
       "      <td>0</td>\n",
       "    </tr>\n",
       "    <tr>\n",
       "      <th>12290</th>\n",
       "      <td>Fri Jul 09 19:33:39 +0000 2021</td>\n",
       "      <td>NA</td>\n",
       "      <td>0</td>\n",
       "      <td>1413582137383657474</td>\n",
       "      <td>en</td>\n",
       "      <td>1</td>\n",
       "      <td>&lt;a href=\"https://mobile.twitter.com\" rel=\"nofollow\"&gt;Twitter Web App&lt;/a&gt;</td>\n",
       "      <td>@RecoveringLibe9's account is temporarily unavailable because it violates the Twitter Media Policy. Learn more.</td>\n",
       "      <td>https://twitter.com/RecoveringLibe9/status/1413582137383657474</td>\n",
       "      <td>Tue Jun 22 01:57:24 +0000 2021</td>\n",
       "      <td>1407155663063617537</td>\n",
       "      <td>False</td>\n",
       "      <td>@RecoveringLibe9's account is temporarily unavailable because it violates the Twitter Media Policy. Learn more.</td>\n",
       "      <td>971</td>\n",
       "      <td>102</td>\n",
       "      <td>519</td>\n",
       "      <td>0</td>\n",
       "      <td>NA</td>\n",
       "      <td>NaN</td>\n",
       "      <td>RecoveringLibe9</td>\n",
       "      <td>2565</td>\n",
       "      <td>False</td>\n",
       "      <td>1</td>\n",
       "    </tr>\n",
       "  </tbody>\n",
       "</table>\n",
       "</div>"
      ],
      "text/plain": [
       "                           created_at hashtags  favorite_count  \\\n",
       "1266   Fri Dec 25 00:13:57 +0000 2020       NA              10   \n",
       "12290  Fri Jul 09 19:33:39 +0000 2021       NA               0   \n",
       "\n",
       "                        id lang  retweet_count  \\\n",
       "1266   1342262267484794886   en              1   \n",
       "12290  1413582137383657474   en              1   \n",
       "\n",
       "                                                                                   source  \\\n",
       "1266   <a href=\"http://twitter.com/download/iphone\" rel=\"nofollow\">Twitter for iPhone</a>   \n",
       "12290             <a href=\"https://mobile.twitter.com\" rel=\"nofollow\">Twitter Web App</a>   \n",
       "\n",
       "                                                                                                                  text  \\\n",
       "1266                                  If you’ve ever held my hand you do not need to worry about what’s in the vaccine   \n",
       "12290  @RecoveringLibe9's account is temporarily unavailable because it violates the Twitter Media Policy. Learn more.   \n",
       "\n",
       "                                                            tweet_url  \\\n",
       "1266      https://twitter.com/TravisnBurns/status/1342262267484794886   \n",
       "12290  https://twitter.com/RecoveringLibe9/status/1413582137383657474   \n",
       "\n",
       "                      user_created_at              user_id  \\\n",
       "1266   Tue Apr 17 15:52:15 +0000 2012            556154139   \n",
       "12290  Tue Jun 22 01:57:24 +0000 2021  1407155663063617537   \n",
       "\n",
       "       user_default_profile_image  \\\n",
       "1266                        False   \n",
       "12290                       False   \n",
       "\n",
       "                                                                                                      user_description  \\\n",
       "1266                                                                                                finesser professor   \n",
       "12290  @RecoveringLibe9's account is temporarily unavailable because it violates the Twitter Media Policy. Learn more.   \n",
       "\n",
       "       user_favourites_count  user_followers_count  user_friends_count  \\\n",
       "1266                    3300                   279                 502   \n",
       "12290                    971                   102                 519   \n",
       "\n",
       "       user_listed_count user_location user_name user_screen_name  \\\n",
       "1266                   0            NA       NaN     TravisnBurns   \n",
       "12290                  0            NA       NaN  RecoveringLibe9   \n",
       "\n",
       "       user_statuses_count  user_verified  is_misinfo  \n",
       "1266                  2060          False           0  \n",
       "12290                 2565          False           1  "
      ]
     },
     "execution_count": 20,
     "metadata": {},
     "output_type": "execute_result"
    }
   ],
   "source": [
    "df[df['user_name'].isnull()]"
   ]
  },
  {
   "cell_type": "markdown",
   "id": "5db1d212",
   "metadata": {},
   "source": [
    "- Text does not seem relevant. Will remove these two entries."
   ]
  },
  {
   "cell_type": "code",
   "execution_count": 21,
   "id": "ae4ba25f",
   "metadata": {},
   "outputs": [],
   "source": [
    "df.dropna(subset = [\"user_name\"], inplace=True)"
   ]
  },
  {
   "cell_type": "markdown",
   "id": "d7591887",
   "metadata": {},
   "source": [
    "### 1.4.5 Check all fields"
   ]
  },
  {
   "cell_type": "code",
   "execution_count": 22,
   "id": "d67e180f",
   "metadata": {},
   "outputs": [
    {
     "data": {
      "text/plain": [
       "created_at                    0\n",
       "hashtags                      0\n",
       "favorite_count                0\n",
       "id                            0\n",
       "lang                          0\n",
       "retweet_count                 0\n",
       "source                        0\n",
       "text                          0\n",
       "tweet_url                     0\n",
       "user_created_at               0\n",
       "user_id                       0\n",
       "user_default_profile_image    0\n",
       "user_description              0\n",
       "user_favourites_count         0\n",
       "user_followers_count          0\n",
       "user_friends_count            0\n",
       "user_listed_count             0\n",
       "user_location                 0\n",
       "user_name                     0\n",
       "user_screen_name              0\n",
       "user_statuses_count           0\n",
       "user_verified                 0\n",
       "is_misinfo                    0\n",
       "dtype: int64"
      ]
     },
     "execution_count": 22,
     "metadata": {},
     "output_type": "execute_result"
    }
   ],
   "source": [
    "df.isnull().sum()"
   ]
  },
  {
   "cell_type": "code",
   "execution_count": 23,
   "id": "fac54223",
   "metadata": {},
   "outputs": [],
   "source": [
    "df.reset_index(drop=True, inplace=True)"
   ]
  },
  {
   "cell_type": "markdown",
   "id": "e70689c0",
   "metadata": {},
   "source": [
    "# 1.5 Removing Columns"
   ]
  },
  {
   "cell_type": "code",
   "execution_count": 24,
   "id": "372f893c",
   "metadata": {},
   "outputs": [],
   "source": [
    "df = df.drop(columns=['hashtags', 'id', 'lang', 'tweet_url', \n",
    "                      'user_created_at','user_id', 'user_default_profile_image',\n",
    "                      'user_description', 'user_favourites_count', 'user_listed_count',\n",
    "                     'user_location', 'user_name', 'user_screen_name', 'user_statuses_count'\n",
    "                     ,'user_verified', 'user_followers_count', 'user_friends_count', 'favorite_count',\n",
    "                     'retweet_count', 'source', 'created_at'])"
   ]
  },
  {
   "cell_type": "code",
   "execution_count": 25,
   "id": "a7a3a5c5",
   "metadata": {
    "scrolled": true
   },
   "outputs": [
    {
     "data": {
      "text/plain": [
       "Index(['text', 'is_misinfo'], dtype='object')"
      ]
     },
     "execution_count": 25,
     "metadata": {},
     "output_type": "execute_result"
    }
   ],
   "source": [
    "df.columns #left 8 columns after dropping all the unnecessary columns"
   ]
  },
  {
   "cell_type": "code",
   "execution_count": 26,
   "id": "083f3998",
   "metadata": {
    "scrolled": true
   },
   "outputs": [
    {
     "data": {
      "text/html": [
       "<div>\n",
       "<style scoped>\n",
       "    .dataframe tbody tr th:only-of-type {\n",
       "        vertical-align: middle;\n",
       "    }\n",
       "\n",
       "    .dataframe tbody tr th {\n",
       "        vertical-align: top;\n",
       "    }\n",
       "\n",
       "    .dataframe thead th {\n",
       "        text-align: right;\n",
       "    }\n",
       "</style>\n",
       "<table border=\"1\" class=\"dataframe\">\n",
       "  <thead>\n",
       "    <tr style=\"text-align: right;\">\n",
       "      <th></th>\n",
       "      <th>text</th>\n",
       "      <th>is_misinfo</th>\n",
       "    </tr>\n",
       "  </thead>\n",
       "  <tbody>\n",
       "    <tr>\n",
       "      <th>0</th>\n",
       "      <td>My 87 year old grandmother has been quarantining in her Florida house for close to a year. She was so excited to go to @CityDaytona to get her COVID vaccine next week, only to find out @CountyOfVolusia only has 2000 doses spread out over 2 days. For a county of 500,000+. 1/3</td>\n",
       "      <td>0</td>\n",
       "    </tr>\n",
       "    <tr>\n",
       "      <th>1</th>\n",
       "      <td>I’m so excited that with this vaccine I can see the day where we get back to the work of thanking and celebrating (in person and face to face) all the amazing work our healthcare heroes do every day. I’m very ready to throw our “Pandemic is over” party! #417fightscovid https://t.co/T7O6ypn8Ax</td>\n",
       "      <td>0</td>\n",
       "    </tr>\n",
       "    <tr>\n",
       "      <th>2</th>\n",
       "      <td>So excited that I was able to close out 2020 on a positive note with getting the first dose of the COVID-19 vaccine! https://t.co/Y1mSXVPBMD</td>\n",
       "      <td>0</td>\n",
       "    </tr>\n",
       "    <tr>\n",
       "      <th>3</th>\n",
       "      <td>Well, it happened. My daughter used my grandchildren to try to guilt me in to taking the vaccine for the CCP bioweapon. Satan is disguised in so many forms. Be on your guard...even when it feels like your heart is being ripped out. #StandStrong 🙏🏾</td>\n",
       "      <td>1</td>\n",
       "    </tr>\n",
       "    <tr>\n",
       "      <th>4</th>\n",
       "      <td>I’m getting my COVID-19 vaccine, baby! I’m so fucking excited!</td>\n",
       "      <td>0</td>\n",
       "    </tr>\n",
       "  </tbody>\n",
       "</table>\n",
       "</div>"
      ],
      "text/plain": [
       "                                                                                                                                                                                                                                                                                                    text  \\\n",
       "0                    My 87 year old grandmother has been quarantining in her Florida house for close to a year. She was so excited to go to @CityDaytona to get her COVID vaccine next week, only to find out @CountyOfVolusia only has 2000 doses spread out over 2 days. For a county of 500,000+. 1/3   \n",
       "1  I’m so excited that with this vaccine I can see the day where we get back to the work of thanking and celebrating (in person and face to face) all the amazing work our healthcare heroes do every day. I’m very ready to throw our “Pandemic is over” party! #417fightscovid https://t.co/T7O6ypn8Ax   \n",
       "2                                                                                                                                                           So excited that I was able to close out 2020 on a positive note with getting the first dose of the COVID-19 vaccine! https://t.co/Y1mSXVPBMD   \n",
       "3                                                Well, it happened. My daughter used my grandchildren to try to guilt me in to taking the vaccine for the CCP bioweapon. Satan is disguised in so many forms. Be on your guard...even when it feels like your heart is being ripped out. #StandStrong 🙏🏾   \n",
       "4                                                                                                                                                                                                                                         I’m getting my COVID-19 vaccine, baby! I’m so fucking excited!   \n",
       "\n",
       "   is_misinfo  \n",
       "0           0  \n",
       "1           0  \n",
       "2           0  \n",
       "3           1  \n",
       "4           0  "
      ]
     },
     "execution_count": 26,
     "metadata": {},
     "output_type": "execute_result"
    }
   ],
   "source": [
    "df.head()"
   ]
  },
  {
   "cell_type": "markdown",
   "id": "badde721",
   "metadata": {},
   "source": [
    "# 1.7 Drop Duplicates"
   ]
  },
  {
   "cell_type": "code",
   "execution_count": 27,
   "id": "9d6b18a6",
   "metadata": {},
   "outputs": [
    {
     "name": "stdout",
     "output_type": "stream",
     "text": [
      "12987\n"
     ]
    }
   ],
   "source": [
    "print(len(df))"
   ]
  },
  {
   "cell_type": "code",
   "execution_count": 28,
   "id": "5675b7ab",
   "metadata": {},
   "outputs": [],
   "source": [
    "df = df.drop_duplicates('text', keep='last')"
   ]
  },
  {
   "cell_type": "code",
   "execution_count": 29,
   "id": "15fbdcf6",
   "metadata": {},
   "outputs": [
    {
     "name": "stdout",
     "output_type": "stream",
     "text": [
      "12877\n"
     ]
    }
   ],
   "source": [
    "print(len(df))"
   ]
  },
  {
   "cell_type": "markdown",
   "id": "77396e8f",
   "metadata": {},
   "source": [
    "# 1.8 Saving dataframe"
   ]
  },
  {
   "cell_type": "code",
   "execution_count": null,
   "id": "8f586189",
   "metadata": {},
   "outputs": [],
   "source": [
    "df.to_csv('../Dataset/cleaned_dataset.csv')"
   ]
  }
 ],
 "metadata": {
  "kernelspec": {
   "display_name": "Python 3",
   "language": "python",
   "name": "python3"
  },
  "language_info": {
   "codemirror_mode": {
    "name": "ipython",
    "version": 3
   },
   "file_extension": ".py",
   "mimetype": "text/x-python",
   "name": "python",
   "nbconvert_exporter": "python",
   "pygments_lexer": "ipython3",
   "version": "3.8.8"
  }
 },
 "nbformat": 4,
 "nbformat_minor": 5
}
